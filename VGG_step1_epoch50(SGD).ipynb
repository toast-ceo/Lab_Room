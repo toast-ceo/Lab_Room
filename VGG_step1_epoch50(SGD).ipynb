{
  "nbformat": 4,
  "nbformat_minor": 0,
  "metadata": {
    "colab": {
      "name": "Untitled0.ipynb",
      "provenance": [],
      "collapsed_sections": [],
      "authorship_tag": "ABX9TyPKhIaYV6sS5GsemkGz3vJj",
      "include_colab_link": true
    },
    "kernelspec": {
      "name": "python3",
      "display_name": "Python 3"
    },
    "language_info": {
      "name": "python"
    }
  },
  "cells": [
    {
      "cell_type": "markdown",
      "metadata": {
        "id": "view-in-github",
        "colab_type": "text"
      },
      "source": [
        "<a href=\"https://colab.research.google.com/github/toast-ceo/Lab_Room/blob/main/VGG_step1_epoch50(SGD).ipynb\" target=\"_parent\"><img src=\"https://colab.research.google.com/assets/colab-badge.svg\" alt=\"Open In Colab\"/></a>"
      ]
    },
    {
      "cell_type": "code",
      "metadata": {
        "id": "ODuFRZq56L6O",
        "colab": {
          "base_uri": "https://localhost:8080/"
        },
        "outputId": "7e21d495-0707-42e0-edda-1ffb0aabf71f"
      },
      "source": [
        "# vgg 19 훈련\n",
        "\n",
        "from google.colab import drive\n",
        "drive.mount('face550_step')\n",
        "import tensorflow as tf\n",
        "import numpy as np\n",
        "import keras\n",
        "import cv2\n",
        "\n",
        "from keras.applications.vgg19 import VGG19\n",
        "from keras.models import Sequential\n",
        "from keras.layers import Dense\n",
        "from keras.layers import Flatten\n",
        "from keras.layers.convolutional import Conv2D\n",
        "from keras.layers.convolutional import MaxPooling2D\n",
        "from keras.preprocessing.image import ImageDataGenerator\n",
        "from sklearn.model_selection import train_test_split\n"
      ],
      "execution_count": 1,
      "outputs": [
        {
          "output_type": "stream",
          "text": [
            "Mounted at face550_step\n"
          ],
          "name": "stdout"
        }
      ]
    },
    {
      "cell_type": "code",
      "metadata": {
        "colab": {
          "base_uri": "https://localhost:8080/"
        },
        "id": "kpmX7B5g6j9T",
        "outputId": "4db04d59-4ef9-40ca-bc75-72e4f276743e"
      },
      "source": [
        "numberOfClass = 30\n",
        "pictureWeightHeightSize = 224\n",
        "\n",
        "train_datagen = ImageDataGenerator(rescale=1./255)\n",
        "\n",
        "train_generator = train_datagen.flow_from_directory(\n",
        "        '/content/face550_step/MyDrive/face550_step/step1_train/',\n",
        "        target_size=(pictureWeightHeightSize, pictureWeightHeightSize),\n",
        "        batch_size=numberOfClass,\n",
        "        class_mode='categorical')\n",
        "\n",
        "test_datagen = ImageDataGenerator(rescale=1./255)\n",
        "\n",
        "test_generator = test_datagen.flow_from_directory(\n",
        "        '/content/face550_step/MyDrive/face550_step/step1_test/',\n",
        "        target_size=(pictureWeightHeightSize, pictureWeightHeightSize),    \n",
        "        batch_size=numberOfClass,\n",
        "        class_mode='categorical')"
      ],
      "execution_count": 2,
      "outputs": [
        {
          "output_type": "stream",
          "text": [
            "Found 50 images belonging to 5 classes.\n",
            "Found 10 images belonging to 5 classes.\n"
          ],
          "name": "stdout"
        }
      ]
    },
    {
      "cell_type": "code",
      "metadata": {
        "id": "JsYYeRQ5r8hQ"
      },
      "source": [
        "input_layer = tf.keras.layers.Input(shape=(224, 224, 3))\n",
        "\n",
        "vgg_block01 = tf.keras.layers.Conv2D(64 , (3,3), padding= 'SAME', activation=\"relu\")(input_layer)\n",
        "vgg_block01 = tf.keras.layers.Conv2D(64 , (3,3), padding= 'SAME', activation=\"relu\")(vgg_block01)\n",
        "vgg_block01 = tf.keras.layers.MaxPool2D((2,2))(vgg_block01)\n",
        "\n",
        "\n",
        "vgg_block02 = tf.keras.layers.Conv2D(128 , (3,3), padding= 'SAME', activation=\"relu\")(vgg_block01)\n",
        "vgg_block02 = tf.keras.layers.Conv2D(128, (3,3), padding= 'SAME', activation=\"relu\")(vgg_block02)\n",
        "vgg_block02 = tf.keras.layers.MaxPool2D((2,2))(vgg_block02)\n",
        "\n",
        "\n",
        "vgg_block03 = tf.keras.layers.Conv2D(256, (3,3), padding= 'SAME', activation=\"relu\")(vgg_block02)\n",
        "vgg_block03 = tf.keras.layers.Conv2D(256, (3,3), padding= 'SAME', activation=\"relu\")(vgg_block03)\n",
        "vgg_block03 = tf.keras.layers.Conv2D(256, (3,3), padding= 'SAME', activation=\"relu\")(vgg_block03)\n",
        "vgg_block03 = tf.keras.layers.MaxPool2D((2,2))(vgg_block03)\n",
        "\n",
        "vgg_block04 = tf.keras.layers.Conv2D(512, (3,3), padding= 'SAME', activation=\"relu\")(vgg_block03)\n",
        "vgg_block04 = tf.keras.layers.Conv2D(512, (3,3), padding= 'SAME', activation=\"relu\")(vgg_block04)\n",
        "vgg_block04 = tf.keras.layers.Conv2D(512, (3,3), padding= 'SAME', activation=\"relu\")(vgg_block04)\n",
        "vgg_block04 = tf.keras.layers.MaxPool2D((2,2))(vgg_block04)\n",
        "\n",
        "vgg_block05 = tf.keras.layers.Conv2D(512, (3,3), padding= 'SAME', activation=\"relu\")(vgg_block04)\n",
        "vgg_block05 = tf.keras.layers.Conv2D(512, (3,3), padding= 'SAME', activation=\"relu\")(vgg_block05)\n",
        "vgg_block05 = tf.keras.layers.Conv2D(512, (3,3), padding= 'SAME', activation=\"relu\")(vgg_block05)\n",
        "vgg_block05 = tf.keras.layers.MaxPool2D((2,2))(vgg_block05)\n"
      ],
      "execution_count": 3,
      "outputs": []
    },
    {
      "cell_type": "code",
      "metadata": {
        "id": "NOYfQLnnsBHg"
      },
      "source": [
        "flatten = tf.keras.layers.Flatten()(vgg_block05)\n",
        "dense01 = tf.keras.layers.Dense(512, activation='relu')(flatten)\n",
        "output = tf.keras.layers.Dense(5, activation='softmax')(dense01)"
      ],
      "execution_count": 4,
      "outputs": []
    },
    {
      "cell_type": "code",
      "metadata": {
        "id": "hD1UWBZosJzA"
      },
      "source": [
        "\n",
        "model = tf.keras.models.Model(input_layer, output)\n"
      ],
      "execution_count": 5,
      "outputs": []
    },
    {
      "cell_type": "code",
      "metadata": {
        "colab": {
          "base_uri": "https://localhost:8080/"
        },
        "id": "1HQyxSaOsLB4",
        "outputId": "7d504a4d-19e3-4c81-e120-bffbf4a5a565"
      },
      "source": [
        "model.compile(optimizer='SGD', loss='categorical_crossentropy', metrics=['accuracy'])\n",
        "model.summary()"
      ],
      "execution_count": 6,
      "outputs": [
        {
          "output_type": "stream",
          "text": [
            "Model: \"model\"\n",
            "_________________________________________________________________\n",
            "Layer (type)                 Output Shape              Param #   \n",
            "=================================================================\n",
            "input_1 (InputLayer)         [(None, 224, 224, 3)]     0         \n",
            "_________________________________________________________________\n",
            "conv2d (Conv2D)              (None, 224, 224, 64)      1792      \n",
            "_________________________________________________________________\n",
            "conv2d_1 (Conv2D)            (None, 224, 224, 64)      36928     \n",
            "_________________________________________________________________\n",
            "max_pooling2d (MaxPooling2D) (None, 112, 112, 64)      0         \n",
            "_________________________________________________________________\n",
            "conv2d_2 (Conv2D)            (None, 112, 112, 128)     73856     \n",
            "_________________________________________________________________\n",
            "conv2d_3 (Conv2D)            (None, 112, 112, 128)     147584    \n",
            "_________________________________________________________________\n",
            "max_pooling2d_1 (MaxPooling2 (None, 56, 56, 128)       0         \n",
            "_________________________________________________________________\n",
            "conv2d_4 (Conv2D)            (None, 56, 56, 256)       295168    \n",
            "_________________________________________________________________\n",
            "conv2d_5 (Conv2D)            (None, 56, 56, 256)       590080    \n",
            "_________________________________________________________________\n",
            "conv2d_6 (Conv2D)            (None, 56, 56, 256)       590080    \n",
            "_________________________________________________________________\n",
            "max_pooling2d_2 (MaxPooling2 (None, 28, 28, 256)       0         \n",
            "_________________________________________________________________\n",
            "conv2d_7 (Conv2D)            (None, 28, 28, 512)       1180160   \n",
            "_________________________________________________________________\n",
            "conv2d_8 (Conv2D)            (None, 28, 28, 512)       2359808   \n",
            "_________________________________________________________________\n",
            "conv2d_9 (Conv2D)            (None, 28, 28, 512)       2359808   \n",
            "_________________________________________________________________\n",
            "max_pooling2d_3 (MaxPooling2 (None, 14, 14, 512)       0         \n",
            "_________________________________________________________________\n",
            "conv2d_10 (Conv2D)           (None, 14, 14, 512)       2359808   \n",
            "_________________________________________________________________\n",
            "conv2d_11 (Conv2D)           (None, 14, 14, 512)       2359808   \n",
            "_________________________________________________________________\n",
            "conv2d_12 (Conv2D)           (None, 14, 14, 512)       2359808   \n",
            "_________________________________________________________________\n",
            "max_pooling2d_4 (MaxPooling2 (None, 7, 7, 512)         0         \n",
            "_________________________________________________________________\n",
            "flatten (Flatten)            (None, 25088)             0         \n",
            "_________________________________________________________________\n",
            "dense (Dense)                (None, 512)               12845568  \n",
            "_________________________________________________________________\n",
            "dense_1 (Dense)              (None, 5)                 2565      \n",
            "=================================================================\n",
            "Total params: 27,562,821\n",
            "Trainable params: 27,562,821\n",
            "Non-trainable params: 0\n",
            "_________________________________________________________________\n"
          ],
          "name": "stdout"
        }
      ]
    },
    {
      "cell_type": "code",
      "metadata": {
        "colab": {
          "base_uri": "https://localhost:8080/"
        },
        "id": "5SnVZrW6sOOI",
        "outputId": "660e99f9-8285-478a-c87f-aace4551d801"
      },
      "source": [
        "model.fit(train_generator, epochs=50, validation_data=test_generator)"
      ],
      "execution_count": 7,
      "outputs": [
        {
          "output_type": "stream",
          "text": [
            "Epoch 1/50\n",
            "2/2 [==============================] - 77s 35s/step - loss: 1.6094 - accuracy: 0.2000 - val_loss: 1.6093 - val_accuracy: 0.2000\n",
            "Epoch 2/50\n",
            "2/2 [==============================] - 70s 43s/step - loss: 1.6088 - accuracy: 0.4000 - val_loss: 1.6092 - val_accuracy: 0.4000\n",
            "Epoch 3/50\n",
            "2/2 [==============================] - 70s 43s/step - loss: 1.6079 - accuracy: 0.5400 - val_loss: 1.6091 - val_accuracy: 0.4000\n",
            "Epoch 4/50\n",
            "2/2 [==============================] - 69s 43s/step - loss: 1.6080 - accuracy: 0.2800 - val_loss: 1.6091 - val_accuracy: 0.4000\n",
            "Epoch 5/50\n",
            "2/2 [==============================] - 70s 43s/step - loss: 1.6073 - accuracy: 0.6200 - val_loss: 1.6090 - val_accuracy: 0.4000\n",
            "Epoch 6/50\n",
            "2/2 [==============================] - 70s 30s/step - loss: 1.6070 - accuracy: 0.7000 - val_loss: 1.6091 - val_accuracy: 0.4000\n",
            "Epoch 7/50\n",
            "2/2 [==============================] - 70s 43s/step - loss: 1.6069 - accuracy: 0.4800 - val_loss: 1.6090 - val_accuracy: 0.4000\n",
            "Epoch 8/50\n",
            "2/2 [==============================] - 70s 43s/step - loss: 1.6064 - accuracy: 0.6000 - val_loss: 1.6090 - val_accuracy: 0.4000\n",
            "Epoch 9/50\n",
            "2/2 [==============================] - 71s 30s/step - loss: 1.6062 - accuracy: 1.0000 - val_loss: 1.6090 - val_accuracy: 0.2000\n",
            "Epoch 10/50\n",
            "2/2 [==============================] - 70s 30s/step - loss: 1.6059 - accuracy: 0.8000 - val_loss: 1.6089 - val_accuracy: 0.2000\n",
            "Epoch 11/50\n",
            "2/2 [==============================] - 70s 43s/step - loss: 1.6055 - accuracy: 1.0000 - val_loss: 1.6089 - val_accuracy: 0.2000\n",
            "Epoch 12/50\n",
            "2/2 [==============================] - 71s 43s/step - loss: 1.6059 - accuracy: 0.5800 - val_loss: 1.6089 - val_accuracy: 0.2000\n",
            "Epoch 13/50\n",
            "2/2 [==============================] - 70s 30s/step - loss: 1.6053 - accuracy: 0.7600 - val_loss: 1.6090 - val_accuracy: 0.2000\n",
            "Epoch 14/50\n",
            "2/2 [==============================] - 70s 30s/step - loss: 1.6050 - accuracy: 0.8400 - val_loss: 1.6089 - val_accuracy: 0.2000\n",
            "Epoch 15/50\n",
            "2/2 [==============================] - 70s 43s/step - loss: 1.6056 - accuracy: 0.5000 - val_loss: 1.6089 - val_accuracy: 0.2000\n",
            "Epoch 16/50\n",
            "2/2 [==============================] - 70s 30s/step - loss: 1.6048 - accuracy: 0.8400 - val_loss: 1.6088 - val_accuracy: 0.0000e+00\n",
            "Epoch 17/50\n",
            "2/2 [==============================] - 70s 30s/step - loss: 1.6047 - accuracy: 0.5600 - val_loss: 1.6088 - val_accuracy: 0.4000\n",
            "Epoch 18/50\n",
            "2/2 [==============================] - 70s 43s/step - loss: 1.6047 - accuracy: 0.5200 - val_loss: 1.6088 - val_accuracy: 0.0000e+00\n",
            "Epoch 19/50\n",
            "2/2 [==============================] - 69s 43s/step - loss: 1.6037 - accuracy: 0.8000 - val_loss: 1.6087 - val_accuracy: 0.2000\n",
            "Epoch 20/50\n",
            "2/2 [==============================] - 69s 42s/step - loss: 1.6033 - accuracy: 0.6600 - val_loss: 1.6087 - val_accuracy: 0.2000\n",
            "Epoch 21/50\n",
            "2/2 [==============================] - 68s 29s/step - loss: 1.6031 - accuracy: 0.6800 - val_loss: 1.6087 - val_accuracy: 0.4000\n",
            "Epoch 22/50\n",
            "2/2 [==============================] - 69s 42s/step - loss: 1.6028 - accuracy: 0.8400 - val_loss: 1.6087 - val_accuracy: 0.4000\n",
            "Epoch 23/50\n",
            "2/2 [==============================] - 68s 29s/step - loss: 1.6026 - accuracy: 0.8000 - val_loss: 1.6086 - val_accuracy: 0.4000\n",
            "Epoch 24/50\n",
            "2/2 [==============================] - 69s 43s/step - loss: 1.6025 - accuracy: 0.6000 - val_loss: 1.6086 - val_accuracy: 0.2000\n",
            "Epoch 25/50\n",
            "2/2 [==============================] - 70s 44s/step - loss: 1.6032 - accuracy: 0.5400 - val_loss: 1.6086 - val_accuracy: 0.4000\n",
            "Epoch 26/50\n",
            "2/2 [==============================] - 70s 43s/step - loss: 1.6020 - accuracy: 0.8000 - val_loss: 1.6085 - val_accuracy: 0.4000\n",
            "Epoch 27/50\n",
            "2/2 [==============================] - 70s 43s/step - loss: 1.6025 - accuracy: 0.6200 - val_loss: 1.6085 - val_accuracy: 0.4000\n",
            "Epoch 28/50\n",
            "2/2 [==============================] - 70s 30s/step - loss: 1.6012 - accuracy: 0.8000 - val_loss: 1.6084 - val_accuracy: 0.4000\n",
            "Epoch 29/50\n",
            "2/2 [==============================] - 70s 43s/step - loss: 1.6022 - accuracy: 0.6600 - val_loss: 1.6083 - val_accuracy: 0.4000\n",
            "Epoch 30/50\n",
            "2/2 [==============================] - 69s 43s/step - loss: 1.6004 - accuracy: 0.8000 - val_loss: 1.6083 - val_accuracy: 0.4000\n",
            "Epoch 31/50\n",
            "2/2 [==============================] - 69s 43s/step - loss: 1.6007 - accuracy: 0.6800 - val_loss: 1.6082 - val_accuracy: 0.4000\n",
            "Epoch 32/50\n",
            "2/2 [==============================] - 70s 30s/step - loss: 1.5999 - accuracy: 0.8000 - val_loss: 1.6082 - val_accuracy: 0.4000\n",
            "Epoch 33/50\n",
            "2/2 [==============================] - 68s 42s/step - loss: 1.6002 - accuracy: 0.8200 - val_loss: 1.6082 - val_accuracy: 0.4000\n",
            "Epoch 34/50\n",
            "2/2 [==============================] - 68s 42s/step - loss: 1.5993 - accuracy: 0.6400 - val_loss: 1.6082 - val_accuracy: 0.4000\n",
            "Epoch 35/50\n",
            "2/2 [==============================] - 67s 42s/step - loss: 1.5996 - accuracy: 0.5800 - val_loss: 1.6081 - val_accuracy: 0.4000\n",
            "Epoch 36/50\n",
            "2/2 [==============================] - 68s 42s/step - loss: 1.5984 - accuracy: 1.0000 - val_loss: 1.6080 - val_accuracy: 0.2000\n",
            "Epoch 37/50\n",
            "2/2 [==============================] - 68s 42s/step - loss: 1.5988 - accuracy: 0.7800 - val_loss: 1.6080 - val_accuracy: 0.3000\n",
            "Epoch 38/50\n",
            "2/2 [==============================] - 67s 29s/step - loss: 1.5981 - accuracy: 1.0000 - val_loss: 1.6080 - val_accuracy: 0.4000\n",
            "Epoch 39/50\n",
            "2/2 [==============================] - 67s 41s/step - loss: 1.5972 - accuracy: 0.8000 - val_loss: 1.6079 - val_accuracy: 0.4000\n",
            "Epoch 40/50\n",
            "2/2 [==============================] - 68s 29s/step - loss: 1.5965 - accuracy: 0.8000 - val_loss: 1.6078 - val_accuracy: 0.4000\n",
            "Epoch 41/50\n",
            "2/2 [==============================] - 67s 41s/step - loss: 1.5974 - accuracy: 0.7600 - val_loss: 1.6078 - val_accuracy: 0.2000\n",
            "Epoch 42/50\n",
            "2/2 [==============================] - 68s 29s/step - loss: 1.5965 - accuracy: 0.9000 - val_loss: 1.6077 - val_accuracy: 0.4000\n",
            "Epoch 43/50\n",
            "2/2 [==============================] - 69s 29s/step - loss: 1.5954 - accuracy: 0.8000 - val_loss: 1.6075 - val_accuracy: 0.2000\n",
            "Epoch 44/50\n",
            "2/2 [==============================] - 69s 43s/step - loss: 1.5947 - accuracy: 0.7400 - val_loss: 1.6075 - val_accuracy: 0.4000\n",
            "Epoch 45/50\n",
            "2/2 [==============================] - 69s 42s/step - loss: 1.5942 - accuracy: 0.7400 - val_loss: 1.6074 - val_accuracy: 0.2000\n",
            "Epoch 46/50\n",
            "2/2 [==============================] - 69s 43s/step - loss: 1.5936 - accuracy: 0.7200 - val_loss: 1.6073 - val_accuracy: 0.2000\n",
            "Epoch 47/50\n",
            "2/2 [==============================] - 69s 42s/step - loss: 1.5931 - accuracy: 0.9800 - val_loss: 1.6072 - val_accuracy: 0.4000\n",
            "Epoch 48/50\n",
            "2/2 [==============================] - 69s 29s/step - loss: 1.5918 - accuracy: 1.0000 - val_loss: 1.6070 - val_accuracy: 0.4000\n",
            "Epoch 49/50\n",
            "2/2 [==============================] - 69s 30s/step - loss: 1.5912 - accuracy: 1.0000 - val_loss: 1.6070 - val_accuracy: 0.4000\n",
            "Epoch 50/50\n",
            "2/2 [==============================] - 69s 42s/step - loss: 1.5909 - accuracy: 0.8200 - val_loss: 1.6068 - val_accuracy: 0.3000\n"
          ],
          "name": "stdout"
        },
        {
          "output_type": "execute_result",
          "data": {
            "text/plain": [
              "<tensorflow.python.keras.callbacks.History at 0x7f0e57b7e390>"
            ]
          },
          "metadata": {
            "tags": []
          },
          "execution_count": 7
        }
      ]
    },
    {
      "cell_type": "code",
      "metadata": {
        "colab": {
          "base_uri": "https://localhost:8080/"
        },
        "id": "LFv-MPjc6r7H",
        "outputId": "c45d4119-d940-4423-9fa9-9fb7703649c2"
      },
      "source": [
        "print(\"-- Evaluate --\")\n",
        "scores = model.evaluate(test_generator)\n",
        "print(\"%s: %.2f%%\" %(model.metrics_names[1], scores[1]*100))"
      ],
      "execution_count": 8,
      "outputs": [
        {
          "output_type": "stream",
          "text": [
            "-- Evaluate --\n",
            "1/1 [==============================] - 3s 3s/step - loss: 1.6068 - accuracy: 0.3000\n",
            "accuracy: 30.00%\n"
          ],
          "name": "stdout"
        }
      ]
    },
    {
      "cell_type": "code",
      "metadata": {
        "colab": {
          "base_uri": "https://localhost:8080/"
        },
        "id": "E2CapNMx61Xt",
        "outputId": "daf8ca0e-474e-4686-adda-0c0ae2aecd9f"
      },
      "source": [
        "print(\"-- Predict --\")\n",
        "output = model.predict(test_generator)\n",
        "np.set_printoptions(formatter={'float': lambda x: \"{0:0.3f}\".format(x)})\n",
        "print(test_generator.class_indices)\n",
        "print(output)"
      ],
      "execution_count": 9,
      "outputs": [
        {
          "output_type": "stream",
          "text": [
            "-- Predict --\n",
            "{'0': 0, '1': 1, '2': 2, '3': 3, '4': 4}\n",
            "[[0.202 0.197 0.200 0.203 0.199]\n",
            " [0.201 0.197 0.200 0.203 0.199]\n",
            " [0.202 0.197 0.200 0.203 0.199]\n",
            " [0.201 0.197 0.200 0.201 0.200]\n",
            " [0.201 0.197 0.200 0.202 0.200]\n",
            " [0.201 0.197 0.200 0.202 0.200]\n",
            " [0.201 0.197 0.200 0.203 0.199]\n",
            " [0.202 0.199 0.199 0.198 0.202]\n",
            " [0.202 0.199 0.199 0.198 0.202]\n",
            " [0.201 0.197 0.200 0.201 0.200]]\n"
          ],
          "name": "stdout"
        }
      ]
    },
    {
      "cell_type": "code",
      "metadata": {
        "colab": {
          "base_uri": "https://localhost:8080/"
        },
        "id": "tgpq2mw87JUN",
        "outputId": "85a92945-2c72-479d-dea0-3a7a78e72d50"
      },
      "source": [
        "for i in range(0, 10):\n",
        "  print(\"Result:\", i+1)\n",
        "  print(output[i])\n",
        "  print(\"\\n\")"
      ],
      "execution_count": 10,
      "outputs": [
        {
          "output_type": "stream",
          "text": [
            "Result: 1\n",
            "[0.202 0.197 0.200 0.203 0.199]\n",
            "\n",
            "\n",
            "Result: 2\n",
            "[0.201 0.197 0.200 0.203 0.199]\n",
            "\n",
            "\n",
            "Result: 3\n",
            "[0.202 0.197 0.200 0.203 0.199]\n",
            "\n",
            "\n",
            "Result: 4\n",
            "[0.201 0.197 0.200 0.201 0.200]\n",
            "\n",
            "\n",
            "Result: 5\n",
            "[0.201 0.197 0.200 0.202 0.200]\n",
            "\n",
            "\n",
            "Result: 6\n",
            "[0.201 0.197 0.200 0.202 0.200]\n",
            "\n",
            "\n",
            "Result: 7\n",
            "[0.201 0.197 0.200 0.203 0.199]\n",
            "\n",
            "\n",
            "Result: 8\n",
            "[0.202 0.199 0.199 0.198 0.202]\n",
            "\n",
            "\n",
            "Result: 9\n",
            "[0.202 0.199 0.199 0.198 0.202]\n",
            "\n",
            "\n",
            "Result: 10\n",
            "[0.201 0.197 0.200 0.201 0.200]\n",
            "\n",
            "\n"
          ],
          "name": "stdout"
        }
      ]
    }
  ]
}