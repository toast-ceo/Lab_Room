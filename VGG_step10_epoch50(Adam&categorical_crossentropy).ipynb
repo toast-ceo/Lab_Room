{
  "nbformat": 4,
  "nbformat_minor": 0,
  "metadata": {
    "colab": {
      "name": "VGG_step10_epoch50.ipynb",
      "provenance": [],
      "collapsed_sections": [],
      "authorship_tag": "ABX9TyMfUW2kVk6jrLpv3AhU9/LB",
      "include_colab_link": true
    },
    "kernelspec": {
      "display_name": "Python 3",
      "name": "python3"
    },
    "language_info": {
      "name": "python"
    }
  },
  "cells": [
    {
      "cell_type": "markdown",
      "metadata": {
        "id": "view-in-github",
        "colab_type": "text"
      },
      "source": [
        "<a href=\"https://colab.research.google.com/github/toast-ceo/Lab_Room/blob/main/VGG_step10_epoch50(Adam%26categorical_crossentropy).ipynb\" target=\"_parent\"><img src=\"https://colab.research.google.com/assets/colab-badge.svg\" alt=\"Open In Colab\"/></a>"
      ]
    },
    {
      "cell_type": "code",
      "metadata": {
        "colab": {
          "base_uri": "https://localhost:8080/"
        },
        "id": "ODuFRZq56L6O",
        "outputId": "374a2559-f628-41f8-fdae-3797750fc187"
      },
      "source": [
        "# vgg 19 훈련\n",
        "\n",
        "from google.colab import drive\n",
        "drive.mount('face550_step')\n",
        "import tensorflow as tf\n",
        "import numpy as np\n",
        "import keras\n",
        "import cv2\n",
        "\n",
        "from keras.applications.vgg19 import VGG19\n",
        "from keras.models import Sequential\n",
        "from keras.layers import Dense\n",
        "from keras.layers import Flatten\n",
        "from keras.layers.convolutional import Conv2D\n",
        "from keras.layers.convolutional import MaxPooling2D\n",
        "from keras.preprocessing.image import ImageDataGenerator\n",
        "from sklearn.model_selection import train_test_split\n"
      ],
      "execution_count": 1,
      "outputs": [
        {
          "output_type": "stream",
          "text": [
            "Mounted at face550_step\n"
          ],
          "name": "stdout"
        }
      ]
    },
    {
      "cell_type": "code",
      "metadata": {
        "colab": {
          "base_uri": "https://localhost:8080/"
        },
        "id": "kpmX7B5g6j9T",
        "outputId": "17baf712-3d79-4f78-d267-e9edf0fb4b64"
      },
      "source": [
        "numberOfClass = 30\n",
        "pictureWeightHeightSize = 224\n",
        "\n",
        "train_datagen = ImageDataGenerator(rescale=1./255)\n",
        "\n",
        "train_generator = train_datagen.flow_from_directory(\n",
        "        '/content/face550_step/MyDrive/face550_step/step10_train/',\n",
        "        target_size=(pictureWeightHeightSize, pictureWeightHeightSize),\n",
        "        batch_size=numberOfClass,\n",
        "        class_mode='categorical')\n",
        "\n",
        "test_datagen = ImageDataGenerator(rescale=1./255)\n",
        "\n",
        "test_generator = test_datagen.flow_from_directory(\n",
        "        '/content/face550_step/MyDrive/face550_step/step1_test/',\n",
        "        target_size=(pictureWeightHeightSize, pictureWeightHeightSize),    \n",
        "        batch_size=numberOfClass,\n",
        "        class_mode='categorical')"
      ],
      "execution_count": 2,
      "outputs": [
        {
          "output_type": "stream",
          "text": [
            "Found 50 images belonging to 5 classes.\n",
            "Found 10 images belonging to 5 classes.\n"
          ],
          "name": "stdout"
        }
      ]
    },
    {
      "cell_type": "code",
      "metadata": {
        "id": "JsYYeRQ5r8hQ"
      },
      "source": [
        "input_layer = tf.keras.layers.Input(shape=(224, 224, 3))\n",
        "\n",
        "vgg_block01 = tf.keras.layers.Conv2D(64 , (3,3), padding= 'SAME', activation=\"relu\")(input_layer)\n",
        "vgg_block01 = tf.keras.layers.Conv2D(64 , (3,3), padding= 'SAME', activation=\"relu\")(vgg_block01)\n",
        "vgg_block01 = tf.keras.layers.MaxPool2D((2,2))(vgg_block01)\n",
        "\n",
        "\n",
        "vgg_block02 = tf.keras.layers.Conv2D(128 , (3,3), padding= 'SAME', activation=\"relu\")(vgg_block01)\n",
        "vgg_block02 = tf.keras.layers.Conv2D(128, (3,3), padding= 'SAME', activation=\"relu\")(vgg_block02)\n",
        "vgg_block02 = tf.keras.layers.MaxPool2D((2,2))(vgg_block02)\n",
        "\n",
        "\n",
        "vgg_block03 = tf.keras.layers.Conv2D(256, (3,3), padding= 'SAME', activation=\"relu\")(vgg_block02)\n",
        "vgg_block03 = tf.keras.layers.Conv2D(256, (3,3), padding= 'SAME', activation=\"relu\")(vgg_block03)\n",
        "vgg_block03 = tf.keras.layers.Conv2D(256, (3,3), padding= 'SAME', activation=\"relu\")(vgg_block03)\n",
        "vgg_block03 = tf.keras.layers.MaxPool2D((2,2))(vgg_block03)\n",
        "\n",
        "vgg_block04 = tf.keras.layers.Conv2D(512, (3,3), padding= 'SAME', activation=\"relu\")(vgg_block03)\n",
        "vgg_block04 = tf.keras.layers.Conv2D(512, (3,3), padding= 'SAME', activation=\"relu\")(vgg_block04)\n",
        "vgg_block04 = tf.keras.layers.Conv2D(512, (3,3), padding= 'SAME', activation=\"relu\")(vgg_block04)\n",
        "vgg_block04 = tf.keras.layers.MaxPool2D((2,2))(vgg_block04)\n",
        "\n",
        "vgg_block05 = tf.keras.layers.Conv2D(512, (3,3), padding= 'SAME', activation=\"relu\")(vgg_block04)\n",
        "vgg_block05 = tf.keras.layers.Conv2D(512, (3,3), padding= 'SAME', activation=\"relu\")(vgg_block05)\n",
        "vgg_block05 = tf.keras.layers.Conv2D(512, (3,3), padding= 'SAME', activation=\"relu\")(vgg_block05)\n",
        "vgg_block05 = tf.keras.layers.MaxPool2D((2,2))(vgg_block05)\n"
      ],
      "execution_count": 3,
      "outputs": []
    },
    {
      "cell_type": "code",
      "metadata": {
        "id": "NOYfQLnnsBHg"
      },
      "source": [
        "flatten = tf.keras.layers.Flatten()(vgg_block05)\n",
        "dense01 = tf.keras.layers.Dense(512, activation='relu')(flatten)\n",
        "output = tf.keras.layers.Dense(5, activation='softmax')(dense01)"
      ],
      "execution_count": 4,
      "outputs": []
    },
    {
      "cell_type": "code",
      "metadata": {
        "id": "hD1UWBZosJzA"
      },
      "source": [
        "\n",
        "model = tf.keras.models.Model(input_layer, output)\n"
      ],
      "execution_count": 5,
      "outputs": []
    },
    {
      "cell_type": "code",
      "metadata": {
        "colab": {
          "base_uri": "https://localhost:8080/"
        },
        "id": "1HQyxSaOsLB4",
        "outputId": "4320bedd-0702-4530-891d-12c18ff02b65"
      },
      "source": [
        "model.compile(optimizer='Adam', loss='categorical_crossentropy', metrics=['accuracy'])\n",
        "model.summary()"
      ],
      "execution_count": 6,
      "outputs": [
        {
          "output_type": "stream",
          "text": [
            "Model: \"model\"\n",
            "_________________________________________________________________\n",
            "Layer (type)                 Output Shape              Param #   \n",
            "=================================================================\n",
            "input_1 (InputLayer)         [(None, 224, 224, 3)]     0         \n",
            "_________________________________________________________________\n",
            "conv2d (Conv2D)              (None, 224, 224, 64)      1792      \n",
            "_________________________________________________________________\n",
            "conv2d_1 (Conv2D)            (None, 224, 224, 64)      36928     \n",
            "_________________________________________________________________\n",
            "max_pooling2d (MaxPooling2D) (None, 112, 112, 64)      0         \n",
            "_________________________________________________________________\n",
            "conv2d_2 (Conv2D)            (None, 112, 112, 128)     73856     \n",
            "_________________________________________________________________\n",
            "conv2d_3 (Conv2D)            (None, 112, 112, 128)     147584    \n",
            "_________________________________________________________________\n",
            "max_pooling2d_1 (MaxPooling2 (None, 56, 56, 128)       0         \n",
            "_________________________________________________________________\n",
            "conv2d_4 (Conv2D)            (None, 56, 56, 256)       295168    \n",
            "_________________________________________________________________\n",
            "conv2d_5 (Conv2D)            (None, 56, 56, 256)       590080    \n",
            "_________________________________________________________________\n",
            "conv2d_6 (Conv2D)            (None, 56, 56, 256)       590080    \n",
            "_________________________________________________________________\n",
            "max_pooling2d_2 (MaxPooling2 (None, 28, 28, 256)       0         \n",
            "_________________________________________________________________\n",
            "conv2d_7 (Conv2D)            (None, 28, 28, 512)       1180160   \n",
            "_________________________________________________________________\n",
            "conv2d_8 (Conv2D)            (None, 28, 28, 512)       2359808   \n",
            "_________________________________________________________________\n",
            "conv2d_9 (Conv2D)            (None, 28, 28, 512)       2359808   \n",
            "_________________________________________________________________\n",
            "max_pooling2d_3 (MaxPooling2 (None, 14, 14, 512)       0         \n",
            "_________________________________________________________________\n",
            "conv2d_10 (Conv2D)           (None, 14, 14, 512)       2359808   \n",
            "_________________________________________________________________\n",
            "conv2d_11 (Conv2D)           (None, 14, 14, 512)       2359808   \n",
            "_________________________________________________________________\n",
            "conv2d_12 (Conv2D)           (None, 14, 14, 512)       2359808   \n",
            "_________________________________________________________________\n",
            "max_pooling2d_4 (MaxPooling2 (None, 7, 7, 512)         0         \n",
            "_________________________________________________________________\n",
            "flatten (Flatten)            (None, 25088)             0         \n",
            "_________________________________________________________________\n",
            "dense (Dense)                (None, 512)               12845568  \n",
            "_________________________________________________________________\n",
            "dense_1 (Dense)              (None, 5)                 2565      \n",
            "=================================================================\n",
            "Total params: 27,562,821\n",
            "Trainable params: 27,562,821\n",
            "Non-trainable params: 0\n",
            "_________________________________________________________________\n"
          ],
          "name": "stdout"
        }
      ]
    },
    {
      "cell_type": "code",
      "metadata": {
        "colab": {
          "base_uri": "https://localhost:8080/"
        },
        "id": "5SnVZrW6sOOI",
        "outputId": "9f3bc790-8d80-4dd2-9ef0-f2c18ef85382"
      },
      "source": [
        "model.fit(train_generator, epochs=50, validation_data=test_generator)"
      ],
      "execution_count": 7,
      "outputs": [
        {
          "output_type": "stream",
          "text": [
            "Epoch 1/50\n",
            "2/2 [==============================] - 81s 44s/step - loss: 4.0548 - accuracy: 0.1600 - val_loss: 1.6094 - val_accuracy: 0.2000\n",
            "Epoch 2/50\n",
            "2/2 [==============================] - 64s 28s/step - loss: 1.6124 - accuracy: 0.2000 - val_loss: 1.6096 - val_accuracy: 0.2000\n",
            "Epoch 3/50\n",
            "2/2 [==============================] - 65s 29s/step - loss: 1.6115 - accuracy: 0.2000 - val_loss: 1.6096 - val_accuracy: 0.2000\n",
            "Epoch 4/50\n",
            "2/2 [==============================] - 67s 29s/step - loss: 1.6152 - accuracy: 0.2800 - val_loss: 1.6095 - val_accuracy: 0.2000\n",
            "Epoch 5/50\n",
            "2/2 [==============================] - 67s 41s/step - loss: 1.6092 - accuracy: 0.2000 - val_loss: 1.6094 - val_accuracy: 0.2000\n",
            "Epoch 6/50\n",
            "2/2 [==============================] - 65s 40s/step - loss: 1.6102 - accuracy: 0.2000 - val_loss: 1.6094 - val_accuracy: 0.2000\n",
            "Epoch 7/50\n",
            "2/2 [==============================] - 66s 41s/step - loss: 1.6095 - accuracy: 0.2000 - val_loss: 1.6085 - val_accuracy: 0.2000\n",
            "Epoch 8/50\n",
            "2/2 [==============================] - 64s 28s/step - loss: 1.6086 - accuracy: 0.2000 - val_loss: 1.5943 - val_accuracy: 0.4000\n",
            "Epoch 9/50\n",
            "2/2 [==============================] - 65s 40s/step - loss: 1.5787 - accuracy: 0.3200 - val_loss: 1.4802 - val_accuracy: 0.4000\n",
            "Epoch 10/50\n",
            "2/2 [==============================] - 64s 39s/step - loss: 1.5533 - accuracy: 0.4000 - val_loss: 1.2687 - val_accuracy: 0.4000\n",
            "Epoch 11/50\n",
            "2/2 [==============================] - 64s 40s/step - loss: 1.4737 - accuracy: 0.4400 - val_loss: 1.5176 - val_accuracy: 0.8000\n",
            "Epoch 12/50\n",
            "2/2 [==============================] - 64s 27s/step - loss: 1.4131 - accuracy: 0.7200 - val_loss: 1.6190 - val_accuracy: 0.4000\n",
            "Epoch 13/50\n",
            "2/2 [==============================] - 63s 38s/step - loss: 1.4255 - accuracy: 0.6200 - val_loss: 1.4399 - val_accuracy: 0.6000\n",
            "Epoch 14/50\n",
            "2/2 [==============================] - 64s 27s/step - loss: 1.5908 - accuracy: 0.5800 - val_loss: 1.5647 - val_accuracy: 0.6000\n",
            "Epoch 15/50\n",
            "2/2 [==============================] - 63s 39s/step - loss: 1.5992 - accuracy: 0.3600 - val_loss: 1.6095 - val_accuracy: 0.2000\n",
            "Epoch 16/50\n",
            "2/2 [==============================] - 64s 40s/step - loss: 1.6104 - accuracy: 0.1000 - val_loss: 1.6097 - val_accuracy: 0.2000\n",
            "Epoch 17/50\n",
            "2/2 [==============================] - 64s 27s/step - loss: 1.6100 - accuracy: 0.2000 - val_loss: 1.6097 - val_accuracy: 0.2000\n",
            "Epoch 18/50\n",
            "2/2 [==============================] - 63s 26s/step - loss: 1.6099 - accuracy: 0.2000 - val_loss: 1.6097 - val_accuracy: 0.2000\n",
            "Epoch 19/50\n",
            "2/2 [==============================] - 64s 39s/step - loss: 1.6130 - accuracy: 0.2000 - val_loss: 1.6102 - val_accuracy: 0.2000\n",
            "Epoch 20/50\n",
            "2/2 [==============================] - 64s 39s/step - loss: 1.6113 - accuracy: 0.2000 - val_loss: 1.6101 - val_accuracy: 0.2000\n",
            "Epoch 21/50\n",
            "2/2 [==============================] - 64s 27s/step - loss: 1.6112 - accuracy: 0.2000 - val_loss: 1.6100 - val_accuracy: 0.2000\n",
            "Epoch 22/50\n",
            "2/2 [==============================] - 65s 40s/step - loss: 1.6104 - accuracy: 0.2000 - val_loss: 1.6095 - val_accuracy: 0.2000\n",
            "Epoch 23/50\n",
            "2/2 [==============================] - 62s 27s/step - loss: 1.6095 - accuracy: 0.2000 - val_loss: 1.6093 - val_accuracy: 0.2000\n",
            "Epoch 24/50\n",
            "2/2 [==============================] - 62s 38s/step - loss: 1.6096 - accuracy: 0.2000 - val_loss: 1.6092 - val_accuracy: 0.4000\n",
            "Epoch 25/50\n",
            "2/2 [==============================] - 62s 39s/step - loss: 1.6095 - accuracy: 0.2400 - val_loss: 1.6087 - val_accuracy: 0.2000\n",
            "Epoch 26/50\n",
            "2/2 [==============================] - 62s 38s/step - loss: 1.6086 - accuracy: 0.2000 - val_loss: 1.6073 - val_accuracy: 0.2000\n",
            "Epoch 27/50\n",
            "2/2 [==============================] - 62s 27s/step - loss: 1.6069 - accuracy: 0.2400 - val_loss: 1.6040 - val_accuracy: 0.4000\n",
            "Epoch 28/50\n",
            "2/2 [==============================] - 63s 27s/step - loss: 1.6028 - accuracy: 0.4000 - val_loss: 1.5959 - val_accuracy: 0.4000\n",
            "Epoch 29/50\n",
            "2/2 [==============================] - 63s 27s/step - loss: 1.5940 - accuracy: 0.4000 - val_loss: 1.5741 - val_accuracy: 0.6000\n",
            "Epoch 30/50\n",
            "2/2 [==============================] - 64s 27s/step - loss: 1.5674 - accuracy: 0.6000 - val_loss: 1.5109 - val_accuracy: 0.6000\n",
            "Epoch 31/50\n",
            "2/2 [==============================] - 64s 28s/step - loss: 1.4946 - accuracy: 0.5000 - val_loss: 1.4478 - val_accuracy: 0.6000\n",
            "Epoch 32/50\n",
            "2/2 [==============================] - 63s 27s/step - loss: 1.3707 - accuracy: 0.4600 - val_loss: 0.9942 - val_accuracy: 0.6000\n",
            "Epoch 33/50\n",
            "2/2 [==============================] - 65s 40s/step - loss: 0.8856 - accuracy: 0.6000 - val_loss: 0.3778 - val_accuracy: 1.0000\n",
            "Epoch 34/50\n",
            "2/2 [==============================] - 63s 40s/step - loss: 0.3483 - accuracy: 0.8600 - val_loss: 0.2081 - val_accuracy: 1.0000\n",
            "Epoch 35/50\n",
            "2/2 [==============================] - 63s 27s/step - loss: 0.1534 - accuracy: 1.0000 - val_loss: 0.0106 - val_accuracy: 1.0000\n",
            "Epoch 36/50\n",
            "2/2 [==============================] - 64s 28s/step - loss: 0.0278 - accuracy: 1.0000 - val_loss: 2.8610e-07 - val_accuracy: 1.0000\n",
            "Epoch 37/50\n",
            "2/2 [==============================] - 64s 40s/step - loss: 0.0017 - accuracy: 1.0000 - val_loss: 1.9550e-06 - val_accuracy: 1.0000\n",
            "Epoch 38/50\n",
            "2/2 [==============================] - 65s 40s/step - loss: 1.1139e-04 - accuracy: 1.0000 - val_loss: 3.0517e-06 - val_accuracy: 1.0000\n",
            "Epoch 39/50\n",
            "2/2 [==============================] - 64s 27s/step - loss: 5.6862e-06 - accuracy: 1.0000 - val_loss: 1.9609e-05 - val_accuracy: 1.0000\n",
            "Epoch 40/50\n",
            "2/2 [==============================] - 63s 39s/step - loss: 3.2782e-05 - accuracy: 1.0000 - val_loss: 4.0277e-05 - val_accuracy: 1.0000\n",
            "Epoch 41/50\n",
            "2/2 [==============================] - 64s 27s/step - loss: 0.0012 - accuracy: 1.0000 - val_loss: 9.4173e-06 - val_accuracy: 1.0000\n",
            "Epoch 42/50\n",
            "2/2 [==============================] - 64s 40s/step - loss: 4.7707e-06 - accuracy: 1.0000 - val_loss: 6.1989e-07 - val_accuracy: 1.0000\n",
            "Epoch 43/50\n",
            "2/2 [==============================] - 63s 27s/step - loss: 8.0006 - accuracy: 0.8800 - val_loss: 2.6138e-04 - val_accuracy: 1.0000\n",
            "Epoch 44/50\n",
            "2/2 [==============================] - 63s 40s/step - loss: 4.5008 - accuracy: 0.8800 - val_loss: 104.5645 - val_accuracy: 0.2000\n",
            "Epoch 45/50\n",
            "2/2 [==============================] - 64s 28s/step - loss: 81.2429 - accuracy: 0.5400 - val_loss: 0.0245 - val_accuracy: 1.0000\n",
            "Epoch 46/50\n",
            "2/2 [==============================] - 63s 28s/step - loss: 0.3181 - accuracy: 0.8600 - val_loss: 0.5460 - val_accuracy: 0.8000\n",
            "Epoch 47/50\n",
            "2/2 [==============================] - 64s 40s/step - loss: 0.5249 - accuracy: 0.8000 - val_loss: 0.1983 - val_accuracy: 0.8000\n",
            "Epoch 48/50\n",
            "2/2 [==============================] - 63s 39s/step - loss: 0.0373 - accuracy: 0.9600 - val_loss: 1.4245e-05 - val_accuracy: 1.0000\n",
            "Epoch 49/50\n",
            "2/2 [==============================] - 63s 38s/step - loss: 0.0461 - accuracy: 0.9600 - val_loss: 0.0000e+00 - val_accuracy: 1.0000\n",
            "Epoch 50/50\n",
            "2/2 [==============================] - 63s 27s/step - loss: 9.1789e-07 - accuracy: 1.0000 - val_loss: 3.5763e-08 - val_accuracy: 1.0000\n"
          ],
          "name": "stdout"
        },
        {
          "output_type": "execute_result",
          "data": {
            "text/plain": [
              "<tensorflow.python.keras.callbacks.History at 0x7ffac0954bd0>"
            ]
          },
          "metadata": {
            "tags": []
          },
          "execution_count": 7
        }
      ]
    },
    {
      "cell_type": "code",
      "metadata": {
        "colab": {
          "base_uri": "https://localhost:8080/"
        },
        "id": "LFv-MPjc6r7H",
        "outputId": "ae54588a-d6e7-416c-bf0b-c452ba96c9b8"
      },
      "source": [
        "print(\"-- Evaluate --\")\n",
        "scores = model.evaluate(test_generator)\n",
        "print(\"%s: %.2f%%\" %(model.metrics_names[1], scores[1]*100))"
      ],
      "execution_count": 8,
      "outputs": [
        {
          "output_type": "stream",
          "text": [
            "-- Evaluate --\n",
            "1/1 [==============================] - 3s 3s/step - loss: 3.5763e-08 - accuracy: 1.0000\n",
            "accuracy: 100.00%\n"
          ],
          "name": "stdout"
        }
      ]
    },
    {
      "cell_type": "code",
      "metadata": {
        "colab": {
          "base_uri": "https://localhost:8080/"
        },
        "id": "E2CapNMx61Xt",
        "outputId": "546583c1-7858-4e3a-fc32-e31a23592379"
      },
      "source": [
        "print(\"-- Predict --\")\n",
        "output = model.predict(test_generator)\n",
        "np.set_printoptions(formatter={'float': lambda x: \"{0:0.3f}\".format(x)})\n",
        "print(test_generator.class_indices)\n",
        "print(output)"
      ],
      "execution_count": 9,
      "outputs": [
        {
          "output_type": "stream",
          "text": [
            "-- Predict --\n",
            "{'0': 0, '1': 1, '2': 2, '3': 3, '4': 4}\n",
            "[[0.000 0.000 0.000 1.000 0.000]\n",
            " [1.000 0.000 0.000 0.000 0.000]\n",
            " [0.000 0.000 0.000 0.000 1.000]\n",
            " [0.000 0.000 0.000 0.000 1.000]\n",
            " [0.000 0.000 0.000 1.000 0.000]\n",
            " [0.000 0.000 1.000 0.000 0.000]\n",
            " [0.000 0.000 1.000 0.000 0.000]\n",
            " [0.000 1.000 0.000 0.000 0.000]\n",
            " [0.000 1.000 0.000 0.000 0.000]\n",
            " [1.000 0.000 0.000 0.000 0.000]]\n"
          ],
          "name": "stdout"
        }
      ]
    },
    {
      "cell_type": "code",
      "metadata": {
        "colab": {
          "base_uri": "https://localhost:8080/"
        },
        "id": "tgpq2mw87JUN",
        "outputId": "d949acd3-7e6c-4e8b-c00c-0ddc4a0e8f14"
      },
      "source": [
        "for i in range(0, 10):\n",
        "  print(\"Result:\", i+1)\n",
        "  print(output[i])\n",
        "  print(\"\\n\")"
      ],
      "execution_count": 10,
      "outputs": [
        {
          "output_type": "stream",
          "text": [
            "Result: 1\n",
            "[0.000 0.000 0.000 1.000 0.000]\n",
            "\n",
            "\n",
            "Result: 2\n",
            "[1.000 0.000 0.000 0.000 0.000]\n",
            "\n",
            "\n",
            "Result: 3\n",
            "[0.000 0.000 0.000 0.000 1.000]\n",
            "\n",
            "\n",
            "Result: 4\n",
            "[0.000 0.000 0.000 0.000 1.000]\n",
            "\n",
            "\n",
            "Result: 5\n",
            "[0.000 0.000 0.000 1.000 0.000]\n",
            "\n",
            "\n",
            "Result: 6\n",
            "[0.000 0.000 1.000 0.000 0.000]\n",
            "\n",
            "\n",
            "Result: 7\n",
            "[0.000 0.000 1.000 0.000 0.000]\n",
            "\n",
            "\n",
            "Result: 8\n",
            "[0.000 1.000 0.000 0.000 0.000]\n",
            "\n",
            "\n",
            "Result: 9\n",
            "[0.000 1.000 0.000 0.000 0.000]\n",
            "\n",
            "\n",
            "Result: 10\n",
            "[1.000 0.000 0.000 0.000 0.000]\n",
            "\n",
            "\n"
          ],
          "name": "stdout"
        }
      ]
    }
  ]
}