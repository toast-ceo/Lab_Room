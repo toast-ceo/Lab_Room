{
  "nbformat": 4,
  "nbformat_minor": 0,
  "metadata": {
    "colab": {
      "name": "VGG_step10_epoch100_(Adam&binary_crossentropy)",
      "provenance": [],
      "collapsed_sections": [],
      "authorship_tag": "ABX9TyO5FdY7eHmqQdfl3RlarS9Z",
      "include_colab_link": true
    },
    "kernelspec": {
      "display_name": "Python 3",
      "name": "python3"
    },
    "language_info": {
      "name": "python"
    }
  },
  "cells": [
    {
      "cell_type": "markdown",
      "metadata": {
        "id": "view-in-github",
        "colab_type": "text"
      },
      "source": [
        "<a href=\"https://colab.research.google.com/github/toast-ceo/Lab_Room/blob/main/VGG_step10_epoch100_(Adam%26binary_crossentropy).ipynb\" target=\"_parent\"><img src=\"https://colab.research.google.com/assets/colab-badge.svg\" alt=\"Open In Colab\"/></a>"
      ]
    },
    {
      "cell_type": "code",
      "metadata": {
        "colab": {
          "base_uri": "https://localhost:8080/"
        },
        "id": "ODuFRZq56L6O",
        "outputId": "9ce81604-493e-4233-889b-2531ce623c80"
      },
      "source": [
        "# vgg 19 훈련\n",
        "\n",
        "from google.colab import drive\n",
        "drive.mount('face550_step')\n",
        "import tensorflow as tf\n",
        "import numpy as np\n",
        "import keras\n",
        "import cv2\n",
        "\n",
        "from keras.applications.vgg19 import VGG19\n",
        "from keras.models import Sequential\n",
        "from keras.layers import Dense\n",
        "from keras.layers import Flatten\n",
        "from keras.layers.convolutional import Conv2D\n",
        "from keras.layers.convolutional import MaxPooling2D\n",
        "from keras.preprocessing.image import ImageDataGenerator\n",
        "from sklearn.model_selection import train_test_split\n"
      ],
      "execution_count": 1,
      "outputs": [
        {
          "output_type": "stream",
          "text": [
            "Mounted at face550_step\n"
          ],
          "name": "stdout"
        }
      ]
    },
    {
      "cell_type": "code",
      "metadata": {
        "colab": {
          "base_uri": "https://localhost:8080/"
        },
        "id": "kpmX7B5g6j9T",
        "outputId": "92f0e034-e2bc-4e51-ee18-3969b5e3478b"
      },
      "source": [
        "numberOfClass = 30\n",
        "pictureWeightHeightSize = 224\n",
        "\n",
        "train_datagen = ImageDataGenerator(rescale=1./255)\n",
        "\n",
        "train_generator = train_datagen.flow_from_directory(\n",
        "        '/content/face550_step/MyDrive/face550_step/step10_train/',\n",
        "        target_size=(pictureWeightHeightSize, pictureWeightHeightSize),\n",
        "        batch_size=numberOfClass,\n",
        "        class_mode='categorical')\n",
        "\n",
        "test_datagen = ImageDataGenerator(rescale=1./255)\n",
        "\n",
        "test_generator = test_datagen.flow_from_directory(\n",
        "        '/content/face550_step/MyDrive/face550_step/step1_test/',\n",
        "        target_size=(pictureWeightHeightSize, pictureWeightHeightSize),    \n",
        "        batch_size=numberOfClass,\n",
        "        class_mode='categorical')"
      ],
      "execution_count": 2,
      "outputs": [
        {
          "output_type": "stream",
          "text": [
            "Found 50 images belonging to 5 classes.\n",
            "Found 10 images belonging to 5 classes.\n"
          ],
          "name": "stdout"
        }
      ]
    },
    {
      "cell_type": "code",
      "metadata": {
        "id": "JsYYeRQ5r8hQ"
      },
      "source": [
        "input_layer = tf.keras.layers.Input(shape=(224, 224, 3))\n",
        "\n",
        "vgg_block01 = tf.keras.layers.Conv2D(64 , (3,3), padding= 'SAME', activation=\"relu\")(input_layer)\n",
        "vgg_block01 = tf.keras.layers.Conv2D(64 , (3,3), padding= 'SAME', activation=\"relu\")(vgg_block01)\n",
        "vgg_block01 = tf.keras.layers.MaxPool2D((2,2))(vgg_block01)\n",
        "\n",
        "\n",
        "vgg_block02 = tf.keras.layers.Conv2D(128 , (3,3), padding= 'SAME', activation=\"relu\")(vgg_block01)\n",
        "vgg_block02 = tf.keras.layers.Conv2D(128, (3,3), padding= 'SAME', activation=\"relu\")(vgg_block02)\n",
        "vgg_block02 = tf.keras.layers.MaxPool2D((2,2))(vgg_block02)\n",
        "\n",
        "\n",
        "vgg_block03 = tf.keras.layers.Conv2D(256, (3,3), padding= 'SAME', activation=\"relu\")(vgg_block02)\n",
        "vgg_block03 = tf.keras.layers.Conv2D(256, (3,3), padding= 'SAME', activation=\"relu\")(vgg_block03)\n",
        "vgg_block03 = tf.keras.layers.Conv2D(256, (3,3), padding= 'SAME', activation=\"relu\")(vgg_block03)\n",
        "vgg_block03 = tf.keras.layers.MaxPool2D((2,2))(vgg_block03)\n",
        "\n",
        "vgg_block04 = tf.keras.layers.Conv2D(512, (3,3), padding= 'SAME', activation=\"relu\")(vgg_block03)\n",
        "vgg_block04 = tf.keras.layers.Conv2D(512, (3,3), padding= 'SAME', activation=\"relu\")(vgg_block04)\n",
        "vgg_block04 = tf.keras.layers.Conv2D(512, (3,3), padding= 'SAME', activation=\"relu\")(vgg_block04)\n",
        "vgg_block04 = tf.keras.layers.MaxPool2D((2,2))(vgg_block04)\n",
        "\n",
        "vgg_block05 = tf.keras.layers.Conv2D(512, (3,3), padding= 'SAME', activation=\"relu\")(vgg_block04)\n",
        "vgg_block05 = tf.keras.layers.Conv2D(512, (3,3), padding= 'SAME', activation=\"relu\")(vgg_block05)\n",
        "vgg_block05 = tf.keras.layers.Conv2D(512, (3,3), padding= 'SAME', activation=\"relu\")(vgg_block05)\n",
        "vgg_block05 = tf.keras.layers.MaxPool2D((2,2))(vgg_block05)\n"
      ],
      "execution_count": 3,
      "outputs": []
    },
    {
      "cell_type": "code",
      "metadata": {
        "id": "NOYfQLnnsBHg"
      },
      "source": [
        "flatten = tf.keras.layers.Flatten()(vgg_block05)\n",
        "dense01 = tf.keras.layers.Dense(512, activation='relu')(flatten)\n",
        "output = tf.keras.layers.Dense(5, activation='softmax')(dense01)"
      ],
      "execution_count": 4,
      "outputs": []
    },
    {
      "cell_type": "code",
      "metadata": {
        "id": "hD1UWBZosJzA"
      },
      "source": [
        "\n",
        "model = tf.keras.models.Model(input_layer, output)\n"
      ],
      "execution_count": 5,
      "outputs": []
    },
    {
      "cell_type": "code",
      "metadata": {
        "colab": {
          "base_uri": "https://localhost:8080/"
        },
        "id": "1HQyxSaOsLB4",
        "outputId": "1f1a1f39-11f6-4940-bffa-9af750b03e97"
      },
      "source": [
        "model.compile(optimizer='Adam', loss='binary_crossentropy', metrics=['accuracy'])\n",
        "model.summary()"
      ],
      "execution_count": 6,
      "outputs": [
        {
          "output_type": "stream",
          "text": [
            "Model: \"model\"\n",
            "_________________________________________________________________\n",
            "Layer (type)                 Output Shape              Param #   \n",
            "=================================================================\n",
            "input_1 (InputLayer)         [(None, 224, 224, 3)]     0         \n",
            "_________________________________________________________________\n",
            "conv2d (Conv2D)              (None, 224, 224, 64)      1792      \n",
            "_________________________________________________________________\n",
            "conv2d_1 (Conv2D)            (None, 224, 224, 64)      36928     \n",
            "_________________________________________________________________\n",
            "max_pooling2d (MaxPooling2D) (None, 112, 112, 64)      0         \n",
            "_________________________________________________________________\n",
            "conv2d_2 (Conv2D)            (None, 112, 112, 128)     73856     \n",
            "_________________________________________________________________\n",
            "conv2d_3 (Conv2D)            (None, 112, 112, 128)     147584    \n",
            "_________________________________________________________________\n",
            "max_pooling2d_1 (MaxPooling2 (None, 56, 56, 128)       0         \n",
            "_________________________________________________________________\n",
            "conv2d_4 (Conv2D)            (None, 56, 56, 256)       295168    \n",
            "_________________________________________________________________\n",
            "conv2d_5 (Conv2D)            (None, 56, 56, 256)       590080    \n",
            "_________________________________________________________________\n",
            "conv2d_6 (Conv2D)            (None, 56, 56, 256)       590080    \n",
            "_________________________________________________________________\n",
            "max_pooling2d_2 (MaxPooling2 (None, 28, 28, 256)       0         \n",
            "_________________________________________________________________\n",
            "conv2d_7 (Conv2D)            (None, 28, 28, 512)       1180160   \n",
            "_________________________________________________________________\n",
            "conv2d_8 (Conv2D)            (None, 28, 28, 512)       2359808   \n",
            "_________________________________________________________________\n",
            "conv2d_9 (Conv2D)            (None, 28, 28, 512)       2359808   \n",
            "_________________________________________________________________\n",
            "max_pooling2d_3 (MaxPooling2 (None, 14, 14, 512)       0         \n",
            "_________________________________________________________________\n",
            "conv2d_10 (Conv2D)           (None, 14, 14, 512)       2359808   \n",
            "_________________________________________________________________\n",
            "conv2d_11 (Conv2D)           (None, 14, 14, 512)       2359808   \n",
            "_________________________________________________________________\n",
            "conv2d_12 (Conv2D)           (None, 14, 14, 512)       2359808   \n",
            "_________________________________________________________________\n",
            "max_pooling2d_4 (MaxPooling2 (None, 7, 7, 512)         0         \n",
            "_________________________________________________________________\n",
            "flatten (Flatten)            (None, 25088)             0         \n",
            "_________________________________________________________________\n",
            "dense (Dense)                (None, 512)               12845568  \n",
            "_________________________________________________________________\n",
            "dense_1 (Dense)              (None, 5)                 2565      \n",
            "=================================================================\n",
            "Total params: 27,562,821\n",
            "Trainable params: 27,562,821\n",
            "Non-trainable params: 0\n",
            "_________________________________________________________________\n"
          ],
          "name": "stdout"
        }
      ]
    },
    {
      "cell_type": "code",
      "metadata": {
        "colab": {
          "base_uri": "https://localhost:8080/"
        },
        "id": "5SnVZrW6sOOI",
        "outputId": "fc5157b0-f116-4004-de66-269c343f43a9"
      },
      "source": [
        "model.fit(train_generator, epochs=50, validation_data=test_generator)"
      ],
      "execution_count": 7,
      "outputs": [
        {
          "output_type": "stream",
          "text": [
            "Epoch 1/50\n",
            "2/2 [==============================] - 107s 62s/step - loss: 0.7442 - accuracy: 0.2000 - val_loss: 0.6937 - val_accuracy: 0.2000\n",
            "Epoch 2/50\n",
            "2/2 [==============================] - 95s 59s/step - loss: 0.6917 - accuracy: 0.2000 - val_loss: 0.6769 - val_accuracy: 0.2000\n",
            "Epoch 3/50\n",
            "2/2 [==============================] - 96s 41s/step - loss: 0.6200 - accuracy: 0.2000 - val_loss: 4.3029 - val_accuracy: 0.2000\n",
            "Epoch 4/50\n",
            "2/2 [==============================] - 95s 59s/step - loss: 1.9324 - accuracy: 0.2000 - val_loss: 0.6492 - val_accuracy: 0.2000\n",
            "Epoch 5/50\n",
            "2/2 [==============================] - 95s 41s/step - loss: 0.6600 - accuracy: 0.2000 - val_loss: 0.6805 - val_accuracy: 0.2000\n",
            "Epoch 6/50\n",
            "2/2 [==============================] - 95s 41s/step - loss: 0.6814 - accuracy: 0.2000 - val_loss: 0.6831 - val_accuracy: 0.2000\n",
            "Epoch 7/50\n",
            "2/2 [==============================] - 95s 59s/step - loss: 0.6829 - accuracy: 0.2000 - val_loss: 0.6810 - val_accuracy: 0.2000\n",
            "Epoch 8/50\n",
            "2/2 [==============================] - 95s 41s/step - loss: 0.6797 - accuracy: 0.2000 - val_loss: 0.6719 - val_accuracy: 0.2000\n",
            "Epoch 9/50\n",
            "2/2 [==============================] - 95s 41s/step - loss: 0.6682 - accuracy: 0.2000 - val_loss: 0.6481 - val_accuracy: 0.2000\n",
            "Epoch 10/50\n",
            "2/2 [==============================] - 94s 41s/step - loss: 0.6393 - accuracy: 0.2000 - val_loss: 0.5938 - val_accuracy: 0.2000\n",
            "Epoch 11/50\n",
            "2/2 [==============================] - 94s 58s/step - loss: 0.5679 - accuracy: 0.2000 - val_loss: 0.5071 - val_accuracy: 0.2000\n",
            "Epoch 12/50\n",
            "2/2 [==============================] - 95s 59s/step - loss: 0.5285 - accuracy: 0.2000 - val_loss: 0.5307 - val_accuracy: 0.2000\n",
            "Epoch 13/50\n",
            "2/2 [==============================] - 94s 58s/step - loss: 0.5171 - accuracy: 0.1800 - val_loss: 0.5008 - val_accuracy: 0.2000\n",
            "Epoch 14/50\n",
            "2/2 [==============================] - 95s 59s/step - loss: 0.5038 - accuracy: 0.1800 - val_loss: 0.5098 - val_accuracy: 0.2000\n",
            "Epoch 15/50\n",
            "2/2 [==============================] - 95s 59s/step - loss: 0.5125 - accuracy: 0.2000 - val_loss: 0.5074 - val_accuracy: 0.2000\n",
            "Epoch 16/50\n",
            "2/2 [==============================] - 94s 40s/step - loss: 0.5064 - accuracy: 0.2000 - val_loss: 0.5013 - val_accuracy: 0.2000\n",
            "Epoch 17/50\n",
            "2/2 [==============================] - 94s 58s/step - loss: 0.5020 - accuracy: 0.1600 - val_loss: 0.5027 - val_accuracy: 0.2000\n",
            "Epoch 18/50\n",
            "2/2 [==============================] - 94s 40s/step - loss: 0.5042 - accuracy: 0.2000 - val_loss: 0.5040 - val_accuracy: 0.2000\n",
            "Epoch 19/50\n",
            "2/2 [==============================] - 94s 41s/step - loss: 0.5045 - accuracy: 0.2000 - val_loss: 0.5013 - val_accuracy: 0.2000\n",
            "Epoch 20/50\n",
            "2/2 [==============================] - 94s 58s/step - loss: 0.5028 - accuracy: 0.2000 - val_loss: 0.5017 - val_accuracy: 0.2000\n",
            "Epoch 21/50\n",
            "2/2 [==============================] - 94s 41s/step - loss: 0.5023 - accuracy: 0.2000 - val_loss: 0.5027 - val_accuracy: 0.2000\n",
            "Epoch 22/50\n",
            "2/2 [==============================] - 94s 41s/step - loss: 0.5044 - accuracy: 0.2000 - val_loss: 0.5018 - val_accuracy: 0.2000\n",
            "Epoch 23/50\n",
            "2/2 [==============================] - 94s 58s/step - loss: 0.5016 - accuracy: 0.2000 - val_loss: 0.5006 - val_accuracy: 0.2000\n",
            "Epoch 24/50\n",
            "2/2 [==============================] - 96s 41s/step - loss: 0.5006 - accuracy: 0.2000 - val_loss: 0.5008 - val_accuracy: 0.2000\n",
            "Epoch 25/50\n",
            "2/2 [==============================] - 96s 59s/step - loss: 0.5023 - accuracy: 0.2000 - val_loss: 0.5015 - val_accuracy: 0.2000\n",
            "Epoch 26/50\n",
            "2/2 [==============================] - 95s 41s/step - loss: 0.5015 - accuracy: 0.2000 - val_loss: 0.5011 - val_accuracy: 0.2000\n",
            "Epoch 27/50\n",
            "2/2 [==============================] - 95s 41s/step - loss: 0.5012 - accuracy: 0.2000 - val_loss: 0.5007 - val_accuracy: 0.2000\n",
            "Epoch 28/50\n",
            "2/2 [==============================] - 95s 58s/step - loss: 0.5018 - accuracy: 0.1800 - val_loss: 0.5010 - val_accuracy: 0.2000\n",
            "Epoch 29/50\n",
            "2/2 [==============================] - 95s 41s/step - loss: 0.5012 - accuracy: 0.2000 - val_loss: 0.5011 - val_accuracy: 0.2000\n",
            "Epoch 30/50\n",
            "2/2 [==============================] - 95s 41s/step - loss: 0.5019 - accuracy: 0.2000 - val_loss: 0.5008 - val_accuracy: 0.2000\n",
            "Epoch 31/50\n",
            "2/2 [==============================] - 95s 41s/step - loss: 0.5011 - accuracy: 0.2000 - val_loss: 0.5007 - val_accuracy: 0.2000\n",
            "Epoch 32/50\n",
            "2/2 [==============================] - 95s 41s/step - loss: 0.5025 - accuracy: 0.2000 - val_loss: 0.5007 - val_accuracy: 0.2000\n",
            "Epoch 33/50\n",
            "2/2 [==============================] - 94s 58s/step - loss: 0.5010 - accuracy: 0.2000 - val_loss: 0.5007 - val_accuracy: 0.2000\n",
            "Epoch 34/50\n",
            "2/2 [==============================] - 95s 41s/step - loss: 0.5012 - accuracy: 0.1600 - val_loss: 0.5005 - val_accuracy: 0.2000\n",
            "Epoch 35/50\n",
            "2/2 [==============================] - 95s 41s/step - loss: 0.5010 - accuracy: 0.2000 - val_loss: 0.5006 - val_accuracy: 0.2000\n",
            "Epoch 36/50\n",
            "2/2 [==============================] - 94s 59s/step - loss: 0.5007 - accuracy: 0.1800 - val_loss: 0.5005 - val_accuracy: 0.2000\n",
            "Epoch 37/50\n",
            "2/2 [==============================] - 94s 41s/step - loss: 0.5010 - accuracy: 0.2000 - val_loss: 0.5005 - val_accuracy: 0.2000\n",
            "Epoch 38/50\n",
            "2/2 [==============================] - 95s 59s/step - loss: 0.5008 - accuracy: 0.2000 - val_loss: 0.5005 - val_accuracy: 0.2000\n",
            "Epoch 39/50\n",
            "2/2 [==============================] - 95s 59s/step - loss: 0.5010 - accuracy: 0.2000 - val_loss: 0.5005 - val_accuracy: 0.2000\n",
            "Epoch 40/50\n",
            "2/2 [==============================] - 94s 58s/step - loss: 0.5023 - accuracy: 0.1400 - val_loss: 0.5006 - val_accuracy: 0.2000\n",
            "Epoch 41/50\n",
            "2/2 [==============================] - 94s 58s/step - loss: 0.5039 - accuracy: 0.0600 - val_loss: 0.5010 - val_accuracy: 0.2000\n",
            "Epoch 42/50\n",
            "2/2 [==============================] - 95s 59s/step - loss: 0.5012 - accuracy: 0.2000 - val_loss: 0.5011 - val_accuracy: 0.2000\n",
            "Epoch 43/50\n",
            "2/2 [==============================] - 94s 59s/step - loss: 0.5012 - accuracy: 0.2000 - val_loss: 0.5008 - val_accuracy: 0.2000\n",
            "Epoch 44/50\n",
            "2/2 [==============================] - 94s 59s/step - loss: 0.5017 - accuracy: 0.2000 - val_loss: 0.5006 - val_accuracy: 0.2000\n",
            "Epoch 45/50\n",
            "2/2 [==============================] - 94s 59s/step - loss: 0.5009 - accuracy: 0.2000 - val_loss: 0.5005 - val_accuracy: 0.2000\n",
            "Epoch 46/50\n",
            "2/2 [==============================] - 94s 41s/step - loss: 0.5012 - accuracy: 0.2000 - val_loss: 0.5006 - val_accuracy: 0.2000\n",
            "Epoch 47/50\n",
            "2/2 [==============================] - 94s 58s/step - loss: 0.5012 - accuracy: 0.2000 - val_loss: 0.5006 - val_accuracy: 0.2000\n",
            "Epoch 48/50\n",
            "2/2 [==============================] - 94s 59s/step - loss: 0.5011 - accuracy: 0.2000 - val_loss: 0.5008 - val_accuracy: 0.2000\n",
            "Epoch 49/50\n",
            "2/2 [==============================] - 95s 41s/step - loss: 0.5015 - accuracy: 0.2000 - val_loss: 0.5008 - val_accuracy: 0.2000\n",
            "Epoch 50/50\n",
            "2/2 [==============================] - 94s 58s/step - loss: 0.5012 - accuracy: 0.2000 - val_loss: 0.5007 - val_accuracy: 0.2000\n"
          ],
          "name": "stdout"
        },
        {
          "output_type": "execute_result",
          "data": {
            "text/plain": [
              "<tensorflow.python.keras.callbacks.History at 0x7f4e34630790>"
            ]
          },
          "metadata": {
            "tags": []
          },
          "execution_count": 7
        }
      ]
    },
    {
      "cell_type": "code",
      "metadata": {
        "colab": {
          "base_uri": "https://localhost:8080/"
        },
        "id": "LFv-MPjc6r7H",
        "outputId": "8fc3f43e-866b-4816-e68b-94e9f2d8956c"
      },
      "source": [
        "print(\"-- Evaluate --\")\n",
        "scores = model.evaluate(test_generator)\n",
        "print(\"%s: %.2f%%\" %(model.metrics_names[1], scores[1]*100))"
      ],
      "execution_count": 8,
      "outputs": [
        {
          "output_type": "stream",
          "text": [
            "-- Evaluate --\n",
            "1/1 [==============================] - 5s 5s/step - loss: 0.5007 - accuracy: 0.2000\n",
            "accuracy: 20.00%\n"
          ],
          "name": "stdout"
        }
      ]
    },
    {
      "cell_type": "code",
      "metadata": {
        "colab": {
          "base_uri": "https://localhost:8080/"
        },
        "id": "E2CapNMx61Xt",
        "outputId": "7a3c3370-0aa9-40f7-86c6-d57bf3c5de6d"
      },
      "source": [
        "print(\"-- Predict --\")\n",
        "output = model.predict(test_generator)\n",
        "np.set_printoptions(formatter={'float': lambda x: \"{0:0.3f}\".format(x)})\n",
        "print(test_generator.class_indices)\n",
        "print(output)"
      ],
      "execution_count": 9,
      "outputs": [
        {
          "output_type": "stream",
          "text": [
            "-- Predict --\n",
            "{'0': 0, '1': 1, '2': 2, '3': 3, '4': 4}\n",
            "[[0.201 0.187 0.222 0.199 0.191]\n",
            " [0.201 0.187 0.222 0.199 0.191]\n",
            " [0.201 0.187 0.222 0.199 0.191]\n",
            " [0.201 0.187 0.222 0.199 0.191]\n",
            " [0.201 0.187 0.222 0.199 0.191]\n",
            " [0.201 0.187 0.222 0.199 0.191]\n",
            " [0.201 0.187 0.222 0.199 0.191]\n",
            " [0.201 0.187 0.222 0.199 0.191]\n",
            " [0.201 0.187 0.222 0.199 0.191]\n",
            " [0.201 0.187 0.222 0.199 0.191]]\n"
          ],
          "name": "stdout"
        }
      ]
    },
    {
      "cell_type": "code",
      "metadata": {
        "colab": {
          "base_uri": "https://localhost:8080/"
        },
        "id": "tgpq2mw87JUN",
        "outputId": "88f942fc-d666-454b-93c7-cac0b13bf624"
      },
      "source": [
        "for i in range(0, 10):\n",
        "  print(\"Result:\", i+1)\n",
        "  print(output[i])\n",
        "  print(\"\\n\")"
      ],
      "execution_count": 10,
      "outputs": [
        {
          "output_type": "stream",
          "text": [
            "Result: 1\n",
            "[0.201 0.187 0.222 0.199 0.191]\n",
            "\n",
            "\n",
            "Result: 2\n",
            "[0.201 0.187 0.222 0.199 0.191]\n",
            "\n",
            "\n",
            "Result: 3\n",
            "[0.201 0.187 0.222 0.199 0.191]\n",
            "\n",
            "\n",
            "Result: 4\n",
            "[0.201 0.187 0.222 0.199 0.191]\n",
            "\n",
            "\n",
            "Result: 5\n",
            "[0.201 0.187 0.222 0.199 0.191]\n",
            "\n",
            "\n",
            "Result: 6\n",
            "[0.201 0.187 0.222 0.199 0.191]\n",
            "\n",
            "\n",
            "Result: 7\n",
            "[0.201 0.187 0.222 0.199 0.191]\n",
            "\n",
            "\n",
            "Result: 8\n",
            "[0.201 0.187 0.222 0.199 0.191]\n",
            "\n",
            "\n",
            "Result: 9\n",
            "[0.201 0.187 0.222 0.199 0.191]\n",
            "\n",
            "\n",
            "Result: 10\n",
            "[0.201 0.187 0.222 0.199 0.191]\n",
            "\n",
            "\n"
          ],
          "name": "stdout"
        }
      ]
    }
  ]
}