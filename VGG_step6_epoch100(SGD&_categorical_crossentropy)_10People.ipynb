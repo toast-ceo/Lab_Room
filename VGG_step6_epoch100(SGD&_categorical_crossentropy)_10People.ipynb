{
  "nbformat": 4,
  "nbformat_minor": 0,
  "metadata": {
    "colab": {
      "name": "VGG_step6_epoch100(SGD& categorical_crossentropy)_10People",
      "provenance": [],
      "collapsed_sections": [],
      "authorship_tag": "ABX9TyPNOMT9D1YLfyBlrFM+Okfe",
      "include_colab_link": true
    },
    "kernelspec": {
      "display_name": "Python 3",
      "name": "python3"
    },
    "language_info": {
      "name": "python"
    }
  },
  "cells": [
    {
      "cell_type": "markdown",
      "metadata": {
        "id": "view-in-github",
        "colab_type": "text"
      },
      "source": [
        "<a href=\"https://colab.research.google.com/github/toast-ceo/Lab_Room/blob/main/VGG_step6_epoch100(SGD%26_categorical_crossentropy)_10People.ipynb\" target=\"_parent\"><img src=\"https://colab.research.google.com/assets/colab-badge.svg\" alt=\"Open In Colab\"/></a>"
      ]
    },
    {
      "cell_type": "code",
      "metadata": {
        "colab": {
          "base_uri": "https://localhost:8080/"
        },
        "id": "ODuFRZq56L6O",
        "outputId": "df4929e7-de36-434a-848d-38f206acd8ce"
      },
      "source": [
        "# vgg 19 훈련\n",
        "\n",
        "from google.colab import drive\n",
        "drive.mount('face550_step')\n",
        "import tensorflow as tf\n",
        "import numpy as np\n",
        "import keras\n",
        "import cv2\n",
        "\n",
        "from keras.applications.vgg19 import VGG19\n",
        "from keras.models import Sequential\n",
        "from keras.layers import Dense\n",
        "from keras.layers import Flatten\n",
        "from keras.layers.convolutional import Conv2D\n",
        "from keras.layers.convolutional import MaxPooling2D\n",
        "from keras.preprocessing.image import ImageDataGenerator\n",
        "from sklearn.model_selection import train_test_split\n"
      ],
      "execution_count": 1,
      "outputs": [
        {
          "output_type": "stream",
          "text": [
            "Mounted at face550_step\n"
          ],
          "name": "stdout"
        }
      ]
    },
    {
      "cell_type": "code",
      "metadata": {
        "colab": {
          "base_uri": "https://localhost:8080/"
        },
        "id": "kpmX7B5g6j9T",
        "outputId": "0e85c189-6ce0-4321-f97a-848e0e0a7dea"
      },
      "source": [
        "numberOfClass = 30\n",
        "pictureWeightHeightSize = 224\n",
        "\n",
        "train_datagen = ImageDataGenerator(rescale=1./255)\n",
        "\n",
        "train_generator = train_datagen.flow_from_directory(\n",
        "        '/content/face550_step/MyDrive/face550_step/step6_train/',\n",
        "        target_size=(pictureWeightHeightSize, pictureWeightHeightSize),\n",
        "        batch_size=numberOfClass,\n",
        "        class_mode='categorical')\n",
        "\n",
        "test_datagen = ImageDataGenerator(rescale=1./255)\n",
        "\n",
        "test_generator = test_datagen.flow_from_directory(\n",
        "        '/content/face550_step/MyDrive/face550_step/step10_test/',\n",
        "        target_size=(pictureWeightHeightSize, pictureWeightHeightSize),    \n",
        "        batch_size=numberOfClass,\n",
        "        class_mode='categorical')"
      ],
      "execution_count": 2,
      "outputs": [
        {
          "output_type": "stream",
          "text": [
            "Found 100 images belonging to 10 classes.\n",
            "Found 20 images belonging to 10 classes.\n"
          ],
          "name": "stdout"
        }
      ]
    },
    {
      "cell_type": "code",
      "metadata": {
        "id": "JsYYeRQ5r8hQ"
      },
      "source": [
        "input_layer = tf.keras.layers.Input(shape=(224, 224, 3))\n",
        "\n",
        "vgg_block01 = tf.keras.layers.Conv2D(64 , (3,3), padding= 'SAME', activation=\"relu\")(input_layer)\n",
        "vgg_block01 = tf.keras.layers.Conv2D(64 , (3,3), padding= 'SAME', activation=\"relu\")(vgg_block01)\n",
        "vgg_block01 = tf.keras.layers.MaxPool2D((2,2))(vgg_block01)\n",
        "\n",
        "\n",
        "vgg_block02 = tf.keras.layers.Conv2D(128 , (3,3), padding= 'SAME', activation=\"relu\")(vgg_block01)\n",
        "vgg_block02 = tf.keras.layers.Conv2D(128, (3,3), padding= 'SAME', activation=\"relu\")(vgg_block02)\n",
        "vgg_block02 = tf.keras.layers.MaxPool2D((2,2))(vgg_block02)\n",
        "\n",
        "\n",
        "vgg_block03 = tf.keras.layers.Conv2D(256, (3,3), padding= 'SAME', activation=\"relu\")(vgg_block02)\n",
        "vgg_block03 = tf.keras.layers.Conv2D(256, (3,3), padding= 'SAME', activation=\"relu\")(vgg_block03)\n",
        "vgg_block03 = tf.keras.layers.Conv2D(256, (3,3), padding= 'SAME', activation=\"relu\")(vgg_block03)\n",
        "vgg_block03 = tf.keras.layers.MaxPool2D((2,2))(vgg_block03)\n",
        "\n",
        "vgg_block04 = tf.keras.layers.Conv2D(512, (3,3), padding= 'SAME', activation=\"relu\")(vgg_block03)\n",
        "vgg_block04 = tf.keras.layers.Conv2D(512, (3,3), padding= 'SAME', activation=\"relu\")(vgg_block04)\n",
        "vgg_block04 = tf.keras.layers.Conv2D(512, (3,3), padding= 'SAME', activation=\"relu\")(vgg_block04)\n",
        "vgg_block04 = tf.keras.layers.MaxPool2D((2,2))(vgg_block04)\n",
        "\n",
        "vgg_block05 = tf.keras.layers.Conv2D(512, (3,3), padding= 'SAME', activation=\"relu\")(vgg_block04)\n",
        "vgg_block05 = tf.keras.layers.Conv2D(512, (3,3), padding= 'SAME', activation=\"relu\")(vgg_block05)\n",
        "vgg_block05 = tf.keras.layers.Conv2D(512, (3,3), padding= 'SAME', activation=\"relu\")(vgg_block05)\n",
        "vgg_block05 = tf.keras.layers.MaxPool2D((2,2))(vgg_block05)\n"
      ],
      "execution_count": 3,
      "outputs": []
    },
    {
      "cell_type": "code",
      "metadata": {
        "id": "NOYfQLnnsBHg"
      },
      "source": [
        "flatten = tf.keras.layers.Flatten()(vgg_block05)\n",
        "dense01 = tf.keras.layers.Dense(512, activation='relu')(flatten)\n",
        "output = tf.keras.layers.Dense(10, activation='softmax')(dense01)"
      ],
      "execution_count": 4,
      "outputs": []
    },
    {
      "cell_type": "code",
      "metadata": {
        "id": "hD1UWBZosJzA"
      },
      "source": [
        "\n",
        "model = tf.keras.models.Model(input_layer, output)\n"
      ],
      "execution_count": 5,
      "outputs": []
    },
    {
      "cell_type": "code",
      "metadata": {
        "colab": {
          "base_uri": "https://localhost:8080/"
        },
        "id": "1HQyxSaOsLB4",
        "outputId": "db8ce7c7-ff11-4fc2-972c-0e5441c637d4"
      },
      "source": [
        "model.compile(optimizer='SGD', loss='categorical_crossentropy', metrics=['accuracy'])\n",
        "model.summary()"
      ],
      "execution_count": 6,
      "outputs": [
        {
          "output_type": "stream",
          "text": [
            "Model: \"model\"\n",
            "_________________________________________________________________\n",
            "Layer (type)                 Output Shape              Param #   \n",
            "=================================================================\n",
            "input_1 (InputLayer)         [(None, 224, 224, 3)]     0         \n",
            "_________________________________________________________________\n",
            "conv2d (Conv2D)              (None, 224, 224, 64)      1792      \n",
            "_________________________________________________________________\n",
            "conv2d_1 (Conv2D)            (None, 224, 224, 64)      36928     \n",
            "_________________________________________________________________\n",
            "max_pooling2d (MaxPooling2D) (None, 112, 112, 64)      0         \n",
            "_________________________________________________________________\n",
            "conv2d_2 (Conv2D)            (None, 112, 112, 128)     73856     \n",
            "_________________________________________________________________\n",
            "conv2d_3 (Conv2D)            (None, 112, 112, 128)     147584    \n",
            "_________________________________________________________________\n",
            "max_pooling2d_1 (MaxPooling2 (None, 56, 56, 128)       0         \n",
            "_________________________________________________________________\n",
            "conv2d_4 (Conv2D)            (None, 56, 56, 256)       295168    \n",
            "_________________________________________________________________\n",
            "conv2d_5 (Conv2D)            (None, 56, 56, 256)       590080    \n",
            "_________________________________________________________________\n",
            "conv2d_6 (Conv2D)            (None, 56, 56, 256)       590080    \n",
            "_________________________________________________________________\n",
            "max_pooling2d_2 (MaxPooling2 (None, 28, 28, 256)       0         \n",
            "_________________________________________________________________\n",
            "conv2d_7 (Conv2D)            (None, 28, 28, 512)       1180160   \n",
            "_________________________________________________________________\n",
            "conv2d_8 (Conv2D)            (None, 28, 28, 512)       2359808   \n",
            "_________________________________________________________________\n",
            "conv2d_9 (Conv2D)            (None, 28, 28, 512)       2359808   \n",
            "_________________________________________________________________\n",
            "max_pooling2d_3 (MaxPooling2 (None, 14, 14, 512)       0         \n",
            "_________________________________________________________________\n",
            "conv2d_10 (Conv2D)           (None, 14, 14, 512)       2359808   \n",
            "_________________________________________________________________\n",
            "conv2d_11 (Conv2D)           (None, 14, 14, 512)       2359808   \n",
            "_________________________________________________________________\n",
            "conv2d_12 (Conv2D)           (None, 14, 14, 512)       2359808   \n",
            "_________________________________________________________________\n",
            "max_pooling2d_4 (MaxPooling2 (None, 7, 7, 512)         0         \n",
            "_________________________________________________________________\n",
            "flatten (Flatten)            (None, 25088)             0         \n",
            "_________________________________________________________________\n",
            "dense (Dense)                (None, 512)               12845568  \n",
            "_________________________________________________________________\n",
            "dense_1 (Dense)              (None, 10)                5130      \n",
            "=================================================================\n",
            "Total params: 27,565,386\n",
            "Trainable params: 27,565,386\n",
            "Non-trainable params: 0\n",
            "_________________________________________________________________\n"
          ],
          "name": "stdout"
        }
      ]
    },
    {
      "cell_type": "code",
      "metadata": {
        "colab": {
          "base_uri": "https://localhost:8080/"
        },
        "id": "5SnVZrW6sOOI",
        "outputId": "bffe8ee4-6ecb-4dd1-dbb0-9299465bdaef"
      },
      "source": [
        "model.fit(train_generator, epochs=100, validation_data=test_generator)"
      ],
      "execution_count": 7,
      "outputs": [
        {
          "output_type": "stream",
          "text": [
            "Epoch 1/100\n",
            "4/4 [==============================] - 206s 48s/step - loss: 2.3024 - accuracy: 0.1000 - val_loss: 2.3023 - val_accuracy: 0.1000\n",
            "Epoch 2/100\n",
            "4/4 [==============================] - 192s 46s/step - loss: 2.3020 - accuracy: 0.1000 - val_loss: 2.3022 - val_accuracy: 0.1000\n",
            "Epoch 3/100\n",
            "4/4 [==============================] - 192s 46s/step - loss: 2.3020 - accuracy: 0.1000 - val_loss: 2.3020 - val_accuracy: 0.1000\n",
            "Epoch 4/100\n",
            "4/4 [==============================] - 196s 46s/step - loss: 2.3016 - accuracy: 0.1000 - val_loss: 2.3019 - val_accuracy: 0.1000\n",
            "Epoch 5/100\n",
            "4/4 [==============================] - 194s 46s/step - loss: 2.3015 - accuracy: 0.1000 - val_loss: 2.3018 - val_accuracy: 0.1000\n",
            "Epoch 6/100\n",
            "4/4 [==============================] - 193s 46s/step - loss: 2.3014 - accuracy: 0.1000 - val_loss: 2.3018 - val_accuracy: 0.1000\n",
            "Epoch 7/100\n",
            "4/4 [==============================] - 196s 46s/step - loss: 2.3013 - accuracy: 0.1000 - val_loss: 2.3017 - val_accuracy: 0.1000\n",
            "Epoch 8/100\n",
            "4/4 [==============================] - 194s 46s/step - loss: 2.3012 - accuracy: 0.1000 - val_loss: 2.3016 - val_accuracy: 0.1000\n",
            "Epoch 9/100\n",
            "4/4 [==============================] - 194s 46s/step - loss: 2.3009 - accuracy: 0.1000 - val_loss: 2.3016 - val_accuracy: 0.1000\n",
            "Epoch 10/100\n",
            "4/4 [==============================] - 193s 58s/step - loss: 2.3010 - accuracy: 0.1000 - val_loss: 2.3015 - val_accuracy: 0.1000\n",
            "Epoch 11/100\n",
            "4/4 [==============================] - 193s 46s/step - loss: 2.3008 - accuracy: 0.1000 - val_loss: 2.3015 - val_accuracy: 0.1000\n",
            "Epoch 12/100\n",
            "4/4 [==============================] - 194s 46s/step - loss: 2.3008 - accuracy: 0.1000 - val_loss: 2.3014 - val_accuracy: 0.1000\n",
            "Epoch 13/100\n",
            "4/4 [==============================] - 196s 47s/step - loss: 2.3007 - accuracy: 0.1000 - val_loss: 2.3014 - val_accuracy: 0.1000\n",
            "Epoch 14/100\n",
            "4/4 [==============================] - 193s 46s/step - loss: 2.3007 - accuracy: 0.1000 - val_loss: 2.3013 - val_accuracy: 0.1000\n",
            "Epoch 15/100\n",
            "4/4 [==============================] - 193s 58s/step - loss: 2.3005 - accuracy: 0.1300 - val_loss: 2.3012 - val_accuracy: 0.1000\n",
            "Epoch 16/100\n",
            "4/4 [==============================] - 194s 46s/step - loss: 2.3004 - accuracy: 0.1000 - val_loss: 2.3012 - val_accuracy: 0.1000\n",
            "Epoch 17/100\n",
            "4/4 [==============================] - 194s 58s/step - loss: 2.3006 - accuracy: 0.2100 - val_loss: 2.3011 - val_accuracy: 0.1000\n",
            "Epoch 18/100\n",
            "4/4 [==============================] - 194s 46s/step - loss: 2.3003 - accuracy: 0.2100 - val_loss: 2.3011 - val_accuracy: 0.1000\n",
            "Epoch 19/100\n",
            "4/4 [==============================] - 193s 46s/step - loss: 2.3002 - accuracy: 0.1600 - val_loss: 2.3011 - val_accuracy: 0.1000\n",
            "Epoch 20/100\n",
            "4/4 [==============================] - 194s 46s/step - loss: 2.3002 - accuracy: 0.1000 - val_loss: 2.3010 - val_accuracy: 0.1000\n",
            "Epoch 21/100\n",
            "4/4 [==============================] - 192s 46s/step - loss: 2.3003 - accuracy: 0.1200 - val_loss: 2.3009 - val_accuracy: 0.1000\n",
            "Epoch 22/100\n",
            "4/4 [==============================] - 193s 58s/step - loss: 2.3001 - accuracy: 0.1000 - val_loss: 2.3009 - val_accuracy: 0.1000\n",
            "Epoch 23/100\n",
            "4/4 [==============================] - 194s 58s/step - loss: 2.3001 - accuracy: 0.1000 - val_loss: 2.3009 - val_accuracy: 0.1000\n",
            "Epoch 24/100\n",
            "4/4 [==============================] - 193s 46s/step - loss: 2.2999 - accuracy: 0.1100 - val_loss: 2.3008 - val_accuracy: 0.1000\n",
            "Epoch 25/100\n",
            "4/4 [==============================] - 194s 58s/step - loss: 2.2999 - accuracy: 0.2200 - val_loss: 2.3008 - val_accuracy: 0.1000\n",
            "Epoch 26/100\n",
            "4/4 [==============================] - 193s 46s/step - loss: 2.2997 - accuracy: 0.1700 - val_loss: 2.3008 - val_accuracy: 0.1000\n",
            "Epoch 27/100\n",
            "4/4 [==============================] - 196s 47s/step - loss: 2.2998 - accuracy: 0.1700 - val_loss: 2.3007 - val_accuracy: 0.1000\n",
            "Epoch 28/100\n",
            "4/4 [==============================] - 194s 46s/step - loss: 2.2997 - accuracy: 0.1000 - val_loss: 2.3006 - val_accuracy: 0.1000\n",
            "Epoch 29/100\n",
            "4/4 [==============================] - 193s 46s/step - loss: 2.2996 - accuracy: 0.1000 - val_loss: 2.3006 - val_accuracy: 0.1000\n",
            "Epoch 30/100\n",
            "4/4 [==============================] - 193s 46s/step - loss: 2.2997 - accuracy: 0.1500 - val_loss: 2.3006 - val_accuracy: 0.1000\n",
            "Epoch 31/100\n",
            "4/4 [==============================] - 193s 46s/step - loss: 2.2995 - accuracy: 0.2000 - val_loss: 2.3005 - val_accuracy: 0.1000\n",
            "Epoch 32/100\n",
            "4/4 [==============================] - 193s 46s/step - loss: 2.2993 - accuracy: 0.1300 - val_loss: 2.3005 - val_accuracy: 0.1000\n",
            "Epoch 33/100\n",
            "4/4 [==============================] - 193s 46s/step - loss: 2.2993 - accuracy: 0.1600 - val_loss: 2.3005 - val_accuracy: 0.1000\n",
            "Epoch 34/100\n",
            "4/4 [==============================] - 192s 46s/step - loss: 2.2994 - accuracy: 0.2500 - val_loss: 2.3004 - val_accuracy: 0.1000\n",
            "Epoch 35/100\n",
            "4/4 [==============================] - 193s 46s/step - loss: 2.2992 - accuracy: 0.1400 - val_loss: 2.3004 - val_accuracy: 0.2000\n",
            "Epoch 36/100\n",
            "4/4 [==============================] - 194s 46s/step - loss: 2.2992 - accuracy: 0.2200 - val_loss: 2.3003 - val_accuracy: 0.2000\n",
            "Epoch 37/100\n",
            "4/4 [==============================] - 195s 59s/step - loss: 2.2991 - accuracy: 0.2100 - val_loss: 2.3003 - val_accuracy: 0.2000\n",
            "Epoch 38/100\n",
            "4/4 [==============================] - 193s 46s/step - loss: 2.2990 - accuracy: 0.2100 - val_loss: 2.3002 - val_accuracy: 0.2000\n",
            "Epoch 39/100\n",
            "4/4 [==============================] - 193s 46s/step - loss: 2.2989 - accuracy: 0.2300 - val_loss: 2.3002 - val_accuracy: 0.2000\n",
            "Epoch 40/100\n",
            "4/4 [==============================] - 193s 46s/step - loss: 2.2989 - accuracy: 0.3200 - val_loss: 2.3001 - val_accuracy: 0.2000\n",
            "Epoch 41/100\n",
            "4/4 [==============================] - 194s 58s/step - loss: 2.2989 - accuracy: 0.3900 - val_loss: 2.3001 - val_accuracy: 0.2000\n",
            "Epoch 42/100\n",
            "4/4 [==============================] - 194s 46s/step - loss: 2.2987 - accuracy: 0.5300 - val_loss: 2.3001 - val_accuracy: 0.1000\n",
            "Epoch 43/100\n",
            "4/4 [==============================] - 194s 46s/step - loss: 2.2987 - accuracy: 0.2100 - val_loss: 2.3000 - val_accuracy: 0.1000\n",
            "Epoch 44/100\n",
            "4/4 [==============================] - 194s 47s/step - loss: 2.2986 - accuracy: 0.2200 - val_loss: 2.3000 - val_accuracy: 0.2000\n",
            "Epoch 45/100\n",
            "4/4 [==============================] - 194s 59s/step - loss: 2.2987 - accuracy: 0.2100 - val_loss: 2.2999 - val_accuracy: 0.1000\n",
            "Epoch 46/100\n",
            "4/4 [==============================] - 194s 46s/step - loss: 2.2984 - accuracy: 0.1800 - val_loss: 2.2999 - val_accuracy: 0.2000\n",
            "Epoch 47/100\n",
            "4/4 [==============================] - 196s 47s/step - loss: 2.2984 - accuracy: 0.2000 - val_loss: 2.2999 - val_accuracy: 0.1000\n",
            "Epoch 48/100\n",
            "4/4 [==============================] - 194s 58s/step - loss: 2.2983 - accuracy: 0.2000 - val_loss: 2.2998 - val_accuracy: 0.2000\n",
            "Epoch 49/100\n",
            "4/4 [==============================] - 195s 46s/step - loss: 2.2983 - accuracy: 0.2200 - val_loss: 2.2998 - val_accuracy: 0.2000\n",
            "Epoch 50/100\n",
            "4/4 [==============================] - 194s 46s/step - loss: 2.2983 - accuracy: 0.2200 - val_loss: 2.2997 - val_accuracy: 0.2000\n",
            "Epoch 51/100\n",
            "4/4 [==============================] - 193s 46s/step - loss: 2.2982 - accuracy: 0.2400 - val_loss: 2.2997 - val_accuracy: 0.2000\n",
            "Epoch 52/100\n",
            "4/4 [==============================] - 194s 46s/step - loss: 2.2980 - accuracy: 0.2100 - val_loss: 2.2996 - val_accuracy: 0.2000\n",
            "Epoch 53/100\n",
            "4/4 [==============================] - 193s 46s/step - loss: 2.2980 - accuracy: 0.2000 - val_loss: 2.2996 - val_accuracy: 0.2000\n",
            "Epoch 54/100\n",
            "4/4 [==============================] - 194s 58s/step - loss: 2.2980 - accuracy: 0.2900 - val_loss: 2.2995 - val_accuracy: 0.2000\n",
            "Epoch 55/100\n",
            "4/4 [==============================] - 193s 46s/step - loss: 2.2977 - accuracy: 0.3000 - val_loss: 2.2995 - val_accuracy: 0.2000\n",
            "Epoch 56/100\n",
            "4/4 [==============================] - 193s 46s/step - loss: 2.2978 - accuracy: 0.2200 - val_loss: 2.2994 - val_accuracy: 0.2000\n",
            "Epoch 57/100\n",
            "4/4 [==============================] - 193s 58s/step - loss: 2.2977 - accuracy: 0.2900 - val_loss: 2.2994 - val_accuracy: 0.2000\n",
            "Epoch 58/100\n",
            "4/4 [==============================] - 193s 46s/step - loss: 2.2977 - accuracy: 0.2200 - val_loss: 2.2993 - val_accuracy: 0.2000\n",
            "Epoch 59/100\n",
            "4/4 [==============================] - 193s 46s/step - loss: 2.2975 - accuracy: 0.2400 - val_loss: 2.2993 - val_accuracy: 0.1000\n",
            "Epoch 60/100\n",
            "4/4 [==============================] - 193s 58s/step - loss: 2.2975 - accuracy: 0.2000 - val_loss: 2.2992 - val_accuracy: 0.1000\n",
            "Epoch 61/100\n",
            "4/4 [==============================] - 194s 46s/step - loss: 2.2973 - accuracy: 0.2000 - val_loss: 2.2991 - val_accuracy: 0.2000\n",
            "Epoch 62/100\n",
            "4/4 [==============================] - 194s 46s/step - loss: 2.2972 - accuracy: 0.2000 - val_loss: 2.2991 - val_accuracy: 0.1000\n",
            "Epoch 63/100\n",
            "4/4 [==============================] - 193s 46s/step - loss: 2.2971 - accuracy: 0.2000 - val_loss: 2.2990 - val_accuracy: 0.2000\n",
            "Epoch 64/100\n",
            "4/4 [==============================] - 194s 46s/step - loss: 2.2970 - accuracy: 0.2000 - val_loss: 2.2990 - val_accuracy: 0.2000\n",
            "Epoch 65/100\n",
            "4/4 [==============================] - 194s 46s/step - loss: 2.2970 - accuracy: 0.2600 - val_loss: 2.2989 - val_accuracy: 0.2000\n",
            "Epoch 66/100\n",
            "4/4 [==============================] - 193s 46s/step - loss: 2.2969 - accuracy: 0.2900 - val_loss: 2.2988 - val_accuracy: 0.2000\n",
            "Epoch 67/100\n",
            "4/4 [==============================] - 194s 46s/step - loss: 2.2968 - accuracy: 0.2900 - val_loss: 2.2988 - val_accuracy: 0.2000\n",
            "Epoch 68/100\n",
            "4/4 [==============================] - 192s 46s/step - loss: 2.2967 - accuracy: 0.2500 - val_loss: 2.2987 - val_accuracy: 0.2000\n",
            "Epoch 69/100\n",
            "4/4 [==============================] - 193s 46s/step - loss: 2.2965 - accuracy: 0.3000 - val_loss: 2.2986 - val_accuracy: 0.2000\n",
            "Epoch 70/100\n",
            "4/4 [==============================] - 196s 59s/step - loss: 2.2966 - accuracy: 0.3000 - val_loss: 2.2986 - val_accuracy: 0.2000\n",
            "Epoch 71/100\n",
            "4/4 [==============================] - 193s 46s/step - loss: 2.2965 - accuracy: 0.3500 - val_loss: 2.2985 - val_accuracy: 0.2000\n",
            "Epoch 72/100\n",
            "4/4 [==============================] - 193s 58s/step - loss: 2.2963 - accuracy: 0.4000 - val_loss: 2.2984 - val_accuracy: 0.2000\n",
            "Epoch 73/100\n",
            "4/4 [==============================] - 193s 46s/step - loss: 2.2961 - accuracy: 0.4000 - val_loss: 2.2983 - val_accuracy: 0.2500\n",
            "Epoch 74/100\n",
            "4/4 [==============================] - 194s 46s/step - loss: 2.2961 - accuracy: 0.3400 - val_loss: 2.2983 - val_accuracy: 0.2000\n",
            "Epoch 75/100\n",
            "4/4 [==============================] - 193s 46s/step - loss: 2.2959 - accuracy: 0.3600 - val_loss: 2.2982 - val_accuracy: 0.3000\n",
            "Epoch 76/100\n",
            "4/4 [==============================] - 193s 46s/step - loss: 2.2959 - accuracy: 0.4400 - val_loss: 2.2981 - val_accuracy: 0.3000\n",
            "Epoch 77/100\n",
            "4/4 [==============================] - 193s 46s/step - loss: 2.2957 - accuracy: 0.5000 - val_loss: 2.2981 - val_accuracy: 0.4000\n",
            "Epoch 78/100\n",
            "4/4 [==============================] - 194s 59s/step - loss: 2.2957 - accuracy: 0.5000 - val_loss: 2.2980 - val_accuracy: 0.2000\n",
            "Epoch 79/100\n",
            "4/4 [==============================] - 195s 59s/step - loss: 2.2955 - accuracy: 0.5300 - val_loss: 2.2979 - val_accuracy: 0.2000\n",
            "Epoch 80/100\n",
            "4/4 [==============================] - 194s 46s/step - loss: 2.2954 - accuracy: 0.5200 - val_loss: 2.2978 - val_accuracy: 0.2000\n",
            "Epoch 81/100\n",
            "4/4 [==============================] - 193s 46s/step - loss: 2.2953 - accuracy: 0.4800 - val_loss: 2.2977 - val_accuracy: 0.3500\n",
            "Epoch 82/100\n",
            "4/4 [==============================] - 194s 58s/step - loss: 2.2953 - accuracy: 0.6500 - val_loss: 2.2976 - val_accuracy: 0.2000\n",
            "Epoch 83/100\n",
            "4/4 [==============================] - 194s 46s/step - loss: 2.2951 - accuracy: 0.6200 - val_loss: 2.2975 - val_accuracy: 0.2000\n",
            "Epoch 84/100\n",
            "4/4 [==============================] - 194s 46s/step - loss: 2.2949 - accuracy: 0.5500 - val_loss: 2.2974 - val_accuracy: 0.2000\n",
            "Epoch 85/100\n",
            "4/4 [==============================] - 194s 58s/step - loss: 2.2948 - accuracy: 0.6000 - val_loss: 2.2973 - val_accuracy: 0.2000\n",
            "Epoch 86/100\n",
            "4/4 [==============================] - 193s 46s/step - loss: 2.2947 - accuracy: 0.6400 - val_loss: 2.2972 - val_accuracy: 0.2000\n",
            "Epoch 87/100\n",
            "4/4 [==============================] - 193s 46s/step - loss: 2.2944 - accuracy: 0.6400 - val_loss: 2.2972 - val_accuracy: 0.4500\n",
            "Epoch 88/100\n",
            "4/4 [==============================] - 193s 46s/step - loss: 2.2943 - accuracy: 0.7000 - val_loss: 2.2970 - val_accuracy: 0.3000\n",
            "Epoch 89/100\n",
            "4/4 [==============================] - 193s 46s/step - loss: 2.2943 - accuracy: 0.7000 - val_loss: 2.2969 - val_accuracy: 0.4000\n",
            "Epoch 90/100\n",
            "4/4 [==============================] - 194s 46s/step - loss: 2.2941 - accuracy: 0.7000 - val_loss: 2.2968 - val_accuracy: 0.4000\n",
            "Epoch 91/100\n",
            "4/4 [==============================] - 194s 46s/step - loss: 2.2939 - accuracy: 0.7000 - val_loss: 2.2967 - val_accuracy: 0.4000\n",
            "Epoch 92/100\n",
            "4/4 [==============================] - 193s 46s/step - loss: 2.2936 - accuracy: 0.7000 - val_loss: 2.2966 - val_accuracy: 0.5000\n",
            "Epoch 93/100\n",
            "4/4 [==============================] - 193s 46s/step - loss: 2.2935 - accuracy: 0.7100 - val_loss: 2.2965 - val_accuracy: 0.5000\n",
            "Epoch 94/100\n",
            "4/4 [==============================] - 193s 58s/step - loss: 2.2934 - accuracy: 0.7100 - val_loss: 2.2964 - val_accuracy: 0.4000\n",
            "Epoch 95/100\n",
            "4/4 [==============================] - 194s 46s/step - loss: 2.2931 - accuracy: 0.7000 - val_loss: 2.2962 - val_accuracy: 0.4000\n",
            "Epoch 96/100\n",
            "4/4 [==============================] - 194s 59s/step - loss: 2.2931 - accuracy: 0.7100 - val_loss: 2.2961 - val_accuracy: 0.4000\n",
            "Epoch 97/100\n",
            "4/4 [==============================] - 194s 46s/step - loss: 2.2929 - accuracy: 0.7000 - val_loss: 2.2960 - val_accuracy: 0.5000\n",
            "Epoch 98/100\n",
            "4/4 [==============================] - 193s 46s/step - loss: 2.2926 - accuracy: 0.7800 - val_loss: 2.2959 - val_accuracy: 0.5000\n",
            "Epoch 99/100\n",
            "4/4 [==============================] - 194s 46s/step - loss: 2.2926 - accuracy: 0.8000 - val_loss: 2.2957 - val_accuracy: 0.4000\n",
            "Epoch 100/100\n",
            "4/4 [==============================] - 194s 58s/step - loss: 2.2923 - accuracy: 0.8300 - val_loss: 2.2956 - val_accuracy: 0.4000\n"
          ],
          "name": "stdout"
        },
        {
          "output_type": "execute_result",
          "data": {
            "text/plain": [
              "<tensorflow.python.keras.callbacks.History at 0x7f78cfe39a10>"
            ]
          },
          "metadata": {
            "tags": []
          },
          "execution_count": 7
        }
      ]
    },
    {
      "cell_type": "code",
      "metadata": {
        "id": "LFv-MPjc6r7H",
        "colab": {
          "base_uri": "https://localhost:8080/"
        },
        "outputId": "cd75393f-08db-42e6-85da-220d8349b63b"
      },
      "source": [
        "print(\"-- Evaluate --\")\n",
        "scores = model.evaluate(test_generator)\n",
        "print(\"%s: %.2f%%\" %(model.metrics_names[1], scores[1]*100))"
      ],
      "execution_count": 8,
      "outputs": [
        {
          "output_type": "stream",
          "text": [
            "-- Evaluate --\n",
            "1/1 [==============================] - 10s 10s/step - loss: 2.2956 - accuracy: 0.4000\n",
            "accuracy: 40.00%\n"
          ],
          "name": "stdout"
        }
      ]
    },
    {
      "cell_type": "code",
      "metadata": {
        "id": "E2CapNMx61Xt",
        "colab": {
          "base_uri": "https://localhost:8080/"
        },
        "outputId": "c56a748e-4fbc-4f76-d053-f5ad4eec3c0f"
      },
      "source": [
        "print(\"-- Predict --\")\n",
        "output = model.predict(test_generator)\n",
        "np.set_printoptions(formatter={'float': lambda x: \"{0:0.3f}\".format(x)})\n",
        "print(test_generator.class_indices)\n",
        "print(output)"
      ],
      "execution_count": 9,
      "outputs": [
        {
          "output_type": "stream",
          "text": [
            "-- Predict --\n",
            "{'0': 0, '1': 1, '2': 2, '3': 3, '4': 4, '5': 5, '6': 6, '7': 7, '8': 8, '9': 9}\n",
            "[[0.100 0.100 0.100 0.100 0.099 0.101 0.100 0.100 0.100 0.100]\n",
            " [0.100 0.100 0.100 0.100 0.098 0.100 0.101 0.101 0.101 0.100]\n",
            " [0.101 0.100 0.100 0.100 0.098 0.099 0.101 0.101 0.101 0.100]\n",
            " [0.100 0.100 0.100 0.100 0.098 0.099 0.101 0.101 0.100 0.100]\n",
            " [0.100 0.100 0.100 0.100 0.098 0.099 0.101 0.101 0.100 0.100]\n",
            " [0.100 0.100 0.100 0.100 0.099 0.101 0.100 0.100 0.100 0.100]\n",
            " [0.100 0.100 0.100 0.100 0.098 0.099 0.101 0.101 0.100 0.101]\n",
            " [0.100 0.100 0.101 0.100 0.098 0.100 0.100 0.101 0.100 0.100]\n",
            " [0.100 0.100 0.100 0.100 0.098 0.099 0.101 0.101 0.100 0.101]\n",
            " [0.100 0.101 0.100 0.100 0.098 0.099 0.101 0.101 0.100 0.100]\n",
            " [0.100 0.100 0.100 0.101 0.098 0.099 0.101 0.101 0.100 0.101]\n",
            " [0.100 0.100 0.100 0.100 0.099 0.099 0.100 0.102 0.100 0.100]\n",
            " [0.100 0.100 0.100 0.100 0.099 0.099 0.100 0.102 0.100 0.100]\n",
            " [0.100 0.100 0.100 0.101 0.098 0.099 0.101 0.101 0.100 0.101]\n",
            " [0.100 0.100 0.101 0.100 0.100 0.100 0.100 0.101 0.100 0.100]\n",
            " [0.100 0.101 0.100 0.100 0.098 0.099 0.101 0.101 0.100 0.100]\n",
            " [0.100 0.100 0.101 0.100 0.100 0.100 0.100 0.101 0.100 0.100]\n",
            " [0.100 0.100 0.100 0.100 0.098 0.100 0.101 0.101 0.101 0.100]\n",
            " [0.101 0.100 0.100 0.100 0.098 0.099 0.101 0.101 0.101 0.100]\n",
            " [0.100 0.100 0.101 0.100 0.098 0.100 0.100 0.101 0.100 0.100]]\n"
          ],
          "name": "stdout"
        }
      ]
    },
    {
      "cell_type": "code",
      "metadata": {
        "id": "tgpq2mw87JUN",
        "colab": {
          "base_uri": "https://localhost:8080/"
        },
        "outputId": "cef8402b-030a-4d54-a48a-423b0244041e"
      },
      "source": [
        "for i in range(0, 10):\n",
        "  print(\"Result:\", i+1)\n",
        "  print(output[i])\n",
        "  print(\"\\n\")"
      ],
      "execution_count": 10,
      "outputs": [
        {
          "output_type": "stream",
          "text": [
            "Result: 1\n",
            "[0.100 0.100 0.100 0.100 0.099 0.101 0.100 0.100 0.100 0.100]\n",
            "\n",
            "\n",
            "Result: 2\n",
            "[0.100 0.100 0.100 0.100 0.098 0.100 0.101 0.101 0.101 0.100]\n",
            "\n",
            "\n",
            "Result: 3\n",
            "[0.101 0.100 0.100 0.100 0.098 0.099 0.101 0.101 0.101 0.100]\n",
            "\n",
            "\n",
            "Result: 4\n",
            "[0.100 0.100 0.100 0.100 0.098 0.099 0.101 0.101 0.100 0.100]\n",
            "\n",
            "\n",
            "Result: 5\n",
            "[0.100 0.100 0.100 0.100 0.098 0.099 0.101 0.101 0.100 0.100]\n",
            "\n",
            "\n",
            "Result: 6\n",
            "[0.100 0.100 0.100 0.100 0.099 0.101 0.100 0.100 0.100 0.100]\n",
            "\n",
            "\n",
            "Result: 7\n",
            "[0.100 0.100 0.100 0.100 0.098 0.099 0.101 0.101 0.100 0.101]\n",
            "\n",
            "\n",
            "Result: 8\n",
            "[0.100 0.100 0.101 0.100 0.098 0.100 0.100 0.101 0.100 0.100]\n",
            "\n",
            "\n",
            "Result: 9\n",
            "[0.100 0.100 0.100 0.100 0.098 0.099 0.101 0.101 0.100 0.101]\n",
            "\n",
            "\n",
            "Result: 10\n",
            "[0.100 0.101 0.100 0.100 0.098 0.099 0.101 0.101 0.100 0.100]\n",
            "\n",
            "\n"
          ],
          "name": "stdout"
        }
      ]
    }
  ]
}