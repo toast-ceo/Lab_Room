{
  "nbformat": 4,
  "nbformat_minor": 0,
  "metadata": {
    "colab": {
      "name": "VGG_step1_epoch100.ipynb",
      "provenance": [],
      "collapsed_sections": [],
      "authorship_tag": "ABX9TyMTd+dWmqlP8qQN2b8iliUP",
      "include_colab_link": true
    },
    "kernelspec": {
      "name": "python3",
      "display_name": "Python 3"
    },
    "language_info": {
      "name": "python"
    }
  },
  "cells": [
    {
      "cell_type": "markdown",
      "metadata": {
        "id": "view-in-github",
        "colab_type": "text"
      },
      "source": [
        "<a href=\"https://colab.research.google.com/github/toast-ceo/Lab_Room/blob/main/VGG_step1_epoch100.ipynb\" target=\"_parent\"><img src=\"https://colab.research.google.com/assets/colab-badge.svg\" alt=\"Open In Colab\"/></a>"
      ]
    },
    {
      "cell_type": "code",
      "metadata": {
        "id": "ODuFRZq56L6O",
        "colab": {
          "base_uri": "https://localhost:8080/"
        },
        "outputId": "af34685d-62b6-4f70-9715-86ac7a715a8c"
      },
      "source": [
        "# vgg 19 훈련\n",
        "\n",
        "from google.colab import drive\n",
        "drive.mount('face550_step')\n",
        "import tensorflow as tf\n",
        "import numpy as np\n",
        "import keras\n",
        "import cv2\n",
        "\n",
        "from keras.applications.vgg19 import VGG19\n",
        "from keras.models import Sequential\n",
        "from keras.layers import Dense\n",
        "from keras.layers import Flatten\n",
        "from keras.layers.convolutional import Conv2D\n",
        "from keras.layers.convolutional import MaxPooling2D\n",
        "from keras.preprocessing.image import ImageDataGenerator\n",
        "from sklearn.model_selection import train_test_split\n"
      ],
      "execution_count": 8,
      "outputs": [
        {
          "output_type": "stream",
          "text": [
            "Drive already mounted at face550_step; to attempt to forcibly remount, call drive.mount(\"face550_step\", force_remount=True).\n"
          ],
          "name": "stdout"
        }
      ]
    },
    {
      "cell_type": "code",
      "metadata": {
        "colab": {
          "base_uri": "https://localhost:8080/"
        },
        "id": "kpmX7B5g6j9T",
        "outputId": "15bd6230-798f-4f33-b3d1-5687a0effce3"
      },
      "source": [
        "numberOfClass = 30\n",
        "pictureWeightHeightSize = 224\n",
        "\n",
        "train_datagen = ImageDataGenerator(rescale=1./255)\n",
        "\n",
        "train_generator = train_datagen.flow_from_directory(\n",
        "        '/content/face550_step/MyDrive/face550_step/step1_train/',\n",
        "        target_size=(pictureWeightHeightSize, pictureWeightHeightSize),\n",
        "        batch_size=numberOfClass,\n",
        "        class_mode='categorical')\n",
        "\n",
        "test_datagen = ImageDataGenerator(rescale=1./255)\n",
        "\n",
        "test_generator = test_datagen.flow_from_directory(\n",
        "        '/content/face550_step/MyDrive/face550_step/step1_test/',\n",
        "        target_size=(pictureWeightHeightSize, pictureWeightHeightSize),    \n",
        "        batch_size=numberOfClass,\n",
        "        class_mode='categorical')"
      ],
      "execution_count": 9,
      "outputs": [
        {
          "output_type": "stream",
          "text": [
            "Found 50 images belonging to 5 classes.\n",
            "Found 10 images belonging to 5 classes.\n"
          ],
          "name": "stdout"
        }
      ]
    },
    {
      "cell_type": "code",
      "metadata": {
        "id": "JsYYeRQ5r8hQ"
      },
      "source": [
        "input_layer = tf.keras.layers.Input(shape=(224, 224, 3))\n",
        "\n",
        "vgg_block01 = tf.keras.layers.Conv2D(64 , (3,3), padding= 'SAME', activation=\"relu\")(input_layer)\n",
        "vgg_block01 = tf.keras.layers.Conv2D(64 , (3,3), padding= 'SAME', activation=\"relu\")(vgg_block01)\n",
        "vgg_block01 = tf.keras.layers.MaxPool2D((2,2))(vgg_block01)\n",
        "\n",
        "\n",
        "vgg_block02 = tf.keras.layers.Conv2D(128 , (3,3), padding= 'SAME', activation=\"relu\")(vgg_block01)\n",
        "vgg_block02 = tf.keras.layers.Conv2D(128, (3,3), padding= 'SAME', activation=\"relu\")(vgg_block02)\n",
        "vgg_block02 = tf.keras.layers.MaxPool2D((2,2))(vgg_block02)\n",
        "\n",
        "\n",
        "vgg_block03 = tf.keras.layers.Conv2D(256, (3,3), padding= 'SAME', activation=\"relu\")(vgg_block02)\n",
        "vgg_block03 = tf.keras.layers.Conv2D(256, (3,3), padding= 'SAME', activation=\"relu\")(vgg_block03)\n",
        "vgg_block03 = tf.keras.layers.Conv2D(256, (3,3), padding= 'SAME', activation=\"relu\")(vgg_block03)\n",
        "vgg_block03 = tf.keras.layers.MaxPool2D((2,2))(vgg_block03)\n",
        "\n",
        "vgg_block04 = tf.keras.layers.Conv2D(512, (3,3), padding= 'SAME', activation=\"relu\")(vgg_block03)\n",
        "vgg_block04 = tf.keras.layers.Conv2D(512, (3,3), padding= 'SAME', activation=\"relu\")(vgg_block04)\n",
        "vgg_block04 = tf.keras.layers.Conv2D(512, (3,3), padding= 'SAME', activation=\"relu\")(vgg_block04)\n",
        "vgg_block04 = tf.keras.layers.MaxPool2D((2,2))(vgg_block04)\n",
        "\n",
        "vgg_block05 = tf.keras.layers.Conv2D(512, (3,3), padding= 'SAME', activation=\"relu\")(vgg_block04)\n",
        "vgg_block05 = tf.keras.layers.Conv2D(512, (3,3), padding= 'SAME', activation=\"relu\")(vgg_block05)\n",
        "vgg_block05 = tf.keras.layers.Conv2D(512, (3,3), padding= 'SAME', activation=\"relu\")(vgg_block05)\n",
        "vgg_block05 = tf.keras.layers.MaxPool2D((2,2))(vgg_block05)\n"
      ],
      "execution_count": 10,
      "outputs": []
    },
    {
      "cell_type": "code",
      "metadata": {
        "id": "NOYfQLnnsBHg"
      },
      "source": [
        "flatten = tf.keras.layers.Flatten()(vgg_block05)\n",
        "dense01 = tf.keras.layers.Dense(512, activation='relu')(flatten)\n",
        "output = tf.keras.layers.Dense(5, activation='softmax')(dense01)"
      ],
      "execution_count": 11,
      "outputs": []
    },
    {
      "cell_type": "code",
      "metadata": {
        "id": "hD1UWBZosJzA"
      },
      "source": [
        "\n",
        "model = tf.keras.models.Model(input_layer, output)\n"
      ],
      "execution_count": 12,
      "outputs": []
    },
    {
      "cell_type": "code",
      "metadata": {
        "colab": {
          "base_uri": "https://localhost:8080/"
        },
        "id": "1HQyxSaOsLB4",
        "outputId": "de04d37d-a949-4417-9e71-01d37f249989"
      },
      "source": [
        "model.compile(optimizer='adam', loss='categorical_crossentropy', metrics=['accuracy'])\n",
        "model.summary()"
      ],
      "execution_count": 13,
      "outputs": [
        {
          "output_type": "stream",
          "text": [
            "Model: \"model_1\"\n",
            "_________________________________________________________________\n",
            "Layer (type)                 Output Shape              Param #   \n",
            "=================================================================\n",
            "input_2 (InputLayer)         [(None, 224, 224, 3)]     0         \n",
            "_________________________________________________________________\n",
            "conv2d_13 (Conv2D)           (None, 224, 224, 64)      1792      \n",
            "_________________________________________________________________\n",
            "conv2d_14 (Conv2D)           (None, 224, 224, 64)      36928     \n",
            "_________________________________________________________________\n",
            "max_pooling2d_5 (MaxPooling2 (None, 112, 112, 64)      0         \n",
            "_________________________________________________________________\n",
            "conv2d_15 (Conv2D)           (None, 112, 112, 128)     73856     \n",
            "_________________________________________________________________\n",
            "conv2d_16 (Conv2D)           (None, 112, 112, 128)     147584    \n",
            "_________________________________________________________________\n",
            "max_pooling2d_6 (MaxPooling2 (None, 56, 56, 128)       0         \n",
            "_________________________________________________________________\n",
            "conv2d_17 (Conv2D)           (None, 56, 56, 256)       295168    \n",
            "_________________________________________________________________\n",
            "conv2d_18 (Conv2D)           (None, 56, 56, 256)       590080    \n",
            "_________________________________________________________________\n",
            "conv2d_19 (Conv2D)           (None, 56, 56, 256)       590080    \n",
            "_________________________________________________________________\n",
            "max_pooling2d_7 (MaxPooling2 (None, 28, 28, 256)       0         \n",
            "_________________________________________________________________\n",
            "conv2d_20 (Conv2D)           (None, 28, 28, 512)       1180160   \n",
            "_________________________________________________________________\n",
            "conv2d_21 (Conv2D)           (None, 28, 28, 512)       2359808   \n",
            "_________________________________________________________________\n",
            "conv2d_22 (Conv2D)           (None, 28, 28, 512)       2359808   \n",
            "_________________________________________________________________\n",
            "max_pooling2d_8 (MaxPooling2 (None, 14, 14, 512)       0         \n",
            "_________________________________________________________________\n",
            "conv2d_23 (Conv2D)           (None, 14, 14, 512)       2359808   \n",
            "_________________________________________________________________\n",
            "conv2d_24 (Conv2D)           (None, 14, 14, 512)       2359808   \n",
            "_________________________________________________________________\n",
            "conv2d_25 (Conv2D)           (None, 14, 14, 512)       2359808   \n",
            "_________________________________________________________________\n",
            "max_pooling2d_9 (MaxPooling2 (None, 7, 7, 512)         0         \n",
            "_________________________________________________________________\n",
            "flatten_1 (Flatten)          (None, 25088)             0         \n",
            "_________________________________________________________________\n",
            "dense_2 (Dense)              (None, 512)               12845568  \n",
            "_________________________________________________________________\n",
            "dense_3 (Dense)              (None, 5)                 2565      \n",
            "=================================================================\n",
            "Total params: 27,562,821\n",
            "Trainable params: 27,562,821\n",
            "Non-trainable params: 0\n",
            "_________________________________________________________________\n"
          ],
          "name": "stdout"
        }
      ]
    },
    {
      "cell_type": "code",
      "metadata": {
        "colab": {
          "base_uri": "https://localhost:8080/"
        },
        "id": "5SnVZrW6sOOI",
        "outputId": "0f961861-6be9-4882-bc07-4aa08a8a7923"
      },
      "source": [
        "model.fit(train_generator, epochs=100, validation_data=test_generator)"
      ],
      "execution_count": 14,
      "outputs": [
        {
          "output_type": "stream",
          "text": [
            "Epoch 1/100\n",
            "2/2 [==============================] - 90s 38s/step - loss: 3.7288 - accuracy: 0.1800 - val_loss: 1.6095 - val_accuracy: 0.2000\n",
            "Epoch 2/100\n",
            "2/2 [==============================] - 85s 37s/step - loss: 1.6117 - accuracy: 0.2000 - val_loss: 1.6096 - val_accuracy: 0.2000\n",
            "Epoch 3/100\n",
            "2/2 [==============================] - 85s 53s/step - loss: 1.6102 - accuracy: 0.1600 - val_loss: 1.6095 - val_accuracy: 0.2000\n",
            "Epoch 4/100\n",
            "2/2 [==============================] - 85s 53s/step - loss: 1.6103 - accuracy: 0.2000 - val_loss: 1.6095 - val_accuracy: 0.2000\n",
            "Epoch 5/100\n",
            "2/2 [==============================] - 85s 53s/step - loss: 1.6099 - accuracy: 0.2000 - val_loss: 1.6095 - val_accuracy: 0.2000\n",
            "Epoch 6/100\n",
            "2/2 [==============================] - 85s 37s/step - loss: 1.6101 - accuracy: 0.2000 - val_loss: 1.6095 - val_accuracy: 0.2000\n",
            "Epoch 7/100\n",
            "2/2 [==============================] - 85s 53s/step - loss: 1.6095 - accuracy: 0.2000 - val_loss: 1.6095 - val_accuracy: 0.2000\n",
            "Epoch 8/100\n",
            "2/2 [==============================] - 85s 53s/step - loss: 1.6095 - accuracy: 0.1800 - val_loss: 1.6095 - val_accuracy: 0.2000\n",
            "Epoch 9/100\n",
            "2/2 [==============================] - 86s 37s/step - loss: 1.6093 - accuracy: 0.2000 - val_loss: 1.6094 - val_accuracy: 0.2000\n",
            "Epoch 10/100\n",
            "2/2 [==============================] - 85s 37s/step - loss: 1.6085 - accuracy: 0.2000 - val_loss: 1.6132 - val_accuracy: 0.2000\n",
            "Epoch 11/100\n",
            "2/2 [==============================] - 85s 53s/step - loss: 1.7327 - accuracy: 0.2000 - val_loss: 1.6088 - val_accuracy: 0.2000\n",
            "Epoch 12/100\n",
            "2/2 [==============================] - 85s 37s/step - loss: 1.5976 - accuracy: 0.3000 - val_loss: 1.6095 - val_accuracy: 0.2000\n",
            "Epoch 13/100\n",
            "2/2 [==============================] - 85s 52s/step - loss: 1.6097 - accuracy: 0.2000 - val_loss: 1.6095 - val_accuracy: 0.2000\n",
            "Epoch 14/100\n",
            "2/2 [==============================] - 85s 53s/step - loss: 1.6098 - accuracy: 0.2000 - val_loss: 1.6096 - val_accuracy: 0.2000\n",
            "Epoch 15/100\n",
            "2/2 [==============================] - 85s 53s/step - loss: 1.6097 - accuracy: 0.2000 - val_loss: 1.6096 - val_accuracy: 0.2000\n",
            "Epoch 16/100\n",
            "2/2 [==============================] - 85s 52s/step - loss: 1.6098 - accuracy: 0.1600 - val_loss: 1.6096 - val_accuracy: 0.2000\n",
            "Epoch 17/100\n",
            "2/2 [==============================] - 85s 37s/step - loss: 1.6101 - accuracy: 0.2000 - val_loss: 1.6096 - val_accuracy: 0.2000\n",
            "Epoch 18/100\n",
            "2/2 [==============================] - 85s 53s/step - loss: 1.6097 - accuracy: 0.2000 - val_loss: 1.6096 - val_accuracy: 0.2000\n",
            "Epoch 19/100\n",
            "2/2 [==============================] - 85s 37s/step - loss: 1.6096 - accuracy: 0.2000 - val_loss: 1.6096 - val_accuracy: 0.2000\n",
            "Epoch 20/100\n",
            "2/2 [==============================] - 85s 53s/step - loss: 1.6096 - accuracy: 0.2000 - val_loss: 1.6096 - val_accuracy: 0.2000\n",
            "Epoch 21/100\n",
            "2/2 [==============================] - 85s 52s/step - loss: 1.6097 - accuracy: 0.2000 - val_loss: 1.6095 - val_accuracy: 0.2000\n",
            "Epoch 22/100\n",
            "2/2 [==============================] - 85s 52s/step - loss: 1.6096 - accuracy: 0.2000 - val_loss: 1.6095 - val_accuracy: 0.2000\n",
            "Epoch 23/100\n",
            "2/2 [==============================] - 85s 53s/step - loss: 1.6097 - accuracy: 0.2000 - val_loss: 1.6095 - val_accuracy: 0.2000\n",
            "Epoch 24/100\n",
            "2/2 [==============================] - 85s 52s/step - loss: 1.6098 - accuracy: 0.2000 - val_loss: 1.6095 - val_accuracy: 0.2000\n",
            "Epoch 25/100\n",
            "2/2 [==============================] - 85s 53s/step - loss: 1.6096 - accuracy: 0.2000 - val_loss: 1.6095 - val_accuracy: 0.2000\n",
            "Epoch 26/100\n",
            "2/2 [==============================] - 85s 37s/step - loss: 1.6096 - accuracy: 0.2000 - val_loss: 1.6095 - val_accuracy: 0.2000\n",
            "Epoch 27/100\n",
            "2/2 [==============================] - 85s 37s/step - loss: 1.6095 - accuracy: 0.2000 - val_loss: 1.6095 - val_accuracy: 0.2000\n",
            "Epoch 28/100\n",
            "2/2 [==============================] - 85s 37s/step - loss: 1.6095 - accuracy: 0.1600 - val_loss: 1.6095 - val_accuracy: 0.2000\n",
            "Epoch 29/100\n",
            "2/2 [==============================] - 85s 53s/step - loss: 1.6096 - accuracy: 0.2000 - val_loss: 1.6095 - val_accuracy: 0.2000\n",
            "Epoch 30/100\n",
            "2/2 [==============================] - 85s 37s/step - loss: 1.6095 - accuracy: 0.2000 - val_loss: 1.6095 - val_accuracy: 0.2000\n",
            "Epoch 31/100\n",
            "2/2 [==============================] - 85s 52s/step - loss: 1.6095 - accuracy: 0.2000 - val_loss: 1.6095 - val_accuracy: 0.2000\n",
            "Epoch 32/100\n",
            "2/2 [==============================] - 85s 53s/step - loss: 1.6095 - accuracy: 0.2000 - val_loss: 1.6095 - val_accuracy: 0.2000\n",
            "Epoch 33/100\n",
            "2/2 [==============================] - 85s 36s/step - loss: 1.6095 - accuracy: 0.2000 - val_loss: 1.6095 - val_accuracy: 0.2000\n",
            "Epoch 34/100\n",
            "2/2 [==============================] - 85s 36s/step - loss: 1.6096 - accuracy: 0.2000 - val_loss: 1.6095 - val_accuracy: 0.2000\n",
            "Epoch 35/100\n",
            "2/2 [==============================] - 85s 53s/step - loss: 1.6095 - accuracy: 0.2000 - val_loss: 1.6095 - val_accuracy: 0.2000\n",
            "Epoch 36/100\n",
            "2/2 [==============================] - 84s 36s/step - loss: 1.6095 - accuracy: 0.2000 - val_loss: 1.6095 - val_accuracy: 0.2000\n",
            "Epoch 37/100\n",
            "2/2 [==============================] - 85s 36s/step - loss: 1.6096 - accuracy: 0.2000 - val_loss: 1.6095 - val_accuracy: 0.2000\n",
            "Epoch 38/100\n",
            "2/2 [==============================] - 85s 53s/step - loss: 1.6093 - accuracy: 0.2000 - val_loss: 1.6097 - val_accuracy: 0.2000\n",
            "Epoch 39/100\n",
            "2/2 [==============================] - 85s 52s/step - loss: 1.6088 - accuracy: 0.5200 - val_loss: 1.6124 - val_accuracy: 0.2000\n",
            "Epoch 40/100\n",
            "2/2 [==============================] - 85s 53s/step - loss: 1.6059 - accuracy: 0.3600 - val_loss: 1.6095 - val_accuracy: 0.2000\n",
            "Epoch 41/100\n",
            "2/2 [==============================] - 85s 36s/step - loss: 1.6095 - accuracy: 0.2000 - val_loss: 1.6095 - val_accuracy: 0.2000\n",
            "Epoch 42/100\n",
            "2/2 [==============================] - 85s 53s/step - loss: 1.6095 - accuracy: 0.1800 - val_loss: 1.6108 - val_accuracy: 0.2000\n",
            "Epoch 43/100\n",
            "2/2 [==============================] - 85s 37s/step - loss: 1.5791 - accuracy: 0.2000 - val_loss: 3.4661 - val_accuracy: 0.2000\n",
            "Epoch 44/100\n",
            "2/2 [==============================] - 85s 37s/step - loss: 1.7216 - accuracy: 0.3800 - val_loss: 1.6113 - val_accuracy: 0.0000e+00\n",
            "Epoch 45/100\n",
            "2/2 [==============================] - 85s 52s/step - loss: 1.5964 - accuracy: 0.3200 - val_loss: 1.6095 - val_accuracy: 0.2000\n",
            "Epoch 46/100\n",
            "2/2 [==============================] - 84s 36s/step - loss: 1.6061 - accuracy: 0.2000 - val_loss: 1.6440 - val_accuracy: 0.2000\n",
            "Epoch 47/100\n",
            "2/2 [==============================] - 84s 36s/step - loss: 1.8662 - accuracy: 0.4000 - val_loss: 1.6101 - val_accuracy: 0.2000\n",
            "Epoch 48/100\n",
            "2/2 [==============================] - 85s 36s/step - loss: 1.6192 - accuracy: 0.2200 - val_loss: 1.6096 - val_accuracy: 0.2000\n",
            "Epoch 49/100\n",
            "2/2 [==============================] - 84s 36s/step - loss: 1.6101 - accuracy: 0.2000 - val_loss: 1.6097 - val_accuracy: 0.2000\n",
            "Epoch 50/100\n",
            "2/2 [==============================] - 85s 37s/step - loss: 1.6097 - accuracy: 0.2000 - val_loss: 1.6098 - val_accuracy: 0.2000\n",
            "Epoch 51/100\n",
            "2/2 [==============================] - 85s 36s/step - loss: 1.6108 - accuracy: 0.1400 - val_loss: 1.6100 - val_accuracy: 0.2000\n",
            "Epoch 52/100\n",
            "2/2 [==============================] - 84s 36s/step - loss: 1.6104 - accuracy: 0.2000 - val_loss: 1.6098 - val_accuracy: 0.2000\n",
            "Epoch 53/100\n",
            "2/2 [==============================] - 84s 36s/step - loss: 1.6099 - accuracy: 0.2000 - val_loss: 1.6096 - val_accuracy: 0.2000\n",
            "Epoch 54/100\n",
            "2/2 [==============================] - 85s 36s/step - loss: 1.6097 - accuracy: 0.2000 - val_loss: 1.6095 - val_accuracy: 0.2000\n",
            "Epoch 55/100\n",
            "2/2 [==============================] - 84s 52s/step - loss: 1.6099 - accuracy: 0.2000 - val_loss: 1.6096 - val_accuracy: 0.2000\n",
            "Epoch 56/100\n",
            "2/2 [==============================] - 85s 52s/step - loss: 1.6101 - accuracy: 0.2000 - val_loss: 1.6096 - val_accuracy: 0.2000\n",
            "Epoch 57/100\n",
            "2/2 [==============================] - 84s 52s/step - loss: 1.6097 - accuracy: 0.2000 - val_loss: 1.6096 - val_accuracy: 0.2000\n",
            "Epoch 58/100\n",
            "2/2 [==============================] - 84s 36s/step - loss: 1.6098 - accuracy: 0.2000 - val_loss: 1.6096 - val_accuracy: 0.2000\n",
            "Epoch 59/100\n",
            "2/2 [==============================] - 84s 36s/step - loss: 1.6097 - accuracy: 0.2000 - val_loss: 1.6096 - val_accuracy: 0.2000\n",
            "Epoch 60/100\n",
            "2/2 [==============================] - 85s 36s/step - loss: 1.6098 - accuracy: 0.1200 - val_loss: 1.6096 - val_accuracy: 0.2000\n",
            "Epoch 61/100\n",
            "2/2 [==============================] - 85s 37s/step - loss: 1.6096 - accuracy: 0.2000 - val_loss: 1.6095 - val_accuracy: 0.2000\n",
            "Epoch 62/100\n",
            "2/2 [==============================] - 84s 52s/step - loss: 1.6096 - accuracy: 0.2000 - val_loss: 1.6095 - val_accuracy: 0.2000\n",
            "Epoch 63/100\n",
            "2/2 [==============================] - 85s 52s/step - loss: 1.6096 - accuracy: 0.2000 - val_loss: 1.6095 - val_accuracy: 0.2000\n",
            "Epoch 64/100\n",
            "2/2 [==============================] - 84s 52s/step - loss: 1.6096 - accuracy: 0.2000 - val_loss: 1.6095 - val_accuracy: 0.2000\n",
            "Epoch 65/100\n",
            "2/2 [==============================] - 84s 52s/step - loss: 1.6096 - accuracy: 0.2000 - val_loss: 1.6095 - val_accuracy: 0.2000\n",
            "Epoch 66/100\n",
            "2/2 [==============================] - 85s 37s/step - loss: 1.6096 - accuracy: 0.2000 - val_loss: 1.6095 - val_accuracy: 0.2000\n",
            "Epoch 67/100\n",
            "2/2 [==============================] - 84s 36s/step - loss: 1.6096 - accuracy: 0.2000 - val_loss: 1.6095 - val_accuracy: 0.2000\n",
            "Epoch 68/100\n",
            "2/2 [==============================] - 85s 52s/step - loss: 1.6095 - accuracy: 0.2000 - val_loss: 1.6095 - val_accuracy: 0.2000\n",
            "Epoch 69/100\n",
            "2/2 [==============================] - 85s 53s/step - loss: 1.6095 - accuracy: 0.2000 - val_loss: 1.6095 - val_accuracy: 0.2000\n",
            "Epoch 70/100\n",
            "2/2 [==============================] - 85s 36s/step - loss: 1.6095 - accuracy: 0.2000 - val_loss: 1.6095 - val_accuracy: 0.2000\n",
            "Epoch 71/100\n",
            "2/2 [==============================] - 84s 52s/step - loss: 1.6095 - accuracy: 0.2000 - val_loss: 1.6095 - val_accuracy: 0.2000\n",
            "Epoch 72/100\n",
            "2/2 [==============================] - 84s 52s/step - loss: 1.6096 - accuracy: 0.2000 - val_loss: 1.6095 - val_accuracy: 0.2000\n",
            "Epoch 73/100\n",
            "2/2 [==============================] - 84s 36s/step - loss: 1.6095 - accuracy: 0.2000 - val_loss: 1.6095 - val_accuracy: 0.2000\n",
            "Epoch 74/100\n",
            "2/2 [==============================] - 84s 36s/step - loss: 1.6095 - accuracy: 0.2000 - val_loss: 1.6095 - val_accuracy: 0.2000\n",
            "Epoch 75/100\n",
            "2/2 [==============================] - 85s 36s/step - loss: 1.6095 - accuracy: 0.2000 - val_loss: 1.6095 - val_accuracy: 0.2000\n",
            "Epoch 76/100\n",
            "2/2 [==============================] - 84s 52s/step - loss: 1.6096 - accuracy: 0.2000 - val_loss: 1.6095 - val_accuracy: 0.2000\n",
            "Epoch 77/100\n",
            "2/2 [==============================] - 85s 52s/step - loss: 1.6097 - accuracy: 0.2000 - val_loss: 1.6095 - val_accuracy: 0.2000\n",
            "Epoch 78/100\n",
            "2/2 [==============================] - 84s 52s/step - loss: 1.6095 - accuracy: 0.2000 - val_loss: 1.6095 - val_accuracy: 0.2000\n",
            "Epoch 79/100\n",
            "2/2 [==============================] - 85s 36s/step - loss: 1.6095 - accuracy: 0.2000 - val_loss: 1.6095 - val_accuracy: 0.2000\n",
            "Epoch 80/100\n",
            "2/2 [==============================] - 85s 53s/step - loss: 1.6095 - accuracy: 0.2000 - val_loss: 1.6095 - val_accuracy: 0.2000\n",
            "Epoch 81/100\n",
            "2/2 [==============================] - 84s 52s/step - loss: 1.6095 - accuracy: 0.1600 - val_loss: 1.6095 - val_accuracy: 0.2000\n",
            "Epoch 82/100\n",
            "2/2 [==============================] - 85s 53s/step - loss: 1.6095 - accuracy: 0.2000 - val_loss: 1.6095 - val_accuracy: 0.2000\n",
            "Epoch 83/100\n",
            "2/2 [==============================] - 85s 52s/step - loss: 1.6095 - accuracy: 0.2000 - val_loss: 1.6095 - val_accuracy: 0.2000\n",
            "Epoch 84/100\n",
            "2/2 [==============================] - 85s 36s/step - loss: 1.6095 - accuracy: 0.2000 - val_loss: 1.6095 - val_accuracy: 0.2000\n",
            "Epoch 85/100\n",
            "2/2 [==============================] - 84s 52s/step - loss: 1.6095 - accuracy: 0.2000 - val_loss: 1.6095 - val_accuracy: 0.2000\n",
            "Epoch 86/100\n",
            "2/2 [==============================] - 84s 52s/step - loss: 1.6095 - accuracy: 0.2000 - val_loss: 1.6095 - val_accuracy: 0.2000\n",
            "Epoch 87/100\n",
            "2/2 [==============================] - 85s 37s/step - loss: 1.6095 - accuracy: 0.2000 - val_loss: 1.6095 - val_accuracy: 0.2000\n",
            "Epoch 88/100\n",
            "2/2 [==============================] - 84s 36s/step - loss: 1.6095 - accuracy: 0.2000 - val_loss: 1.6095 - val_accuracy: 0.2000\n",
            "Epoch 89/100\n",
            "2/2 [==============================] - 84s 52s/step - loss: 1.6096 - accuracy: 0.2000 - val_loss: 1.6095 - val_accuracy: 0.2000\n",
            "Epoch 90/100\n",
            "2/2 [==============================] - 84s 52s/step - loss: 1.6095 - accuracy: 0.2000 - val_loss: 1.6095 - val_accuracy: 0.2000\n",
            "Epoch 91/100\n",
            "2/2 [==============================] - 85s 36s/step - loss: 1.6096 - accuracy: 0.2000 - val_loss: 1.6095 - val_accuracy: 0.2000\n",
            "Epoch 92/100\n",
            "2/2 [==============================] - 84s 36s/step - loss: 1.6095 - accuracy: 0.2000 - val_loss: 1.6095 - val_accuracy: 0.2000\n",
            "Epoch 93/100\n",
            "2/2 [==============================] - 84s 52s/step - loss: 1.6095 - accuracy: 0.2000 - val_loss: 1.6095 - val_accuracy: 0.2000\n",
            "Epoch 94/100\n",
            "2/2 [==============================] - 84s 52s/step - loss: 1.6095 - accuracy: 0.2000 - val_loss: 1.6095 - val_accuracy: 0.2000\n",
            "Epoch 95/100\n",
            "2/2 [==============================] - 84s 36s/step - loss: 1.6095 - accuracy: 0.2000 - val_loss: 1.6095 - val_accuracy: 0.2000\n",
            "Epoch 96/100\n",
            "2/2 [==============================] - 84s 52s/step - loss: 1.6096 - accuracy: 0.2000 - val_loss: 1.6095 - val_accuracy: 0.2000\n",
            "Epoch 97/100\n",
            "2/2 [==============================] - 84s 36s/step - loss: 1.6095 - accuracy: 0.2000 - val_loss: 1.6095 - val_accuracy: 0.2000\n",
            "Epoch 98/100\n",
            "2/2 [==============================] - 85s 37s/step - loss: 1.6095 - accuracy: 0.2000 - val_loss: 1.6095 - val_accuracy: 0.2000\n",
            "Epoch 99/100\n",
            "2/2 [==============================] - 84s 36s/step - loss: 1.6095 - accuracy: 0.2000 - val_loss: 1.6095 - val_accuracy: 0.2000\n",
            "Epoch 100/100\n",
            "2/2 [==============================] - 85s 37s/step - loss: 1.6095 - accuracy: 0.2000 - val_loss: 1.6095 - val_accuracy: 0.2000\n"
          ],
          "name": "stdout"
        },
        {
          "output_type": "execute_result",
          "data": {
            "text/plain": [
              "<tensorflow.python.keras.callbacks.History at 0x7ff82b6f1850>"
            ]
          },
          "metadata": {
            "tags": []
          },
          "execution_count": 14
        }
      ]
    },
    {
      "cell_type": "code",
      "metadata": {
        "colab": {
          "base_uri": "https://localhost:8080/"
        },
        "id": "LFv-MPjc6r7H",
        "outputId": "dbb6cd31-febb-4da9-e13a-b3d413219341"
      },
      "source": [
        "print(\"-- Evaluate --\")\n",
        "scores = model.evaluate(test_generator)\n",
        "print(\"%s: %.2f%%\" %(model.metrics_names[1], scores[1]*100))"
      ],
      "execution_count": 15,
      "outputs": [
        {
          "output_type": "stream",
          "text": [
            "-- Evaluate --\n",
            "1/1 [==============================] - 4s 4s/step - loss: 1.6095 - accuracy: 0.2000\n",
            "accuracy: 20.00%\n"
          ],
          "name": "stdout"
        }
      ]
    },
    {
      "cell_type": "code",
      "metadata": {
        "colab": {
          "base_uri": "https://localhost:8080/"
        },
        "id": "E2CapNMx61Xt",
        "outputId": "a6334d35-bcc0-44a6-ff04-2eee0f3725f2"
      },
      "source": [
        "print(\"-- Predict --\")\n",
        "output = model.predict(test_generator)\n",
        "np.set_printoptions(formatter={'float': lambda x: \"{0:0.3f}\".format(x)})\n",
        "print(test_generator.class_indices)\n",
        "print(output)"
      ],
      "execution_count": 16,
      "outputs": [
        {
          "output_type": "stream",
          "text": [
            "-- Predict --\n",
            "{'0': 0, '1': 1, '2': 2, '3': 3, '4': 4}\n",
            "[[0.201 0.201 0.201 0.198 0.200]\n",
            " [0.201 0.201 0.201 0.198 0.200]\n",
            " [0.201 0.201 0.201 0.198 0.200]\n",
            " [0.201 0.201 0.201 0.198 0.200]\n",
            " [0.201 0.201 0.201 0.198 0.200]\n",
            " [0.201 0.201 0.201 0.198 0.200]\n",
            " [0.201 0.201 0.201 0.198 0.200]\n",
            " [0.201 0.201 0.201 0.198 0.200]\n",
            " [0.201 0.201 0.201 0.198 0.200]\n",
            " [0.201 0.201 0.201 0.198 0.200]]\n"
          ],
          "name": "stdout"
        }
      ]
    },
    {
      "cell_type": "code",
      "metadata": {
        "colab": {
          "base_uri": "https://localhost:8080/"
        },
        "id": "tgpq2mw87JUN",
        "outputId": "7c0116de-a2c1-43e5-d3f0-ab8f0dabfe10"
      },
      "source": [
        "for i in range(0, 10):\n",
        "  print(\"Result:\", i+1)\n",
        "  print(output[i])\n",
        "  print(\"\\n\")"
      ],
      "execution_count": 17,
      "outputs": [
        {
          "output_type": "stream",
          "text": [
            "Result: 1\n",
            "[0.201 0.201 0.201 0.198 0.200]\n",
            "\n",
            "\n",
            "Result: 2\n",
            "[0.201 0.201 0.201 0.198 0.200]\n",
            "\n",
            "\n",
            "Result: 3\n",
            "[0.201 0.201 0.201 0.198 0.200]\n",
            "\n",
            "\n",
            "Result: 4\n",
            "[0.201 0.201 0.201 0.198 0.200]\n",
            "\n",
            "\n",
            "Result: 5\n",
            "[0.201 0.201 0.201 0.198 0.200]\n",
            "\n",
            "\n",
            "Result: 6\n",
            "[0.201 0.201 0.201 0.198 0.200]\n",
            "\n",
            "\n",
            "Result: 7\n",
            "[0.201 0.201 0.201 0.198 0.200]\n",
            "\n",
            "\n",
            "Result: 8\n",
            "[0.201 0.201 0.201 0.198 0.200]\n",
            "\n",
            "\n",
            "Result: 9\n",
            "[0.201 0.201 0.201 0.198 0.200]\n",
            "\n",
            "\n",
            "Result: 10\n",
            "[0.201 0.201 0.201 0.198 0.200]\n",
            "\n",
            "\n"
          ],
          "name": "stdout"
        }
      ]
    }
  ]
}