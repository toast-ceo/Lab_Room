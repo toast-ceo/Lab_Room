{
  "nbformat": 4,
  "nbformat_minor": 0,
  "metadata": {
    "colab": {
      "name": "Untitled0.ipynb",
      "provenance": [],
      "collapsed_sections": [],
      "authorship_tag": "ABX9TyPUtAaTdMiiToRs9ks5+qGk",
      "include_colab_link": true
    },
    "kernelspec": {
      "name": "python3",
      "display_name": "Python 3"
    },
    "language_info": {
      "name": "python"
    }
  },
  "cells": [
    {
      "cell_type": "markdown",
      "metadata": {
        "id": "view-in-github",
        "colab_type": "text"
      },
      "source": [
        "<a href=\"https://colab.research.google.com/github/toast-ceo/Lab_Room/blob/main/face550_step1_epoch10.ipynb\" target=\"_parent\"><img src=\"https://colab.research.google.com/assets/colab-badge.svg\" alt=\"Open In Colab\"/></a>"
      ]
    },
    {
      "cell_type": "code",
      "metadata": {
        "id": "ODuFRZq56L6O",
        "colab": {
          "base_uri": "https://localhost:8080/"
        },
        "outputId": "b29f22ef-4a2b-40b3-c6e8-41a7bc551f52"
      },
      "source": [
        "# vgg 19 훈련\n",
        "\n",
        "from google.colab import drive\n",
        "drive.mount('face550_step')\n",
        "import tensorflow as tf\n",
        "import numpy as np\n",
        "import keras\n",
        "import cv2\n",
        "\n",
        "from keras.applications.vgg19 import VGG19\n",
        "from keras.models import Sequential\n",
        "from keras.layers import Dense\n",
        "from keras.layers import Flatten\n",
        "from keras.layers.convolutional import Conv2D\n",
        "from keras.layers.convolutional import MaxPooling2D\n",
        "from keras.preprocessing.image import ImageDataGenerator\n",
        "from sklearn.model_selection import train_test_split\n"
      ],
      "execution_count": 22,
      "outputs": [
        {
          "output_type": "stream",
          "text": [
            "Drive already mounted at face550_step; to attempt to forcibly remount, call drive.mount(\"face550_step\", force_remount=True).\n"
          ],
          "name": "stdout"
        }
      ]
    },
    {
      "cell_type": "code",
      "metadata": {
        "colab": {
          "base_uri": "https://localhost:8080/"
        },
        "id": "kpmX7B5g6j9T",
        "outputId": "c0d6b14c-0317-4d9c-debc-dd75de379c1c"
      },
      "source": [
        "numberOfClass = 30\n",
        "pictureWeightHeightSize = 224\n",
        "\n",
        "train_datagen = ImageDataGenerator(rescale=1./255)\n",
        "\n",
        "train_generator = train_datagen.flow_from_directory(\n",
        "        '/content/face550_step/MyDrive/face550_step/step1_train/',\n",
        "        target_size=(pictureWeightHeightSize, pictureWeightHeightSize),\n",
        "        batch_size=numberOfClass,\n",
        "        class_mode='categorical')\n",
        "\n",
        "test_datagen = ImageDataGenerator(rescale=1./255)\n",
        "\n",
        "test_generator = test_datagen.flow_from_directory(\n",
        "        '/content/face550_step/MyDrive/face550_step/step1_test/',\n",
        "        target_size=(pictureWeightHeightSize, pictureWeightHeightSize),    \n",
        "        batch_size=numberOfClass,\n",
        "        class_mode='categorical')"
      ],
      "execution_count": 23,
      "outputs": [
        {
          "output_type": "stream",
          "text": [
            "Found 50 images belonging to 5 classes.\n",
            "Found 10 images belonging to 5 classes.\n"
          ],
          "name": "stdout"
        }
      ]
    },
    {
      "cell_type": "code",
      "metadata": {
        "id": "JsYYeRQ5r8hQ"
      },
      "source": [
        "input_layer = tf.keras.layers.Input(shape=(224, 224, 3))\n",
        "\n",
        "vgg_block01 = tf.keras.layers.Conv2D(64 , (3,3), padding= 'SAME', activation=\"relu\")(input_layer)\n",
        "vgg_block01 = tf.keras.layers.Conv2D(64 , (3,3), padding= 'SAME', activation=\"relu\")(vgg_block01)\n",
        "vgg_block01 = tf.keras.layers.MaxPool2D((2,2))(vgg_block01)\n",
        "\n",
        "\n",
        "vgg_block02 = tf.keras.layers.Conv2D(128 , (3,3), padding= 'SAME', activation=\"relu\")(vgg_block01)\n",
        "vgg_block02 = tf.keras.layers.Conv2D(128, (3,3), padding= 'SAME', activation=\"relu\")(vgg_block02)\n",
        "vgg_block02 = tf.keras.layers.MaxPool2D((2,2))(vgg_block02)\n",
        "\n",
        "\n",
        "vgg_block03 = tf.keras.layers.Conv2D(256, (3,3), padding= 'SAME', activation=\"relu\")(vgg_block02)\n",
        "vgg_block03 = tf.keras.layers.Conv2D(256, (3,3), padding= 'SAME', activation=\"relu\")(vgg_block03)\n",
        "vgg_block03 = tf.keras.layers.Conv2D(256, (3,3), padding= 'SAME', activation=\"relu\")(vgg_block03)\n",
        "vgg_block03 = tf.keras.layers.MaxPool2D((2,2))(vgg_block03)\n",
        "\n",
        "vgg_block04 = tf.keras.layers.Conv2D(512, (3,3), padding= 'SAME', activation=\"relu\")(vgg_block03)\n",
        "vgg_block04 = tf.keras.layers.Conv2D(512, (3,3), padding= 'SAME', activation=\"relu\")(vgg_block04)\n",
        "vgg_block04 = tf.keras.layers.Conv2D(512, (3,3), padding= 'SAME', activation=\"relu\")(vgg_block04)\n",
        "vgg_block04 = tf.keras.layers.MaxPool2D((2,2))(vgg_block04)\n",
        "\n",
        "vgg_block05 = tf.keras.layers.Conv2D(512, (3,3), padding= 'SAME', activation=\"relu\")(vgg_block04)\n",
        "vgg_block05 = tf.keras.layers.Conv2D(512, (3,3), padding= 'SAME', activation=\"relu\")(vgg_block05)\n",
        "vgg_block05 = tf.keras.layers.Conv2D(512, (3,3), padding= 'SAME', activation=\"relu\")(vgg_block05)\n",
        "vgg_block05 = tf.keras.layers.MaxPool2D((2,2))(vgg_block05)\n"
      ],
      "execution_count": 24,
      "outputs": []
    },
    {
      "cell_type": "code",
      "metadata": {
        "id": "NOYfQLnnsBHg"
      },
      "source": [
        "flatten = tf.keras.layers.Flatten()(vgg_block05)\n",
        "dense01 = tf.keras.layers.Dense(512, activation='relu')(flatten)\n",
        "output = tf.keras.layers.Dense(5, activation='softmax')(dense01)"
      ],
      "execution_count": 28,
      "outputs": []
    },
    {
      "cell_type": "code",
      "metadata": {
        "id": "hD1UWBZosJzA"
      },
      "source": [
        "\n",
        "model = tf.keras.models.Model(input_layer, output)\n"
      ],
      "execution_count": 29,
      "outputs": []
    },
    {
      "cell_type": "code",
      "metadata": {
        "colab": {
          "base_uri": "https://localhost:8080/"
        },
        "id": "1HQyxSaOsLB4",
        "outputId": "b359327d-5eed-4c2d-eda4-bb48b5c61821"
      },
      "source": [
        "model.compile(optimizer='adam', loss='categorical_crossentropy', metrics=['accuracy'])\n",
        "model.summary()"
      ],
      "execution_count": 30,
      "outputs": [
        {
          "output_type": "stream",
          "text": [
            "Model: \"model_4\"\n",
            "_________________________________________________________________\n",
            "Layer (type)                 Output Shape              Param #   \n",
            "=================================================================\n",
            "input_5 (InputLayer)         [(None, 224, 224, 3)]     0         \n",
            "_________________________________________________________________\n",
            "conv2d_49 (Conv2D)           (None, 224, 224, 64)      1792      \n",
            "_________________________________________________________________\n",
            "conv2d_50 (Conv2D)           (None, 224, 224, 64)      36928     \n",
            "_________________________________________________________________\n",
            "max_pooling2d_19 (MaxPooling (None, 112, 112, 64)      0         \n",
            "_________________________________________________________________\n",
            "conv2d_51 (Conv2D)           (None, 112, 112, 128)     73856     \n",
            "_________________________________________________________________\n",
            "conv2d_52 (Conv2D)           (None, 112, 112, 128)     147584    \n",
            "_________________________________________________________________\n",
            "max_pooling2d_20 (MaxPooling (None, 56, 56, 128)       0         \n",
            "_________________________________________________________________\n",
            "conv2d_53 (Conv2D)           (None, 56, 56, 256)       295168    \n",
            "_________________________________________________________________\n",
            "conv2d_54 (Conv2D)           (None, 56, 56, 256)       590080    \n",
            "_________________________________________________________________\n",
            "conv2d_55 (Conv2D)           (None, 56, 56, 256)       590080    \n",
            "_________________________________________________________________\n",
            "max_pooling2d_21 (MaxPooling (None, 28, 28, 256)       0         \n",
            "_________________________________________________________________\n",
            "conv2d_56 (Conv2D)           (None, 28, 28, 512)       1180160   \n",
            "_________________________________________________________________\n",
            "conv2d_57 (Conv2D)           (None, 28, 28, 512)       2359808   \n",
            "_________________________________________________________________\n",
            "conv2d_58 (Conv2D)           (None, 28, 28, 512)       2359808   \n",
            "_________________________________________________________________\n",
            "max_pooling2d_22 (MaxPooling (None, 14, 14, 512)       0         \n",
            "_________________________________________________________________\n",
            "conv2d_59 (Conv2D)           (None, 14, 14, 512)       2359808   \n",
            "_________________________________________________________________\n",
            "conv2d_60 (Conv2D)           (None, 14, 14, 512)       2359808   \n",
            "_________________________________________________________________\n",
            "conv2d_61 (Conv2D)           (None, 14, 14, 512)       2359808   \n",
            "_________________________________________________________________\n",
            "max_pooling2d_23 (MaxPooling (None, 7, 7, 512)         0         \n",
            "_________________________________________________________________\n",
            "flatten_5 (Flatten)          (None, 25088)             0         \n",
            "_________________________________________________________________\n",
            "dense_10 (Dense)             (None, 512)               12845568  \n",
            "_________________________________________________________________\n",
            "dense_11 (Dense)             (None, 5)                 2565      \n",
            "=================================================================\n",
            "Total params: 27,562,821\n",
            "Trainable params: 27,562,821\n",
            "Non-trainable params: 0\n",
            "_________________________________________________________________\n"
          ],
          "name": "stdout"
        }
      ]
    },
    {
      "cell_type": "code",
      "metadata": {
        "colab": {
          "base_uri": "https://localhost:8080/"
        },
        "id": "5SnVZrW6sOOI",
        "outputId": "0bf9e07f-01ea-4ae8-c416-fdc8a1a6edcb"
      },
      "source": [
        "model.fit(train_generator, epochs=10, validation_data=test_generator)"
      ],
      "execution_count": 31,
      "outputs": [
        {
          "output_type": "stream",
          "text": [
            "Epoch 1/10\n",
            "2/2 [==============================] - 78s 35s/step - loss: 2.9734 - accuracy: 0.2000 - val_loss: 1.6095 - val_accuracy: 0.2000\n",
            "Epoch 2/10\n",
            "2/2 [==============================] - 70s 43s/step - loss: 1.6109 - accuracy: 0.2000 - val_loss: 1.6099 - val_accuracy: 0.2000\n",
            "Epoch 3/10\n",
            "2/2 [==============================] - 71s 44s/step - loss: 1.6120 - accuracy: 0.1000 - val_loss: 1.6096 - val_accuracy: 0.2000\n",
            "Epoch 4/10\n",
            "2/2 [==============================] - 71s 44s/step - loss: 1.6142 - accuracy: 0.2000 - val_loss: 1.6102 - val_accuracy: 0.2000\n",
            "Epoch 5/10\n",
            "2/2 [==============================] - 70s 30s/step - loss: 1.6105 - accuracy: 0.2000 - val_loss: 1.6098 - val_accuracy: 0.2000\n",
            "Epoch 6/10\n",
            "2/2 [==============================] - 70s 43s/step - loss: 1.6105 - accuracy: 0.2000 - val_loss: 1.6098 - val_accuracy: 0.2000\n",
            "Epoch 7/10\n",
            "2/2 [==============================] - 71s 30s/step - loss: 1.6094 - accuracy: 0.2000 - val_loss: 1.6097 - val_accuracy: 0.2000\n",
            "Epoch 8/10\n",
            "2/2 [==============================] - 70s 43s/step - loss: 1.6056 - accuracy: 0.2000 - val_loss: 1.6473 - val_accuracy: 0.2000\n",
            "Epoch 9/10\n",
            "2/2 [==============================] - 70s 30s/step - loss: 1.4966 - accuracy: 0.2800 - val_loss: 4.2202 - val_accuracy: 0.2000\n",
            "Epoch 10/10\n",
            "2/2 [==============================] - 70s 43s/step - loss: 1.5263 - accuracy: 0.5000 - val_loss: 1.6192 - val_accuracy: 0.2000\n"
          ],
          "name": "stdout"
        },
        {
          "output_type": "execute_result",
          "data": {
            "text/plain": [
              "<tensorflow.python.keras.callbacks.History at 0x7f24ddae6f50>"
            ]
          },
          "metadata": {
            "tags": []
          },
          "execution_count": 31
        }
      ]
    },
    {
      "cell_type": "code",
      "metadata": {
        "colab": {
          "base_uri": "https://localhost:8080/"
        },
        "id": "LFv-MPjc6r7H",
        "outputId": "74a7f004-25e3-4062-afe8-2b2f7536da2c"
      },
      "source": [
        "print(\"-- Evaluate --\")\n",
        "scores = model.evaluate(test_generator)\n",
        "print(\"%s: %.2f%%\" %(model.metrics_names[1], scores[1]*100))"
      ],
      "execution_count": 32,
      "outputs": [
        {
          "output_type": "stream",
          "text": [
            "-- Evaluate --\n",
            "1/1 [==============================] - 3s 3s/step - loss: 1.6192 - accuracy: 0.2000\n",
            "accuracy: 20.00%\n"
          ],
          "name": "stdout"
        }
      ]
    },
    {
      "cell_type": "code",
      "metadata": {
        "colab": {
          "base_uri": "https://localhost:8080/"
        },
        "id": "E2CapNMx61Xt",
        "outputId": "6298f1fb-9a44-4862-d0c0-4e7bd082cda8"
      },
      "source": [
        "print(\"-- Predict --\")\n",
        "output = model.predict(test_generator)\n",
        "np.set_printoptions(formatter={'float': lambda x: \"{0:0.3f}\".format(x)})\n",
        "print(test_generator.class_indices)\n",
        "print(output)"
      ],
      "execution_count": 34,
      "outputs": [
        {
          "output_type": "stream",
          "text": [
            "-- Predict --\n",
            "{'0': 0, '1': 1, '2': 2, '3': 3, '4': 4}\n",
            "[[0.199 0.202 0.206 0.193 0.201]\n",
            " [0.196 0.202 0.217 0.183 0.201]\n",
            " [0.201 0.199 0.212 0.186 0.202]\n",
            " [0.199 0.202 0.203 0.195 0.201]\n",
            " [0.197 0.202 0.217 0.183 0.201]\n",
            " [0.201 0.199 0.212 0.186 0.202]\n",
            " [0.199 0.202 0.206 0.193 0.201]\n",
            " [0.199 0.202 0.207 0.192 0.200]\n",
            " [0.199 0.202 0.207 0.192 0.200]\n",
            " [0.199 0.202 0.203 0.195 0.201]]\n"
          ],
          "name": "stdout"
        }
      ]
    },
    {
      "cell_type": "code",
      "metadata": {
        "colab": {
          "base_uri": "https://localhost:8080/"
        },
        "id": "tgpq2mw87JUN",
        "outputId": "0fb30492-7f83-48cc-b017-7033b14b195f"
      },
      "source": [
        "for i in range(0, 10):\n",
        "  print(\"Result:\", i+1)\n",
        "  print(output[i])\n",
        "  print(\"\\n\")"
      ],
      "execution_count": 37,
      "outputs": [
        {
          "output_type": "stream",
          "text": [
            "Result: 1\n",
            "[0.199 0.202 0.206 0.193 0.201]\n",
            "\n",
            "\n",
            "Result: 2\n",
            "[0.196 0.202 0.217 0.183 0.201]\n",
            "\n",
            "\n",
            "Result: 3\n",
            "[0.201 0.199 0.212 0.186 0.202]\n",
            "\n",
            "\n",
            "Result: 4\n",
            "[0.199 0.202 0.203 0.195 0.201]\n",
            "\n",
            "\n",
            "Result: 5\n",
            "[0.197 0.202 0.217 0.183 0.201]\n",
            "\n",
            "\n",
            "Result: 6\n",
            "[0.201 0.199 0.212 0.186 0.202]\n",
            "\n",
            "\n",
            "Result: 7\n",
            "[0.199 0.202 0.206 0.193 0.201]\n",
            "\n",
            "\n",
            "Result: 8\n",
            "[0.199 0.202 0.207 0.192 0.200]\n",
            "\n",
            "\n",
            "Result: 9\n",
            "[0.199 0.202 0.207 0.192 0.200]\n",
            "\n",
            "\n",
            "Result: 10\n",
            "[0.199 0.202 0.203 0.195 0.201]\n",
            "\n",
            "\n"
          ],
          "name": "stdout"
        }
      ]
    }
  ]
}