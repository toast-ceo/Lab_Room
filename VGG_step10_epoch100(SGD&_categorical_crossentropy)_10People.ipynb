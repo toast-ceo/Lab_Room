{
  "nbformat": 4,
  "nbformat_minor": 0,
  "metadata": {
    "colab": {
      "name": "VGG_step10_epoch100(SGD& categorical_crossentropy)_10People",
      "provenance": [],
      "collapsed_sections": [],
      "authorship_tag": "ABX9TyMii0glbe940Id86vw9Y06G",
      "include_colab_link": true
    },
    "kernelspec": {
      "display_name": "Python 3",
      "name": "python3"
    },
    "language_info": {
      "name": "python"
    }
  },
  "cells": [
    {
      "cell_type": "markdown",
      "metadata": {
        "id": "view-in-github",
        "colab_type": "text"
      },
      "source": [
        "<a href=\"https://colab.research.google.com/github/toast-ceo/Lab_Room/blob/main/VGG_step10_epoch100(SGD%26_categorical_crossentropy)_10People.ipynb\" target=\"_parent\"><img src=\"https://colab.research.google.com/assets/colab-badge.svg\" alt=\"Open In Colab\"/></a>"
      ]
    },
    {
      "cell_type": "code",
      "metadata": {
        "colab": {
          "base_uri": "https://localhost:8080/"
        },
        "id": "ODuFRZq56L6O",
        "outputId": "4b9791ec-0b5e-4a44-cc7b-8bcee99cc55b"
      },
      "source": [
        "# vgg 19 훈련\n",
        "\n",
        "from google.colab import drive\n",
        "drive.mount('face550_step')\n",
        "import tensorflow as tf\n",
        "import numpy as np\n",
        "import keras\n",
        "import cv2\n",
        "\n",
        "from keras.applications.vgg19 import VGG19\n",
        "from keras.models import Sequential\n",
        "from keras.layers import Dense\n",
        "from keras.layers import Flatten\n",
        "from keras.layers.convolutional import Conv2D\n",
        "from keras.layers.convolutional import MaxPooling2D\n",
        "from keras.preprocessing.image import ImageDataGenerator\n",
        "from sklearn.model_selection import train_test_split\n"
      ],
      "execution_count": 1,
      "outputs": [
        {
          "output_type": "stream",
          "text": [
            "Mounted at face550_step\n"
          ],
          "name": "stdout"
        }
      ]
    },
    {
      "cell_type": "code",
      "metadata": {
        "colab": {
          "base_uri": "https://localhost:8080/"
        },
        "id": "kpmX7B5g6j9T",
        "outputId": "0ec8ac25-1179-4f7b-e224-d9ea8670cdcd"
      },
      "source": [
        "numberOfClass = 30\n",
        "pictureWeightHeightSize = 224\n",
        "\n",
        "train_datagen = ImageDataGenerator(rescale=1./255)\n",
        "\n",
        "train_generator = train_datagen.flow_from_directory(\n",
        "        '/content/face550_step/MyDrive/face550_step/step10_train/',\n",
        "        target_size=(pictureWeightHeightSize, pictureWeightHeightSize),\n",
        "        batch_size=numberOfClass,\n",
        "        class_mode='categorical')\n",
        "\n",
        "test_datagen = ImageDataGenerator(rescale=1./255)\n",
        "\n",
        "test_generator = test_datagen.flow_from_directory(\n",
        "        '/content/face550_step/MyDrive/face550_step/step10_test/',\n",
        "        target_size=(pictureWeightHeightSize, pictureWeightHeightSize),    \n",
        "        batch_size=numberOfClass,\n",
        "        class_mode='categorical')"
      ],
      "execution_count": 2,
      "outputs": [
        {
          "output_type": "stream",
          "text": [
            "Found 100 images belonging to 10 classes.\n",
            "Found 20 images belonging to 10 classes.\n"
          ],
          "name": "stdout"
        }
      ]
    },
    {
      "cell_type": "code",
      "metadata": {
        "id": "JsYYeRQ5r8hQ"
      },
      "source": [
        "input_layer = tf.keras.layers.Input(shape=(224, 224, 3))\n",
        "\n",
        "vgg_block01 = tf.keras.layers.Conv2D(64 , (3,3), padding= 'SAME', activation=\"relu\")(input_layer)\n",
        "vgg_block01 = tf.keras.layers.Conv2D(64 , (3,3), padding= 'SAME', activation=\"relu\")(vgg_block01)\n",
        "vgg_block01 = tf.keras.layers.MaxPool2D((2,2))(vgg_block01)\n",
        "\n",
        "\n",
        "vgg_block02 = tf.keras.layers.Conv2D(128 , (3,3), padding= 'SAME', activation=\"relu\")(vgg_block01)\n",
        "vgg_block02 = tf.keras.layers.Conv2D(128, (3,3), padding= 'SAME', activation=\"relu\")(vgg_block02)\n",
        "vgg_block02 = tf.keras.layers.MaxPool2D((2,2))(vgg_block02)\n",
        "\n",
        "\n",
        "vgg_block03 = tf.keras.layers.Conv2D(256, (3,3), padding= 'SAME', activation=\"relu\")(vgg_block02)\n",
        "vgg_block03 = tf.keras.layers.Conv2D(256, (3,3), padding= 'SAME', activation=\"relu\")(vgg_block03)\n",
        "vgg_block03 = tf.keras.layers.Conv2D(256, (3,3), padding= 'SAME', activation=\"relu\")(vgg_block03)\n",
        "vgg_block03 = tf.keras.layers.MaxPool2D((2,2))(vgg_block03)\n",
        "\n",
        "vgg_block04 = tf.keras.layers.Conv2D(512, (3,3), padding= 'SAME', activation=\"relu\")(vgg_block03)\n",
        "vgg_block04 = tf.keras.layers.Conv2D(512, (3,3), padding= 'SAME', activation=\"relu\")(vgg_block04)\n",
        "vgg_block04 = tf.keras.layers.Conv2D(512, (3,3), padding= 'SAME', activation=\"relu\")(vgg_block04)\n",
        "vgg_block04 = tf.keras.layers.MaxPool2D((2,2))(vgg_block04)\n",
        "\n",
        "vgg_block05 = tf.keras.layers.Conv2D(512, (3,3), padding= 'SAME', activation=\"relu\")(vgg_block04)\n",
        "vgg_block05 = tf.keras.layers.Conv2D(512, (3,3), padding= 'SAME', activation=\"relu\")(vgg_block05)\n",
        "vgg_block05 = tf.keras.layers.Conv2D(512, (3,3), padding= 'SAME', activation=\"relu\")(vgg_block05)\n",
        "vgg_block05 = tf.keras.layers.MaxPool2D((2,2))(vgg_block05)\n"
      ],
      "execution_count": 3,
      "outputs": []
    },
    {
      "cell_type": "code",
      "metadata": {
        "id": "NOYfQLnnsBHg"
      },
      "source": [
        "flatten = tf.keras.layers.Flatten()(vgg_block05)\n",
        "dense01 = tf.keras.layers.Dense(512, activation='relu')(flatten)\n",
        "output = tf.keras.layers.Dense(10, activation='softmax')(dense01)"
      ],
      "execution_count": 4,
      "outputs": []
    },
    {
      "cell_type": "code",
      "metadata": {
        "id": "hD1UWBZosJzA"
      },
      "source": [
        "\n",
        "model = tf.keras.models.Model(input_layer, output)\n"
      ],
      "execution_count": 5,
      "outputs": []
    },
    {
      "cell_type": "code",
      "metadata": {
        "colab": {
          "base_uri": "https://localhost:8080/"
        },
        "id": "1HQyxSaOsLB4",
        "outputId": "cf3112ae-280f-4e50-db99-75c106a410d3"
      },
      "source": [
        "model.compile(optimizer='SGD', loss='categorical_crossentropy', metrics=['accuracy'])\n",
        "model.summary()"
      ],
      "execution_count": 6,
      "outputs": [
        {
          "output_type": "stream",
          "text": [
            "Model: \"model\"\n",
            "_________________________________________________________________\n",
            "Layer (type)                 Output Shape              Param #   \n",
            "=================================================================\n",
            "input_1 (InputLayer)         [(None, 224, 224, 3)]     0         \n",
            "_________________________________________________________________\n",
            "conv2d (Conv2D)              (None, 224, 224, 64)      1792      \n",
            "_________________________________________________________________\n",
            "conv2d_1 (Conv2D)            (None, 224, 224, 64)      36928     \n",
            "_________________________________________________________________\n",
            "max_pooling2d (MaxPooling2D) (None, 112, 112, 64)      0         \n",
            "_________________________________________________________________\n",
            "conv2d_2 (Conv2D)            (None, 112, 112, 128)     73856     \n",
            "_________________________________________________________________\n",
            "conv2d_3 (Conv2D)            (None, 112, 112, 128)     147584    \n",
            "_________________________________________________________________\n",
            "max_pooling2d_1 (MaxPooling2 (None, 56, 56, 128)       0         \n",
            "_________________________________________________________________\n",
            "conv2d_4 (Conv2D)            (None, 56, 56, 256)       295168    \n",
            "_________________________________________________________________\n",
            "conv2d_5 (Conv2D)            (None, 56, 56, 256)       590080    \n",
            "_________________________________________________________________\n",
            "conv2d_6 (Conv2D)            (None, 56, 56, 256)       590080    \n",
            "_________________________________________________________________\n",
            "max_pooling2d_2 (MaxPooling2 (None, 28, 28, 256)       0         \n",
            "_________________________________________________________________\n",
            "conv2d_7 (Conv2D)            (None, 28, 28, 512)       1180160   \n",
            "_________________________________________________________________\n",
            "conv2d_8 (Conv2D)            (None, 28, 28, 512)       2359808   \n",
            "_________________________________________________________________\n",
            "conv2d_9 (Conv2D)            (None, 28, 28, 512)       2359808   \n",
            "_________________________________________________________________\n",
            "max_pooling2d_3 (MaxPooling2 (None, 14, 14, 512)       0         \n",
            "_________________________________________________________________\n",
            "conv2d_10 (Conv2D)           (None, 14, 14, 512)       2359808   \n",
            "_________________________________________________________________\n",
            "conv2d_11 (Conv2D)           (None, 14, 14, 512)       2359808   \n",
            "_________________________________________________________________\n",
            "conv2d_12 (Conv2D)           (None, 14, 14, 512)       2359808   \n",
            "_________________________________________________________________\n",
            "max_pooling2d_4 (MaxPooling2 (None, 7, 7, 512)         0         \n",
            "_________________________________________________________________\n",
            "flatten (Flatten)            (None, 25088)             0         \n",
            "_________________________________________________________________\n",
            "dense (Dense)                (None, 512)               12845568  \n",
            "_________________________________________________________________\n",
            "dense_1 (Dense)              (None, 10)                5130      \n",
            "=================================================================\n",
            "Total params: 27,565,386\n",
            "Trainable params: 27,565,386\n",
            "Non-trainable params: 0\n",
            "_________________________________________________________________\n"
          ],
          "name": "stdout"
        }
      ]
    },
    {
      "cell_type": "code",
      "metadata": {
        "colab": {
          "base_uri": "https://localhost:8080/"
        },
        "id": "5SnVZrW6sOOI",
        "outputId": "7534ccb1-a939-48f0-b3c6-caf5198f4c03"
      },
      "source": [
        "model.fit(train_generator, epochs=100, validation_data=test_generator)"
      ],
      "execution_count": 7,
      "outputs": [
        {
          "output_type": "stream",
          "text": [
            "Epoch 1/100\n",
            "4/4 [==============================] - 146s 32s/step - loss: 2.3026 - accuracy: 0.1000 - val_loss: 2.3017 - val_accuracy: 0.1000\n",
            "Epoch 2/100\n",
            "4/4 [==============================] - 120s 29s/step - loss: 2.3018 - accuracy: 0.1000 - val_loss: 2.3010 - val_accuracy: 0.2000\n",
            "Epoch 3/100\n",
            "4/4 [==============================] - 121s 29s/step - loss: 2.3014 - accuracy: 0.2100 - val_loss: 2.3007 - val_accuracy: 0.4000\n",
            "Epoch 4/100\n",
            "4/4 [==============================] - 123s 29s/step - loss: 2.3010 - accuracy: 0.1700 - val_loss: 2.3005 - val_accuracy: 0.1000\n",
            "Epoch 5/100\n",
            "4/4 [==============================] - 121s 29s/step - loss: 2.3008 - accuracy: 0.1000 - val_loss: 2.3000 - val_accuracy: 0.1000\n",
            "Epoch 6/100\n",
            "4/4 [==============================] - 121s 29s/step - loss: 2.3003 - accuracy: 0.1200 - val_loss: 2.2996 - val_accuracy: 0.3000\n",
            "Epoch 7/100\n",
            "4/4 [==============================] - 122s 29s/step - loss: 2.3001 - accuracy: 0.2800 - val_loss: 2.2994 - val_accuracy: 0.2000\n",
            "Epoch 8/100\n",
            "4/4 [==============================] - 121s 29s/step - loss: 2.2998 - accuracy: 0.2200 - val_loss: 2.2990 - val_accuracy: 0.4000\n",
            "Epoch 9/100\n",
            "4/4 [==============================] - 120s 28s/step - loss: 2.2996 - accuracy: 0.3100 - val_loss: 2.2989 - val_accuracy: 0.3000\n",
            "Epoch 10/100\n",
            "4/4 [==============================] - 119s 36s/step - loss: 2.2995 - accuracy: 0.2400 - val_loss: 2.2986 - val_accuracy: 0.4000\n",
            "Epoch 11/100\n",
            "4/4 [==============================] - 119s 28s/step - loss: 2.2989 - accuracy: 0.3800 - val_loss: 2.2985 - val_accuracy: 0.2000\n",
            "Epoch 12/100\n",
            "4/4 [==============================] - 119s 28s/step - loss: 2.2986 - accuracy: 0.2300 - val_loss: 2.2982 - val_accuracy: 0.3000\n",
            "Epoch 13/100\n",
            "4/4 [==============================] - 119s 28s/step - loss: 2.2984 - accuracy: 0.3600 - val_loss: 2.2976 - val_accuracy: 0.1000\n",
            "Epoch 14/100\n",
            "4/4 [==============================] - 119s 28s/step - loss: 2.2981 - accuracy: 0.2900 - val_loss: 2.2974 - val_accuracy: 0.1000\n",
            "Epoch 15/100\n",
            "4/4 [==============================] - 118s 28s/step - loss: 2.2979 - accuracy: 0.2500 - val_loss: 2.2970 - val_accuracy: 0.1000\n",
            "Epoch 16/100\n",
            "4/4 [==============================] - 120s 36s/step - loss: 2.2973 - accuracy: 0.3400 - val_loss: 2.2966 - val_accuracy: 0.1000\n",
            "Epoch 17/100\n",
            "4/4 [==============================] - 120s 28s/step - loss: 2.2973 - accuracy: 0.1000 - val_loss: 2.2968 - val_accuracy: 0.3000\n",
            "Epoch 18/100\n",
            "4/4 [==============================] - 119s 28s/step - loss: 2.2972 - accuracy: 0.4000 - val_loss: 2.2960 - val_accuracy: 0.4000\n",
            "Epoch 19/100\n",
            "4/4 [==============================] - 119s 36s/step - loss: 2.2968 - accuracy: 0.4400 - val_loss: 2.2957 - val_accuracy: 0.4000\n",
            "Epoch 20/100\n",
            "4/4 [==============================] - 120s 29s/step - loss: 2.2961 - accuracy: 0.3900 - val_loss: 2.2954 - val_accuracy: 0.5000\n",
            "Epoch 21/100\n",
            "4/4 [==============================] - 120s 29s/step - loss: 2.2961 - accuracy: 0.5900 - val_loss: 2.2947 - val_accuracy: 0.7000\n",
            "Epoch 22/100\n",
            "4/4 [==============================] - 120s 29s/step - loss: 2.2953 - accuracy: 0.5000 - val_loss: 2.2942 - val_accuracy: 0.6000\n",
            "Epoch 23/100\n",
            "4/4 [==============================] - 119s 28s/step - loss: 2.2949 - accuracy: 0.6500 - val_loss: 2.2938 - val_accuracy: 0.9000\n",
            "Epoch 24/100\n",
            "4/4 [==============================] - 118s 36s/step - loss: 2.2949 - accuracy: 0.3600 - val_loss: 2.2933 - val_accuracy: 0.8000\n",
            "Epoch 25/100\n",
            "4/4 [==============================] - 119s 28s/step - loss: 2.2937 - accuracy: 0.6500 - val_loss: 2.2926 - val_accuracy: 0.6000\n",
            "Epoch 26/100\n",
            "4/4 [==============================] - 119s 28s/step - loss: 2.2933 - accuracy: 0.5400 - val_loss: 2.2921 - val_accuracy: 0.6000\n",
            "Epoch 27/100\n",
            "4/4 [==============================] - 119s 28s/step - loss: 2.2927 - accuracy: 0.4900 - val_loss: 2.2914 - val_accuracy: 0.6000\n",
            "Epoch 28/100\n",
            "4/4 [==============================] - 119s 28s/step - loss: 2.2923 - accuracy: 0.6500 - val_loss: 2.2908 - val_accuracy: 0.8000\n",
            "Epoch 29/100\n",
            "4/4 [==============================] - 118s 28s/step - loss: 2.2914 - accuracy: 0.5800 - val_loss: 2.2899 - val_accuracy: 0.6000\n",
            "Epoch 30/100\n",
            "4/4 [==============================] - 119s 28s/step - loss: 2.2904 - accuracy: 0.6300 - val_loss: 2.2897 - val_accuracy: 0.6000\n",
            "Epoch 31/100\n",
            "4/4 [==============================] - 119s 28s/step - loss: 2.2899 - accuracy: 0.7000 - val_loss: 2.2882 - val_accuracy: 0.7000\n",
            "Epoch 32/100\n",
            "4/4 [==============================] - 119s 28s/step - loss: 2.2890 - accuracy: 0.7000 - val_loss: 2.2872 - val_accuracy: 0.7000\n",
            "Epoch 33/100\n",
            "4/4 [==============================] - 118s 28s/step - loss: 2.2878 - accuracy: 0.7000 - val_loss: 2.2865 - val_accuracy: 0.7000\n",
            "Epoch 34/100\n",
            "4/4 [==============================] - 119s 28s/step - loss: 2.2873 - accuracy: 0.6900 - val_loss: 2.2851 - val_accuracy: 0.8000\n",
            "Epoch 35/100\n",
            "4/4 [==============================] - 119s 28s/step - loss: 2.2859 - accuracy: 0.7500 - val_loss: 2.2837 - val_accuracy: 0.9000\n",
            "Epoch 36/100\n",
            "4/4 [==============================] - 119s 36s/step - loss: 2.2845 - accuracy: 0.6800 - val_loss: 2.2822 - val_accuracy: 0.8000\n",
            "Epoch 37/100\n",
            "4/4 [==============================] - 119s 28s/step - loss: 2.2827 - accuracy: 0.6800 - val_loss: 2.2805 - val_accuracy: 0.8000\n",
            "Epoch 38/100\n",
            "4/4 [==============================] - 118s 36s/step - loss: 2.2806 - accuracy: 0.7500 - val_loss: 2.2786 - val_accuracy: 0.8000\n",
            "Epoch 39/100\n",
            "4/4 [==============================] - 118s 28s/step - loss: 2.2804 - accuracy: 0.6800 - val_loss: 2.2768 - val_accuracy: 0.8000\n",
            "Epoch 40/100\n",
            "4/4 [==============================] - 118s 28s/step - loss: 2.2775 - accuracy: 0.6800 - val_loss: 2.2743 - val_accuracy: 0.7000\n",
            "Epoch 41/100\n",
            "4/4 [==============================] - 118s 28s/step - loss: 2.2745 - accuracy: 0.6400 - val_loss: 2.2717 - val_accuracy: 0.8000\n",
            "Epoch 42/100\n",
            "4/4 [==============================] - 118s 28s/step - loss: 2.2721 - accuracy: 0.7700 - val_loss: 2.2682 - val_accuracy: 0.9000\n",
            "Epoch 43/100\n",
            "4/4 [==============================] - 118s 28s/step - loss: 2.2682 - accuracy: 0.7100 - val_loss: 2.2647 - val_accuracy: 0.8000\n",
            "Epoch 44/100\n",
            "4/4 [==============================] - 118s 36s/step - loss: 2.2650 - accuracy: 0.7200 - val_loss: 2.2602 - val_accuracy: 0.8000\n",
            "Epoch 45/100\n",
            "4/4 [==============================] - 118s 28s/step - loss: 2.2604 - accuracy: 0.8000 - val_loss: 2.2554 - val_accuracy: 0.7000\n",
            "Epoch 46/100\n",
            "4/4 [==============================] - 118s 28s/step - loss: 2.2552 - accuracy: 0.7000 - val_loss: 2.2492 - val_accuracy: 0.6000\n",
            "Epoch 47/100\n",
            "4/4 [==============================] - 119s 36s/step - loss: 2.2482 - accuracy: 0.6200 - val_loss: 2.2394 - val_accuracy: 0.7000\n",
            "Epoch 48/100\n",
            "4/4 [==============================] - 118s 28s/step - loss: 2.2399 - accuracy: 0.6200 - val_loss: 2.2281 - val_accuracy: 0.7000\n",
            "Epoch 49/100\n",
            "4/4 [==============================] - 118s 28s/step - loss: 2.2275 - accuracy: 0.6400 - val_loss: 2.2114 - val_accuracy: 0.8000\n",
            "Epoch 50/100\n",
            "4/4 [==============================] - 118s 28s/step - loss: 2.2074 - accuracy: 0.7600 - val_loss: 2.1838 - val_accuracy: 0.8000\n",
            "Epoch 51/100\n",
            "4/4 [==============================] - 119s 36s/step - loss: 2.1790 - accuracy: 0.4600 - val_loss: 2.1361 - val_accuracy: 0.5000\n",
            "Epoch 52/100\n",
            "4/4 [==============================] - 118s 28s/step - loss: 2.1258 - accuracy: 0.5100 - val_loss: 2.0320 - val_accuracy: 0.5000\n",
            "Epoch 53/100\n",
            "4/4 [==============================] - 118s 28s/step - loss: 2.0368 - accuracy: 0.4000 - val_loss: 1.8547 - val_accuracy: 0.3000\n",
            "Epoch 54/100\n",
            "4/4 [==============================] - 118s 36s/step - loss: 1.9651 - accuracy: 0.4100 - val_loss: 1.3604 - val_accuracy: 0.9000\n",
            "Epoch 55/100\n",
            "4/4 [==============================] - 119s 36s/step - loss: 2.4815 - accuracy: 0.1700 - val_loss: 2.2547 - val_accuracy: 0.5000\n",
            "Epoch 56/100\n",
            "4/4 [==============================] - 121s 29s/step - loss: 2.2570 - accuracy: 0.4700 - val_loss: 2.2186 - val_accuracy: 0.6000\n",
            "Epoch 57/100\n",
            "4/4 [==============================] - 121s 29s/step - loss: 2.2058 - accuracy: 0.5100 - val_loss: 2.1542 - val_accuracy: 0.7000\n",
            "Epoch 58/100\n",
            "4/4 [==============================] - 121s 29s/step - loss: 2.1459 - accuracy: 0.5500 - val_loss: 2.0482 - val_accuracy: 0.8000\n",
            "Epoch 59/100\n",
            "4/4 [==============================] - 121s 37s/step - loss: 2.0205 - accuracy: 0.5500 - val_loss: 1.7968 - val_accuracy: 0.7000\n",
            "Epoch 60/100\n",
            "4/4 [==============================] - 121s 29s/step - loss: 2.0178 - accuracy: 0.5500 - val_loss: 1.8198 - val_accuracy: 0.6000\n",
            "Epoch 61/100\n",
            "4/4 [==============================] - 120s 36s/step - loss: 1.5246 - accuracy: 0.7100 - val_loss: 1.6980 - val_accuracy: 0.4000\n",
            "Epoch 62/100\n",
            "4/4 [==============================] - 120s 28s/step - loss: 2.1362 - accuracy: 0.4100 - val_loss: 1.9295 - val_accuracy: 0.7000\n",
            "Epoch 63/100\n",
            "4/4 [==============================] - 119s 36s/step - loss: 1.7855 - accuracy: 0.6600 - val_loss: 1.3036 - val_accuracy: 0.7000\n",
            "Epoch 64/100\n",
            "4/4 [==============================] - 118s 28s/step - loss: 2.6692 - accuracy: 0.3500 - val_loss: 2.2956 - val_accuracy: 0.1000\n",
            "Epoch 65/100\n",
            "4/4 [==============================] - 119s 28s/step - loss: 2.2948 - accuracy: 0.1300 - val_loss: 2.2888 - val_accuracy: 0.2000\n",
            "Epoch 66/100\n",
            "4/4 [==============================] - 119s 28s/step - loss: 2.2879 - accuracy: 0.1700 - val_loss: 2.2796 - val_accuracy: 0.3000\n",
            "Epoch 67/100\n",
            "4/4 [==============================] - 119s 28s/step - loss: 2.2773 - accuracy: 0.3600 - val_loss: 2.2623 - val_accuracy: 0.5000\n",
            "Epoch 68/100\n",
            "4/4 [==============================] - 119s 36s/step - loss: 2.2570 - accuracy: 0.5000 - val_loss: 2.2336 - val_accuracy: 0.5000\n",
            "Epoch 69/100\n",
            "4/4 [==============================] - 119s 28s/step - loss: 2.2260 - accuracy: 0.6000 - val_loss: 2.1790 - val_accuracy: 0.7000\n",
            "Epoch 70/100\n",
            "4/4 [==============================] - 118s 36s/step - loss: 2.1260 - accuracy: 0.5300 - val_loss: 2.0129 - val_accuracy: 0.6000\n",
            "Epoch 71/100\n",
            "4/4 [==============================] - 120s 29s/step - loss: 1.9423 - accuracy: 0.6400 - val_loss: 1.6495 - val_accuracy: 0.7000\n",
            "Epoch 72/100\n",
            "4/4 [==============================] - 120s 28s/step - loss: 1.4679 - accuracy: 0.6900 - val_loss: 1.0085 - val_accuracy: 0.8000\n",
            "Epoch 73/100\n",
            "4/4 [==============================] - 119s 28s/step - loss: 1.1961 - accuracy: 0.6600 - val_loss: 0.5810 - val_accuracy: 0.9000\n",
            "Epoch 74/100\n",
            "4/4 [==============================] - 119s 28s/step - loss: 0.4723 - accuracy: 0.8600 - val_loss: 1.5074 - val_accuracy: 0.8000\n",
            "Epoch 75/100\n",
            "4/4 [==============================] - 118s 28s/step - loss: 0.9407 - accuracy: 0.8200 - val_loss: 0.1616 - val_accuracy: 1.0000\n",
            "Epoch 76/100\n",
            "4/4 [==============================] - 119s 28s/step - loss: 0.1086 - accuracy: 1.0000 - val_loss: 0.1072 - val_accuracy: 0.9000\n",
            "Epoch 77/100\n",
            "4/4 [==============================] - 119s 28s/step - loss: 0.6246 - accuracy: 0.8600 - val_loss: 0.1052 - val_accuracy: 1.0000\n",
            "Epoch 78/100\n",
            "4/4 [==============================] - 119s 28s/step - loss: 0.0561 - accuracy: 1.0000 - val_loss: 0.0392 - val_accuracy: 1.0000\n",
            "Epoch 79/100\n",
            "4/4 [==============================] - 119s 28s/step - loss: 0.2025 - accuracy: 0.9200 - val_loss: 0.0574 - val_accuracy: 1.0000\n",
            "Epoch 80/100\n",
            "4/4 [==============================] - 119s 28s/step - loss: 0.0361 - accuracy: 1.0000 - val_loss: 0.0132 - val_accuracy: 1.0000\n",
            "Epoch 81/100\n",
            "4/4 [==============================] - 119s 28s/step - loss: 0.0107 - accuracy: 1.0000 - val_loss: 0.0058 - val_accuracy: 1.0000\n",
            "Epoch 82/100\n",
            "4/4 [==============================] - 119s 28s/step - loss: 0.0057 - accuracy: 1.0000 - val_loss: 0.0050 - val_accuracy: 1.0000\n",
            "Epoch 83/100\n",
            "4/4 [==============================] - 119s 28s/step - loss: 0.0042 - accuracy: 1.0000 - val_loss: 0.0033 - val_accuracy: 1.0000\n",
            "Epoch 84/100\n",
            "4/4 [==============================] - 119s 28s/step - loss: 0.0032 - accuracy: 1.0000 - val_loss: 0.0025 - val_accuracy: 1.0000\n",
            "Epoch 85/100\n",
            "4/4 [==============================] - 119s 36s/step - loss: 0.0024 - accuracy: 1.0000 - val_loss: 0.0019 - val_accuracy: 1.0000\n",
            "Epoch 86/100\n",
            "4/4 [==============================] - 118s 28s/step - loss: 0.0021 - accuracy: 1.0000 - val_loss: 0.0015 - val_accuracy: 1.0000\n",
            "Epoch 87/100\n",
            "4/4 [==============================] - 118s 28s/step - loss: 0.0018 - accuracy: 1.0000 - val_loss: 0.0014 - val_accuracy: 1.0000\n",
            "Epoch 88/100\n",
            "4/4 [==============================] - 119s 28s/step - loss: 0.0015 - accuracy: 1.0000 - val_loss: 0.0012 - val_accuracy: 1.0000\n",
            "Epoch 89/100\n",
            "4/4 [==============================] - 118s 28s/step - loss: 0.0014 - accuracy: 1.0000 - val_loss: 0.0011 - val_accuracy: 1.0000\n",
            "Epoch 90/100\n",
            "4/4 [==============================] - 118s 28s/step - loss: 0.0012 - accuracy: 1.0000 - val_loss: 9.3581e-04 - val_accuracy: 1.0000\n",
            "Epoch 91/100\n",
            "4/4 [==============================] - 119s 36s/step - loss: 0.0011 - accuracy: 1.0000 - val_loss: 9.0187e-04 - val_accuracy: 1.0000\n",
            "Epoch 92/100\n",
            "4/4 [==============================] - 119s 36s/step - loss: 9.8834e-04 - accuracy: 1.0000 - val_loss: 8.2144e-04 - val_accuracy: 1.0000\n",
            "Epoch 93/100\n",
            "4/4 [==============================] - 118s 28s/step - loss: 9.1811e-04 - accuracy: 1.0000 - val_loss: 7.7897e-04 - val_accuracy: 1.0000\n",
            "Epoch 94/100\n",
            "4/4 [==============================] - 119s 28s/step - loss: 8.5876e-04 - accuracy: 1.0000 - val_loss: 6.7902e-04 - val_accuracy: 1.0000\n",
            "Epoch 95/100\n",
            "4/4 [==============================] - 119s 36s/step - loss: 7.6003e-04 - accuracy: 1.0000 - val_loss: 6.5820e-04 - val_accuracy: 1.0000\n",
            "Epoch 96/100\n",
            "4/4 [==============================] - 119s 36s/step - loss: 7.2260e-04 - accuracy: 1.0000 - val_loss: 5.9820e-04 - val_accuracy: 1.0000\n",
            "Epoch 97/100\n",
            "4/4 [==============================] - 120s 28s/step - loss: 6.6409e-04 - accuracy: 1.0000 - val_loss: 5.3816e-04 - val_accuracy: 1.0000\n",
            "Epoch 98/100\n",
            "4/4 [==============================] - 118s 36s/step - loss: 6.0938e-04 - accuracy: 1.0000 - val_loss: 5.1608e-04 - val_accuracy: 1.0000\n",
            "Epoch 99/100\n",
            "4/4 [==============================] - 119s 28s/step - loss: 5.6945e-04 - accuracy: 1.0000 - val_loss: 5.1963e-04 - val_accuracy: 1.0000\n",
            "Epoch 100/100\n",
            "4/4 [==============================] - 119s 28s/step - loss: 5.3961e-04 - accuracy: 1.0000 - val_loss: 5.3096e-04 - val_accuracy: 1.0000\n"
          ],
          "name": "stdout"
        },
        {
          "output_type": "execute_result",
          "data": {
            "text/plain": [
              "<tensorflow.python.keras.callbacks.History at 0x7f9c3ab09890>"
            ]
          },
          "metadata": {
            "tags": []
          },
          "execution_count": 7
        }
      ]
    },
    {
      "cell_type": "code",
      "metadata": {
        "id": "LFv-MPjc6r7H",
        "colab": {
          "base_uri": "https://localhost:8080/"
        },
        "outputId": "8d9be776-00e3-42af-c7b6-a782ae7c17b7"
      },
      "source": [
        "print(\"-- Evaluate --\")\n",
        "scores = model.evaluate(test_generator)\n",
        "print(\"%s: %.2f%%\" %(model.metrics_names[1], scores[1]*100))"
      ],
      "execution_count": 8,
      "outputs": [
        {
          "output_type": "stream",
          "text": [
            "-- Evaluate --\n",
            "1/1 [==============================] - 6s 6s/step - loss: 5.3096e-04 - accuracy: 1.0000\n",
            "accuracy: 100.00%\n"
          ],
          "name": "stdout"
        }
      ]
    },
    {
      "cell_type": "code",
      "metadata": {
        "id": "E2CapNMx61Xt",
        "colab": {
          "base_uri": "https://localhost:8080/"
        },
        "outputId": "64155564-6192-418f-9f18-dd2329483f90"
      },
      "source": [
        "print(\"-- Predict --\")\n",
        "output = model.predict(test_generator)\n",
        "np.set_printoptions(formatter={'float': lambda x: \"{0:0.3f}\".format(x)})\n",
        "print(test_generator.class_indices)\n",
        "print(output)"
      ],
      "execution_count": 9,
      "outputs": [
        {
          "output_type": "stream",
          "text": [
            "-- Predict --\n",
            "{'0': 0, '1': 1, '2': 2, '3': 3, '4': 4, '5': 5, '6': 6, '7': 7, '8': 8, '9': 9}\n",
            "[[0.000 0.000 0.000 1.000 0.000 0.000 0.000 0.000 0.000 0.000]\n",
            " [0.000 0.000 0.000 0.000 0.000 1.000 0.000 0.000 0.000 0.000]\n",
            " [0.000 0.000 0.000 0.000 0.000 0.000 0.000 0.000 0.000 1.000]\n",
            " [0.000 0.000 1.000 0.000 0.000 0.000 0.000 0.000 0.000 0.000]\n",
            " [0.000 0.000 0.000 0.000 0.000 1.000 0.000 0.000 0.000 0.000]\n",
            " [0.000 0.000 0.000 0.000 0.000 0.000 0.999 0.000 0.000 0.000]\n",
            " [0.000 0.000 0.000 0.000 1.000 0.000 0.000 0.000 0.000 0.000]\n",
            " [0.000 0.000 0.000 0.000 0.000 0.000 0.000 1.000 0.000 0.000]\n",
            " [0.000 0.000 0.000 0.000 0.000 0.000 0.000 0.000 0.000 1.000]\n",
            " [0.000 0.000 0.000 0.000 1.000 0.000 0.000 0.000 0.000 0.000]\n",
            " [0.000 0.000 0.000 0.000 0.000 0.000 0.000 1.000 0.000 0.000]\n",
            " [0.000 0.000 0.000 0.000 0.000 0.000 0.004 0.000 0.995 0.000]\n",
            " [0.000 0.000 0.000 0.000 0.000 0.000 0.004 0.000 0.996 0.000]\n",
            " [0.000 0.000 1.000 0.000 0.000 0.000 0.000 0.000 0.000 0.000]\n",
            " [0.000 0.000 0.000 1.000 0.000 0.000 0.000 0.000 0.000 0.000]\n",
            " [1.000 0.000 0.000 0.000 0.000 0.000 0.000 0.000 0.000 0.000]\n",
            " [1.000 0.000 0.000 0.000 0.000 0.000 0.000 0.000 0.000 0.000]\n",
            " [0.000 0.000 0.000 0.000 0.000 0.000 0.999 0.000 0.001 0.000]\n",
            " [0.000 1.000 0.000 0.000 0.000 0.000 0.000 0.000 0.000 0.000]\n",
            " [0.000 1.000 0.000 0.000 0.000 0.000 0.000 0.000 0.000 0.000]]\n"
          ],
          "name": "stdout"
        }
      ]
    },
    {
      "cell_type": "code",
      "metadata": {
        "id": "tgpq2mw87JUN",
        "colab": {
          "base_uri": "https://localhost:8080/"
        },
        "outputId": "591c7f31-3109-4e1c-83d3-17671a18f87b"
      },
      "source": [
        "for i in range(0, 10):\n",
        "  print(\"Result:\", i+1)\n",
        "  print(output[i])\n",
        "  print(\"\\n\")"
      ],
      "execution_count": 10,
      "outputs": [
        {
          "output_type": "stream",
          "text": [
            "Result: 1\n",
            "[0.000 0.000 0.000 1.000 0.000 0.000 0.000 0.000 0.000 0.000]\n",
            "\n",
            "\n",
            "Result: 2\n",
            "[0.000 0.000 0.000 0.000 0.000 1.000 0.000 0.000 0.000 0.000]\n",
            "\n",
            "\n",
            "Result: 3\n",
            "[0.000 0.000 0.000 0.000 0.000 0.000 0.000 0.000 0.000 1.000]\n",
            "\n",
            "\n",
            "Result: 4\n",
            "[0.000 0.000 1.000 0.000 0.000 0.000 0.000 0.000 0.000 0.000]\n",
            "\n",
            "\n",
            "Result: 5\n",
            "[0.000 0.000 0.000 0.000 0.000 1.000 0.000 0.000 0.000 0.000]\n",
            "\n",
            "\n",
            "Result: 6\n",
            "[0.000 0.000 0.000 0.000 0.000 0.000 0.999 0.000 0.000 0.000]\n",
            "\n",
            "\n",
            "Result: 7\n",
            "[0.000 0.000 0.000 0.000 1.000 0.000 0.000 0.000 0.000 0.000]\n",
            "\n",
            "\n",
            "Result: 8\n",
            "[0.000 0.000 0.000 0.000 0.000 0.000 0.000 1.000 0.000 0.000]\n",
            "\n",
            "\n",
            "Result: 9\n",
            "[0.000 0.000 0.000 0.000 0.000 0.000 0.000 0.000 0.000 1.000]\n",
            "\n",
            "\n",
            "Result: 10\n",
            "[0.000 0.000 0.000 0.000 1.000 0.000 0.000 0.000 0.000 0.000]\n",
            "\n",
            "\n"
          ],
          "name": "stdout"
        }
      ]
    }
  ]
}