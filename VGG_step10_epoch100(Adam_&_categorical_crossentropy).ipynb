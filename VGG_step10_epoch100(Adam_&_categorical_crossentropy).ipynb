{
  "nbformat": 4,
  "nbformat_minor": 0,
  "metadata": {
    "colab": {
      "name": "VGG_step10_epoch100(Adam & categorical_crossentropy).ipynb",
      "provenance": [],
      "collapsed_sections": [],
      "authorship_tag": "ABX9TyMS29Hc1g32BqsKAxOEyEXN",
      "include_colab_link": true
    },
    "kernelspec": {
      "display_name": "Python 3",
      "name": "python3"
    },
    "language_info": {
      "name": "python"
    }
  },
  "cells": [
    {
      "cell_type": "markdown",
      "metadata": {
        "id": "view-in-github",
        "colab_type": "text"
      },
      "source": [
        "<a href=\"https://colab.research.google.com/github/toast-ceo/Lab_Room/blob/main/VGG_step10_epoch100(Adam_%26_categorical_crossentropy).ipynb\" target=\"_parent\"><img src=\"https://colab.research.google.com/assets/colab-badge.svg\" alt=\"Open In Colab\"/></a>"
      ]
    },
    {
      "cell_type": "code",
      "metadata": {
        "colab": {
          "base_uri": "https://localhost:8080/"
        },
        "id": "ODuFRZq56L6O",
        "outputId": "374a2559-f628-41f8-fdae-3797750fc187"
      },
      "source": [
        "# vgg 19 훈련\n",
        "\n",
        "from google.colab import drive\n",
        "drive.mount('face550_step')\n",
        "import tensorflow as tf\n",
        "import numpy as np\n",
        "import keras\n",
        "import cv2\n",
        "\n",
        "from keras.applications.vgg19 import VGG19\n",
        "from keras.models import Sequential\n",
        "from keras.layers import Dense\n",
        "from keras.layers import Flatten\n",
        "from keras.layers.convolutional import Conv2D\n",
        "from keras.layers.convolutional import MaxPooling2D\n",
        "from keras.preprocessing.image import ImageDataGenerator\n",
        "from sklearn.model_selection import train_test_split\n"
      ],
      "execution_count": 1,
      "outputs": [
        {
          "output_type": "stream",
          "text": [
            "Mounted at face550_step\n"
          ],
          "name": "stdout"
        }
      ]
    },
    {
      "cell_type": "code",
      "metadata": {
        "colab": {
          "base_uri": "https://localhost:8080/"
        },
        "id": "kpmX7B5g6j9T",
        "outputId": "17baf712-3d79-4f78-d267-e9edf0fb4b64"
      },
      "source": [
        "numberOfClass = 30\n",
        "pictureWeightHeightSize = 224\n",
        "\n",
        "train_datagen = ImageDataGenerator(rescale=1./255)\n",
        "\n",
        "train_generator = train_datagen.flow_from_directory(\n",
        "        '/content/face550_step/MyDrive/face550_step/step10_train/',\n",
        "        target_size=(pictureWeightHeightSize, pictureWeightHeightSize),\n",
        "        batch_size=numberOfClass,\n",
        "        class_mode='categorical')\n",
        "\n",
        "test_datagen = ImageDataGenerator(rescale=1./255)\n",
        "\n",
        "test_generator = test_datagen.flow_from_directory(\n",
        "        '/content/face550_step/MyDrive/face550_step/step1_test/',\n",
        "        target_size=(pictureWeightHeightSize, pictureWeightHeightSize),    \n",
        "        batch_size=numberOfClass,\n",
        "        class_mode='categorical')"
      ],
      "execution_count": 2,
      "outputs": [
        {
          "output_type": "stream",
          "text": [
            "Found 50 images belonging to 5 classes.\n",
            "Found 10 images belonging to 5 classes.\n"
          ],
          "name": "stdout"
        }
      ]
    },
    {
      "cell_type": "code",
      "metadata": {
        "id": "JsYYeRQ5r8hQ"
      },
      "source": [
        "input_layer = tf.keras.layers.Input(shape=(224, 224, 3))\n",
        "\n",
        "vgg_block01 = tf.keras.layers.Conv2D(64 , (3,3), padding= 'SAME', activation=\"relu\")(input_layer)\n",
        "vgg_block01 = tf.keras.layers.Conv2D(64 , (3,3), padding= 'SAME', activation=\"relu\")(vgg_block01)\n",
        "vgg_block01 = tf.keras.layers.MaxPool2D((2,2))(vgg_block01)\n",
        "\n",
        "\n",
        "vgg_block02 = tf.keras.layers.Conv2D(128 , (3,3), padding= 'SAME', activation=\"relu\")(vgg_block01)\n",
        "vgg_block02 = tf.keras.layers.Conv2D(128, (3,3), padding= 'SAME', activation=\"relu\")(vgg_block02)\n",
        "vgg_block02 = tf.keras.layers.MaxPool2D((2,2))(vgg_block02)\n",
        "\n",
        "\n",
        "vgg_block03 = tf.keras.layers.Conv2D(256, (3,3), padding= 'SAME', activation=\"relu\")(vgg_block02)\n",
        "vgg_block03 = tf.keras.layers.Conv2D(256, (3,3), padding= 'SAME', activation=\"relu\")(vgg_block03)\n",
        "vgg_block03 = tf.keras.layers.Conv2D(256, (3,3), padding= 'SAME', activation=\"relu\")(vgg_block03)\n",
        "vgg_block03 = tf.keras.layers.MaxPool2D((2,2))(vgg_block03)\n",
        "\n",
        "vgg_block04 = tf.keras.layers.Conv2D(512, (3,3), padding= 'SAME', activation=\"relu\")(vgg_block03)\n",
        "vgg_block04 = tf.keras.layers.Conv2D(512, (3,3), padding= 'SAME', activation=\"relu\")(vgg_block04)\n",
        "vgg_block04 = tf.keras.layers.Conv2D(512, (3,3), padding= 'SAME', activation=\"relu\")(vgg_block04)\n",
        "vgg_block04 = tf.keras.layers.MaxPool2D((2,2))(vgg_block04)\n",
        "\n",
        "vgg_block05 = tf.keras.layers.Conv2D(512, (3,3), padding= 'SAME', activation=\"relu\")(vgg_block04)\n",
        "vgg_block05 = tf.keras.layers.Conv2D(512, (3,3), padding= 'SAME', activation=\"relu\")(vgg_block05)\n",
        "vgg_block05 = tf.keras.layers.Conv2D(512, (3,3), padding= 'SAME', activation=\"relu\")(vgg_block05)\n",
        "vgg_block05 = tf.keras.layers.MaxPool2D((2,2))(vgg_block05)\n"
      ],
      "execution_count": 3,
      "outputs": []
    },
    {
      "cell_type": "code",
      "metadata": {
        "id": "NOYfQLnnsBHg"
      },
      "source": [
        "flatten = tf.keras.layers.Flatten()(vgg_block05)\n",
        "dense01 = tf.keras.layers.Dense(512, activation='relu')(flatten)\n",
        "output = tf.keras.layers.Dense(5, activation='softmax')(dense01)"
      ],
      "execution_count": 4,
      "outputs": []
    },
    {
      "cell_type": "code",
      "metadata": {
        "id": "hD1UWBZosJzA"
      },
      "source": [
        "\n",
        "model = tf.keras.models.Model(input_layer, output)\n"
      ],
      "execution_count": 5,
      "outputs": []
    },
    {
      "cell_type": "code",
      "metadata": {
        "colab": {
          "base_uri": "https://localhost:8080/"
        },
        "id": "1HQyxSaOsLB4",
        "outputId": "4320bedd-0702-4530-891d-12c18ff02b65"
      },
      "source": [
        "model.compile(optimizer='Adam', loss='categorical_crossentropy', metrics=['accuracy'])\n",
        "model.summary()"
      ],
      "execution_count": 6,
      "outputs": [
        {
          "output_type": "stream",
          "text": [
            "Model: \"model\"\n",
            "_________________________________________________________________\n",
            "Layer (type)                 Output Shape              Param #   \n",
            "=================================================================\n",
            "input_1 (InputLayer)         [(None, 224, 224, 3)]     0         \n",
            "_________________________________________________________________\n",
            "conv2d (Conv2D)              (None, 224, 224, 64)      1792      \n",
            "_________________________________________________________________\n",
            "conv2d_1 (Conv2D)            (None, 224, 224, 64)      36928     \n",
            "_________________________________________________________________\n",
            "max_pooling2d (MaxPooling2D) (None, 112, 112, 64)      0         \n",
            "_________________________________________________________________\n",
            "conv2d_2 (Conv2D)            (None, 112, 112, 128)     73856     \n",
            "_________________________________________________________________\n",
            "conv2d_3 (Conv2D)            (None, 112, 112, 128)     147584    \n",
            "_________________________________________________________________\n",
            "max_pooling2d_1 (MaxPooling2 (None, 56, 56, 128)       0         \n",
            "_________________________________________________________________\n",
            "conv2d_4 (Conv2D)            (None, 56, 56, 256)       295168    \n",
            "_________________________________________________________________\n",
            "conv2d_5 (Conv2D)            (None, 56, 56, 256)       590080    \n",
            "_________________________________________________________________\n",
            "conv2d_6 (Conv2D)            (None, 56, 56, 256)       590080    \n",
            "_________________________________________________________________\n",
            "max_pooling2d_2 (MaxPooling2 (None, 28, 28, 256)       0         \n",
            "_________________________________________________________________\n",
            "conv2d_7 (Conv2D)            (None, 28, 28, 512)       1180160   \n",
            "_________________________________________________________________\n",
            "conv2d_8 (Conv2D)            (None, 28, 28, 512)       2359808   \n",
            "_________________________________________________________________\n",
            "conv2d_9 (Conv2D)            (None, 28, 28, 512)       2359808   \n",
            "_________________________________________________________________\n",
            "max_pooling2d_3 (MaxPooling2 (None, 14, 14, 512)       0         \n",
            "_________________________________________________________________\n",
            "conv2d_10 (Conv2D)           (None, 14, 14, 512)       2359808   \n",
            "_________________________________________________________________\n",
            "conv2d_11 (Conv2D)           (None, 14, 14, 512)       2359808   \n",
            "_________________________________________________________________\n",
            "conv2d_12 (Conv2D)           (None, 14, 14, 512)       2359808   \n",
            "_________________________________________________________________\n",
            "max_pooling2d_4 (MaxPooling2 (None, 7, 7, 512)         0         \n",
            "_________________________________________________________________\n",
            "flatten (Flatten)            (None, 25088)             0         \n",
            "_________________________________________________________________\n",
            "dense (Dense)                (None, 512)               12845568  \n",
            "_________________________________________________________________\n",
            "dense_1 (Dense)              (None, 5)                 2565      \n",
            "=================================================================\n",
            "Total params: 27,562,821\n",
            "Trainable params: 27,562,821\n",
            "Non-trainable params: 0\n",
            "_________________________________________________________________\n"
          ],
          "name": "stdout"
        }
      ]
    },
    {
      "cell_type": "code",
      "metadata": {
        "colab": {
          "base_uri": "https://localhost:8080/"
        },
        "id": "5SnVZrW6sOOI",
        "outputId": "400bb844-6f8c-4a44-d086-840f41f534f2"
      },
      "source": [
        "model.fit(train_generator, epochs=100, validation_data=test_generator)"
      ],
      "execution_count": 11,
      "outputs": [
        {
          "output_type": "stream",
          "text": [
            "Epoch 1/100\n",
            "2/2 [==============================] - 61s 38s/step - loss: 0.0019 - accuracy: 1.0000 - val_loss: 3.7842e-05 - val_accuracy: 1.0000\n",
            "Epoch 2/100\n",
            "2/2 [==============================] - 62s 28s/step - loss: 0.9651 - accuracy: 0.9200 - val_loss: 0.0355 - val_accuracy: 1.0000\n",
            "Epoch 3/100\n",
            "2/2 [==============================] - 62s 39s/step - loss: 0.2357 - accuracy: 0.8400 - val_loss: 0.3030 - val_accuracy: 1.0000\n",
            "Epoch 4/100\n",
            "2/2 [==============================] - 63s 26s/step - loss: 0.2963 - accuracy: 1.0000 - val_loss: 0.2398 - val_accuracy: 1.0000\n",
            "Epoch 5/100\n",
            "2/2 [==============================] - 63s 27s/step - loss: 0.2138 - accuracy: 1.0000 - val_loss: 0.0184 - val_accuracy: 1.0000\n",
            "Epoch 6/100\n",
            "2/2 [==============================] - 61s 37s/step - loss: 0.0097 - accuracy: 1.0000 - val_loss: 5.7339e-06 - val_accuracy: 1.0000\n",
            "Epoch 7/100\n",
            "2/2 [==============================] - 63s 26s/step - loss: 0.0821 - accuracy: 0.9400 - val_loss: 0.0000e+00 - val_accuracy: 1.0000\n",
            "Epoch 8/100\n",
            "2/2 [==============================] - 63s 39s/step - loss: 0.0000e+00 - accuracy: 1.0000 - val_loss: 5.7220e-07 - val_accuracy: 1.0000\n",
            "Epoch 9/100\n",
            "2/2 [==============================] - 62s 39s/step - loss: 4.2418e-05 - accuracy: 1.0000 - val_loss: 0.0019 - val_accuracy: 1.0000\n",
            "Epoch 10/100\n",
            "2/2 [==============================] - 64s 39s/step - loss: 0.0050 - accuracy: 1.0000 - val_loss: 0.0048 - val_accuracy: 1.0000\n",
            "Epoch 11/100\n",
            "2/2 [==============================] - 63s 27s/step - loss: 0.0038 - accuracy: 1.0000 - val_loss: 1.6560e-04 - val_accuracy: 1.0000\n",
            "Epoch 12/100\n",
            "2/2 [==============================] - 64s 40s/step - loss: 9.4200e-05 - accuracy: 1.0000 - val_loss: 2.3842e-07 - val_accuracy: 1.0000\n",
            "Epoch 13/100\n",
            "2/2 [==============================] - 64s 27s/step - loss: 1.6451e-07 - accuracy: 1.0000 - val_loss: 0.0000e+00 - val_accuracy: 1.0000\n",
            "Epoch 14/100\n",
            "2/2 [==============================] - 64s 39s/step - loss: 0.0000e+00 - accuracy: 1.0000 - val_loss: 0.0000e+00 - val_accuracy: 1.0000\n",
            "Epoch 15/100\n",
            "2/2 [==============================] - 62s 38s/step - loss: 0.0000e+00 - accuracy: 1.0000 - val_loss: 0.0000e+00 - val_accuracy: 1.0000\n",
            "Epoch 16/100\n",
            "2/2 [==============================] - 63s 38s/step - loss: 0.0000e+00 - accuracy: 1.0000 - val_loss: 0.0000e+00 - val_accuracy: 1.0000\n",
            "Epoch 17/100\n",
            "2/2 [==============================] - 62s 27s/step - loss: 1.1921e-08 - accuracy: 1.0000 - val_loss: 0.0000e+00 - val_accuracy: 1.0000\n",
            "Epoch 18/100\n",
            "2/2 [==============================] - 62s 26s/step - loss: 1.5497e-07 - accuracy: 1.0000 - val_loss: 0.0000e+00 - val_accuracy: 1.0000\n",
            "Epoch 19/100\n",
            "2/2 [==============================] - 63s 27s/step - loss: 2.1458e-08 - accuracy: 1.0000 - val_loss: 0.0000e+00 - val_accuracy: 1.0000\n",
            "Epoch 20/100\n",
            "2/2 [==============================] - 61s 37s/step - loss: 0.0000e+00 - accuracy: 1.0000 - val_loss: 0.0000e+00 - val_accuracy: 1.0000\n",
            "Epoch 21/100\n",
            "2/2 [==============================] - 63s 28s/step - loss: 0.0000e+00 - accuracy: 1.0000 - val_loss: 7.4128e-04 - val_accuracy: 1.0000\n",
            "Epoch 22/100\n",
            "2/2 [==============================] - 64s 27s/step - loss: 0.0016 - accuracy: 1.0000 - val_loss: 0.0000e+00 - val_accuracy: 1.0000\n",
            "Epoch 23/100\n",
            "2/2 [==============================] - 64s 27s/step - loss: 1.0776e-06 - accuracy: 1.0000 - val_loss: 0.0019 - val_accuracy: 1.0000\n",
            "Epoch 24/100\n",
            "2/2 [==============================] - 64s 27s/step - loss: 13.2534 - accuracy: 0.9400 - val_loss: 2.3842e-08 - val_accuracy: 1.0000\n",
            "Epoch 25/100\n",
            "2/2 [==============================] - 63s 39s/step - loss: 12.9443 - accuracy: 0.6400 - val_loss: 2.3105 - val_accuracy: 0.4000\n",
            "Epoch 26/100\n",
            "2/2 [==============================] - 62s 27s/step - loss: 3.0570 - accuracy: 0.4800 - val_loss: 2.3656 - val_accuracy: 0.4000\n",
            "Epoch 27/100\n",
            "2/2 [==============================] - 63s 39s/step - loss: 2.0415 - accuracy: 0.4000 - val_loss: 1.6245 - val_accuracy: 0.6000\n",
            "Epoch 28/100\n",
            "2/2 [==============================] - 62s 38s/step - loss: 1.5473 - accuracy: 0.4800 - val_loss: 1.4750 - val_accuracy: 0.4000\n",
            "Epoch 29/100\n",
            "2/2 [==============================] - 64s 41s/step - loss: 1.4206 - accuracy: 0.3800 - val_loss: 2.6501 - val_accuracy: 0.6000\n",
            "Epoch 30/100\n",
            "2/2 [==============================] - 63s 39s/step - loss: 1.9340 - accuracy: 0.4400 - val_loss: 1.2872 - val_accuracy: 0.3000\n",
            "Epoch 31/100\n",
            "2/2 [==============================] - 63s 38s/step - loss: 1.1583 - accuracy: 0.3000 - val_loss: 0.9802 - val_accuracy: 0.4000\n",
            "Epoch 32/100\n",
            "2/2 [==============================] - 62s 37s/step - loss: 0.8818 - accuracy: 0.6000 - val_loss: 1.3504 - val_accuracy: 0.6000\n",
            "Epoch 33/100\n",
            "2/2 [==============================] - 64s 27s/step - loss: 1.2683 - accuracy: 0.7000 - val_loss: 0.6606 - val_accuracy: 0.8000\n",
            "Epoch 34/100\n",
            "2/2 [==============================] - 62s 38s/step - loss: 0.5944 - accuracy: 0.7400 - val_loss: 0.1844 - val_accuracy: 1.0000\n",
            "Epoch 35/100\n",
            "2/2 [==============================] - 63s 27s/step - loss: 0.0834 - accuracy: 1.0000 - val_loss: 0.3441 - val_accuracy: 0.8000\n",
            "Epoch 36/100\n",
            "2/2 [==============================] - 62s 26s/step - loss: 10.4113 - accuracy: 0.6800 - val_loss: 3.5667 - val_accuracy: 0.6000\n",
            "Epoch 37/100\n",
            "2/2 [==============================] - 62s 27s/step - loss: 2.3008 - accuracy: 0.6000 - val_loss: 1.6617 - val_accuracy: 0.0000e+00\n",
            "Epoch 38/100\n",
            "2/2 [==============================] - 63s 39s/step - loss: 1.6639 - accuracy: 0.0000e+00 - val_loss: 1.6138 - val_accuracy: 0.2000\n",
            "Epoch 39/100\n",
            "2/2 [==============================] - 63s 27s/step - loss: 1.6086 - accuracy: 0.2000 - val_loss: 1.3995 - val_accuracy: 0.4000\n",
            "Epoch 40/100\n",
            "2/2 [==============================] - 63s 39s/step - loss: 2.3010 - accuracy: 0.4200 - val_loss: 1.4159 - val_accuracy: 0.6000\n",
            "Epoch 41/100\n",
            "2/2 [==============================] - 62s 27s/step - loss: 1.4778 - accuracy: 0.6600 - val_loss: 1.5987 - val_accuracy: 0.2000\n",
            "Epoch 42/100\n",
            "2/2 [==============================] - 63s 27s/step - loss: 1.6052 - accuracy: 0.2200 - val_loss: 1.5829 - val_accuracy: 0.4000\n",
            "Epoch 43/100\n",
            "2/2 [==============================] - 63s 39s/step - loss: 1.5655 - accuracy: 0.4000 - val_loss: 1.4637 - val_accuracy: 0.6000\n",
            "Epoch 44/100\n",
            "2/2 [==============================] - 64s 39s/step - loss: 1.4286 - accuracy: 0.4800 - val_loss: 1.0462 - val_accuracy: 0.6000\n",
            "Epoch 45/100\n",
            "2/2 [==============================] - 65s 39s/step - loss: 1.0271 - accuracy: 0.6800 - val_loss: 0.6502 - val_accuracy: 1.0000\n",
            "Epoch 46/100\n",
            "2/2 [==============================] - 62s 27s/step - loss: 0.6550 - accuracy: 0.8600 - val_loss: 0.5769 - val_accuracy: 0.6000\n",
            "Epoch 47/100\n",
            "2/2 [==============================] - 61s 38s/step - loss: 0.3836 - accuracy: 0.8600 - val_loss: 0.2722 - val_accuracy: 0.8000\n",
            "Epoch 48/100\n",
            "2/2 [==============================] - 62s 28s/step - loss: 0.2505 - accuracy: 0.8600 - val_loss: 1.1171 - val_accuracy: 0.8000\n",
            "Epoch 49/100\n",
            "2/2 [==============================] - 63s 40s/step - loss: 1.4054 - accuracy: 0.5600 - val_loss: 1.5393 - val_accuracy: 0.3000\n",
            "Epoch 50/100\n",
            "2/2 [==============================] - 64s 27s/step - loss: 1.4936 - accuracy: 0.3600 - val_loss: 0.9181 - val_accuracy: 0.6000\n",
            "Epoch 51/100\n",
            "2/2 [==============================] - 63s 27s/step - loss: 0.6277 - accuracy: 0.7400 - val_loss: 1.0272 - val_accuracy: 0.8000\n",
            "Epoch 52/100\n",
            "2/2 [==============================] - 63s 38s/step - loss: 4.6286 - accuracy: 0.6800 - val_loss: 0.9169 - val_accuracy: 0.8000\n",
            "Epoch 53/100\n",
            "2/2 [==============================] - 63s 39s/step - loss: 1.1237 - accuracy: 0.6400 - val_loss: 1.0538 - val_accuracy: 0.6000\n",
            "Epoch 54/100\n",
            "2/2 [==============================] - 64s 26s/step - loss: 0.9611 - accuracy: 0.6000 - val_loss: 3.4761 - val_accuracy: 0.8000\n",
            "Epoch 55/100\n",
            "2/2 [==============================] - 64s 27s/step - loss: 2.4117 - accuracy: 0.8000 - val_loss: 0.7518 - val_accuracy: 0.8000\n",
            "Epoch 56/100\n",
            "2/2 [==============================] - 63s 26s/step - loss: 0.7116 - accuracy: 0.8000 - val_loss: 0.3822 - val_accuracy: 0.8000\n",
            "Epoch 57/100\n",
            "2/2 [==============================] - 64s 39s/step - loss: 0.4095 - accuracy: 0.7800 - val_loss: 0.0624 - val_accuracy: 1.0000\n",
            "Epoch 58/100\n",
            "2/2 [==============================] - 63s 28s/step - loss: 0.0980 - accuracy: 1.0000 - val_loss: 8.2974e-05 - val_accuracy: 1.0000\n",
            "Epoch 59/100\n",
            "2/2 [==============================] - 64s 27s/step - loss: 8.4363e-05 - accuracy: 1.0000 - val_loss: 3.5763e-08 - val_accuracy: 1.0000\n",
            "Epoch 60/100\n",
            "2/2 [==============================] - 64s 28s/step - loss: 1.5259e-07 - accuracy: 1.0000 - val_loss: 2.3842e-08 - val_accuracy: 1.0000\n",
            "Epoch 61/100\n",
            "2/2 [==============================] - 64s 40s/step - loss: 9.4694e-05 - accuracy: 1.0000 - val_loss: 2.3991e-04 - val_accuracy: 1.0000\n",
            "Epoch 62/100\n",
            "2/2 [==============================] - 63s 39s/step - loss: 2.5677e-06 - accuracy: 1.0000 - val_loss: 0.0000e+00 - val_accuracy: 1.0000\n",
            "Epoch 63/100\n",
            "2/2 [==============================] - 63s 28s/step - loss: 0.0000e+00 - accuracy: 1.0000 - val_loss: 0.0000e+00 - val_accuracy: 1.0000\n",
            "Epoch 64/100\n",
            "2/2 [==============================] - 64s 27s/step - loss: 0.0000e+00 - accuracy: 1.0000 - val_loss: 0.0000e+00 - val_accuracy: 1.0000\n",
            "Epoch 65/100\n",
            "2/2 [==============================] - 64s 27s/step - loss: 0.0000e+00 - accuracy: 1.0000 - val_loss: 0.0000e+00 - val_accuracy: 1.0000\n",
            "Epoch 66/100\n",
            "2/2 [==============================] - 65s 40s/step - loss: 0.0000e+00 - accuracy: 1.0000 - val_loss: 0.0000e+00 - val_accuracy: 1.0000\n",
            "Epoch 67/100\n",
            "2/2 [==============================] - 66s 41s/step - loss: 0.0000e+00 - accuracy: 1.0000 - val_loss: 0.0000e+00 - val_accuracy: 1.0000\n",
            "Epoch 68/100\n",
            "2/2 [==============================] - 63s 39s/step - loss: 0.0000e+00 - accuracy: 1.0000 - val_loss: 0.0000e+00 - val_accuracy: 1.0000\n",
            "Epoch 69/100\n",
            "2/2 [==============================] - 63s 39s/step - loss: 0.0000e+00 - accuracy: 1.0000 - val_loss: 0.0000e+00 - val_accuracy: 1.0000\n",
            "Epoch 70/100\n",
            "2/2 [==============================] - 64s 28s/step - loss: 0.0000e+00 - accuracy: 1.0000 - val_loss: 0.0000e+00 - val_accuracy: 1.0000\n",
            "Epoch 71/100\n",
            "2/2 [==============================] - 63s 39s/step - loss: 0.0000e+00 - accuracy: 1.0000 - val_loss: 0.0000e+00 - val_accuracy: 1.0000\n",
            "Epoch 72/100\n",
            "2/2 [==============================] - 64s 40s/step - loss: 0.0000e+00 - accuracy: 1.0000 - val_loss: 0.0000e+00 - val_accuracy: 1.0000\n",
            "Epoch 73/100\n",
            "2/2 [==============================] - 65s 28s/step - loss: 0.0000e+00 - accuracy: 1.0000 - val_loss: 0.0000e+00 - val_accuracy: 1.0000\n",
            "Epoch 74/100\n",
            "2/2 [==============================] - 63s 27s/step - loss: 0.0000e+00 - accuracy: 1.0000 - val_loss: 0.0000e+00 - val_accuracy: 1.0000\n",
            "Epoch 75/100\n",
            "2/2 [==============================] - 63s 27s/step - loss: 0.0000e+00 - accuracy: 1.0000 - val_loss: 0.0000e+00 - val_accuracy: 1.0000\n",
            "Epoch 76/100\n",
            "2/2 [==============================] - 63s 39s/step - loss: 0.0000e+00 - accuracy: 1.0000 - val_loss: 0.0000e+00 - val_accuracy: 1.0000\n",
            "Epoch 77/100\n",
            "2/2 [==============================] - 62s 26s/step - loss: 0.0000e+00 - accuracy: 1.0000 - val_loss: 0.0000e+00 - val_accuracy: 1.0000\n",
            "Epoch 78/100\n",
            "2/2 [==============================] - 63s 38s/step - loss: 0.0000e+00 - accuracy: 1.0000 - val_loss: 0.0000e+00 - val_accuracy: 1.0000\n",
            "Epoch 79/100\n",
            "2/2 [==============================] - 62s 26s/step - loss: 0.0000e+00 - accuracy: 1.0000 - val_loss: 0.0000e+00 - val_accuracy: 1.0000\n",
            "Epoch 80/100\n",
            "2/2 [==============================] - 63s 39s/step - loss: 0.0000e+00 - accuracy: 1.0000 - val_loss: 0.0000e+00 - val_accuracy: 1.0000\n",
            "Epoch 81/100\n",
            "2/2 [==============================] - 63s 39s/step - loss: 0.0000e+00 - accuracy: 1.0000 - val_loss: 0.0000e+00 - val_accuracy: 1.0000\n",
            "Epoch 82/100\n",
            "2/2 [==============================] - 63s 27s/step - loss: 0.0000e+00 - accuracy: 1.0000 - val_loss: 0.0000e+00 - val_accuracy: 1.0000\n",
            "Epoch 83/100\n",
            "2/2 [==============================] - 63s 40s/step - loss: 0.0000e+00 - accuracy: 1.0000 - val_loss: 0.0000e+00 - val_accuracy: 1.0000\n",
            "Epoch 84/100\n",
            "2/2 [==============================] - 63s 39s/step - loss: 0.0000e+00 - accuracy: 1.0000 - val_loss: 0.0000e+00 - val_accuracy: 1.0000\n",
            "Epoch 85/100\n",
            "2/2 [==============================] - 63s 27s/step - loss: 0.0000e+00 - accuracy: 1.0000 - val_loss: 0.0000e+00 - val_accuracy: 1.0000\n",
            "Epoch 86/100\n",
            "2/2 [==============================] - 62s 38s/step - loss: 0.0000e+00 - accuracy: 1.0000 - val_loss: 0.0000e+00 - val_accuracy: 1.0000\n",
            "Epoch 87/100\n",
            "2/2 [==============================] - 62s 26s/step - loss: 0.0000e+00 - accuracy: 1.0000 - val_loss: 0.0000e+00 - val_accuracy: 1.0000\n",
            "Epoch 88/100\n",
            "2/2 [==============================] - 61s 27s/step - loss: 0.0000e+00 - accuracy: 1.0000 - val_loss: 0.0000e+00 - val_accuracy: 1.0000\n",
            "Epoch 89/100\n",
            "2/2 [==============================] - 61s 27s/step - loss: 0.0000e+00 - accuracy: 1.0000 - val_loss: 0.0000e+00 - val_accuracy: 1.0000\n",
            "Epoch 90/100\n",
            "2/2 [==============================] - 62s 26s/step - loss: 0.0000e+00 - accuracy: 1.0000 - val_loss: 0.0000e+00 - val_accuracy: 1.0000\n",
            "Epoch 91/100\n",
            "2/2 [==============================] - 62s 27s/step - loss: 0.0000e+00 - accuracy: 1.0000 - val_loss: 0.0000e+00 - val_accuracy: 1.0000\n",
            "Epoch 92/100\n",
            "2/2 [==============================] - 63s 27s/step - loss: 0.0000e+00 - accuracy: 1.0000 - val_loss: 0.0000e+00 - val_accuracy: 1.0000\n",
            "Epoch 93/100\n",
            "2/2 [==============================] - 61s 26s/step - loss: 0.0000e+00 - accuracy: 1.0000 - val_loss: 0.0000e+00 - val_accuracy: 1.0000\n",
            "Epoch 94/100\n",
            "2/2 [==============================] - 62s 27s/step - loss: 0.0000e+00 - accuracy: 1.0000 - val_loss: 0.0000e+00 - val_accuracy: 1.0000\n",
            "Epoch 95/100\n",
            "2/2 [==============================] - 64s 40s/step - loss: 0.0000e+00 - accuracy: 1.0000 - val_loss: 0.0000e+00 - val_accuracy: 1.0000\n",
            "Epoch 96/100\n",
            "2/2 [==============================] - 63s 27s/step - loss: 0.0000e+00 - accuracy: 1.0000 - val_loss: 0.0000e+00 - val_accuracy: 1.0000\n",
            "Epoch 97/100\n",
            "2/2 [==============================] - 65s 27s/step - loss: 0.0000e+00 - accuracy: 1.0000 - val_loss: 0.0000e+00 - val_accuracy: 1.0000\n",
            "Epoch 98/100\n",
            "2/2 [==============================] - 64s 27s/step - loss: 0.0000e+00 - accuracy: 1.0000 - val_loss: 0.0000e+00 - val_accuracy: 1.0000\n",
            "Epoch 99/100\n",
            "2/2 [==============================] - 64s 40s/step - loss: 0.0000e+00 - accuracy: 1.0000 - val_loss: 0.0000e+00 - val_accuracy: 1.0000\n",
            "Epoch 100/100\n",
            "2/2 [==============================] - 63s 28s/step - loss: 0.0000e+00 - accuracy: 1.0000 - val_loss: 0.0000e+00 - val_accuracy: 1.0000\n"
          ],
          "name": "stdout"
        },
        {
          "output_type": "execute_result",
          "data": {
            "text/plain": [
              "<tensorflow.python.keras.callbacks.History at 0x7ffab8f58c50>"
            ]
          },
          "metadata": {
            "tags": []
          },
          "execution_count": 11
        }
      ]
    },
    {
      "cell_type": "code",
      "metadata": {
        "colab": {
          "base_uri": "https://localhost:8080/"
        },
        "id": "LFv-MPjc6r7H",
        "outputId": "ae54588a-d6e7-416c-bf0b-c452ba96c9b8"
      },
      "source": [
        "print(\"-- Evaluate --\")\n",
        "scores = model.evaluate(test_generator)\n",
        "print(\"%s: %.2f%%\" %(model.metrics_names[1], scores[1]*100))"
      ],
      "execution_count": 8,
      "outputs": [
        {
          "output_type": "stream",
          "text": [
            "-- Evaluate --\n",
            "1/1 [==============================] - 3s 3s/step - loss: 3.5763e-08 - accuracy: 1.0000\n",
            "accuracy: 100.00%\n"
          ],
          "name": "stdout"
        }
      ]
    },
    {
      "cell_type": "code",
      "metadata": {
        "colab": {
          "base_uri": "https://localhost:8080/"
        },
        "id": "E2CapNMx61Xt",
        "outputId": "546583c1-7858-4e3a-fc32-e31a23592379"
      },
      "source": [
        "print(\"-- Predict --\")\n",
        "output = model.predict(test_generator)\n",
        "np.set_printoptions(formatter={'float': lambda x: \"{0:0.3f}\".format(x)})\n",
        "print(test_generator.class_indices)\n",
        "print(output)"
      ],
      "execution_count": 9,
      "outputs": [
        {
          "output_type": "stream",
          "text": [
            "-- Predict --\n",
            "{'0': 0, '1': 1, '2': 2, '3': 3, '4': 4}\n",
            "[[0.000 0.000 0.000 1.000 0.000]\n",
            " [1.000 0.000 0.000 0.000 0.000]\n",
            " [0.000 0.000 0.000 0.000 1.000]\n",
            " [0.000 0.000 0.000 0.000 1.000]\n",
            " [0.000 0.000 0.000 1.000 0.000]\n",
            " [0.000 0.000 1.000 0.000 0.000]\n",
            " [0.000 0.000 1.000 0.000 0.000]\n",
            " [0.000 1.000 0.000 0.000 0.000]\n",
            " [0.000 1.000 0.000 0.000 0.000]\n",
            " [1.000 0.000 0.000 0.000 0.000]]\n"
          ],
          "name": "stdout"
        }
      ]
    },
    {
      "cell_type": "code",
      "metadata": {
        "colab": {
          "base_uri": "https://localhost:8080/"
        },
        "id": "tgpq2mw87JUN",
        "outputId": "d949acd3-7e6c-4e8b-c00c-0ddc4a0e8f14"
      },
      "source": [
        "for i in range(0, 10):\n",
        "  print(\"Result:\", i+1)\n",
        "  print(output[i])\n",
        "  print(\"\\n\")"
      ],
      "execution_count": 10,
      "outputs": [
        {
          "output_type": "stream",
          "text": [
            "Result: 1\n",
            "[0.000 0.000 0.000 1.000 0.000]\n",
            "\n",
            "\n",
            "Result: 2\n",
            "[1.000 0.000 0.000 0.000 0.000]\n",
            "\n",
            "\n",
            "Result: 3\n",
            "[0.000 0.000 0.000 0.000 1.000]\n",
            "\n",
            "\n",
            "Result: 4\n",
            "[0.000 0.000 0.000 0.000 1.000]\n",
            "\n",
            "\n",
            "Result: 5\n",
            "[0.000 0.000 0.000 1.000 0.000]\n",
            "\n",
            "\n",
            "Result: 6\n",
            "[0.000 0.000 1.000 0.000 0.000]\n",
            "\n",
            "\n",
            "Result: 7\n",
            "[0.000 0.000 1.000 0.000 0.000]\n",
            "\n",
            "\n",
            "Result: 8\n",
            "[0.000 1.000 0.000 0.000 0.000]\n",
            "\n",
            "\n",
            "Result: 9\n",
            "[0.000 1.000 0.000 0.000 0.000]\n",
            "\n",
            "\n",
            "Result: 10\n",
            "[1.000 0.000 0.000 0.000 0.000]\n",
            "\n",
            "\n"
          ],
          "name": "stdout"
        }
      ]
    }
  ]
}